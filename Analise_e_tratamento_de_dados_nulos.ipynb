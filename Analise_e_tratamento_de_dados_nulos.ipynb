{
  "nbformat": 4,
  "nbformat_minor": 0,
  "metadata": {
    "colab": {
      "name": "Analise e tratamento de dados nulos",
      "provenance": [],
      "collapsed_sections": [
        "lHTRsFkyuaB8",
        "YJyOJ54Tsvlc",
        "dlWsYixzvYb9",
        "pdh2mSXB4X8y",
        "YXVCi6HMK1Uv",
        "rXJK7PSXK5o9",
        "21Q4xherK37B",
        "s5n1pj9aNnk_",
        "lDlNPFHHCsjJ",
        "6llwkPgZH-y7",
        "ZdozFvxhvxFS",
        "lyQMTu8U1P3O",
        "dmPEiSf6G1CS",
        "oOiwabnDKK5S",
        "FEnJE8c3UazW",
        "x8POX4x3ULcu",
        "8hLxUR7DUEUp",
        "YHV3rdXoUo3Y",
        "HsuMQcUjWSO7"
      ],
      "include_colab_link": true
    },
    "kernelspec": {
      "name": "python3",
      "display_name": "Python 3"
    },
    "language_info": {
      "name": "python"
    }
  },
  "cells": [
    {
      "cell_type": "markdown",
      "metadata": {
        "id": "view-in-github",
        "colab_type": "text"
      },
      "source": [
        "<a href=\"https://colab.research.google.com/github/Tharick15/Data-Science-/blob/main/Analise_e_tratamento_de_dados_nulos.ipynb\" target=\"_parent\"><img src=\"https://colab.research.google.com/assets/colab-badge.svg\" alt=\"Open In Colab\"/></a>"
      ]
    },
    {
      "cell_type": "markdown",
      "source": [
        "# Análise Exploratória de Dados\n",
        "## Análise e tratamento de dados nulos"
      ],
      "metadata": {
        "id": "4nlocg6krrDt"
      }
    },
    {
      "cell_type": "markdown",
      "source": [
        "# Importação dos dados "
      ],
      "metadata": {
        "id": "lHTRsFkyuaB8"
      }
    },
    {
      "cell_type": "code",
      "source": [
        "from google.colab import drive\n",
        "drive.mount('/content/drive')"
      ],
      "metadata": {
        "id": "7VJySUWV33f8",
        "colab": {
          "base_uri": "https://localhost:8080/"
        },
        "outputId": "7b7a486c-5737-4871-a044-c4fd28d7bbf7"
      },
      "execution_count": null,
      "outputs": [
        {
          "output_type": "stream",
          "name": "stdout",
          "text": [
            "Drive already mounted at /content/drive; to attempt to forcibly remount, call drive.mount(\"/content/drive\", force_remount=True).\n"
          ]
        }
      ]
    },
    {
      "cell_type": "markdown",
      "source": [
        "**Objetivo:**\n",
        "  - Aprender a se familiarizar com dados,\n",
        "  - Aplicar técnicas de estatística descritiva,\n",
        "  - Praticar a busca por informações em bases de dados,\n",
        "  - Praticar o uso de ferramentas para visualizar comportamento dos dados (de forma uni e multivariada),\n",
        "  - Familiarizar-se com ferramentas em Python para análise de dados."
      ],
      "metadata": {
        "id": "GIEZAvVWsFWo"
      }
    },
    {
      "cell_type": "markdown",
      "source": [
        "#### Pacotes e Configurações"
      ],
      "metadata": {
        "id": "YJyOJ54Tsvlc"
      }
    },
    {
      "cell_type": "code",
      "source": [
        "!pip install scikit-learn"
      ],
      "metadata": {
        "colab": {
          "base_uri": "https://localhost:8080/"
        },
        "id": "qPUiVTBB7ueb",
        "outputId": "798634e2-a1fc-4e53-d06c-58305ab3a712"
      },
      "execution_count": null,
      "outputs": [
        {
          "output_type": "stream",
          "name": "stdout",
          "text": [
            "Looking in indexes: https://pypi.org/simple, https://us-python.pkg.dev/colab-wheels/public/simple/\n",
            "Requirement already satisfied: scikit-learn in /usr/local/lib/python3.7/dist-packages (1.0.2)\n",
            "Requirement already satisfied: numpy>=1.14.6 in /usr/local/lib/python3.7/dist-packages (from scikit-learn) (1.21.6)\n",
            "Requirement already satisfied: joblib>=0.11 in /usr/local/lib/python3.7/dist-packages (from scikit-learn) (1.1.0)\n",
            "Requirement already satisfied: threadpoolctl>=2.0.0 in /usr/local/lib/python3.7/dist-packages (from scikit-learn) (3.1.0)\n",
            "Requirement already satisfied: scipy>=1.1.0 in /usr/local/lib/python3.7/dist-packages (from scikit-learn) (1.4.1)\n"
          ]
        }
      ]
    },
    {
      "cell_type": "code",
      "execution_count": null,
      "metadata": {
        "id": "egGXf_HNrqGJ"
      },
      "outputs": [],
      "source": [
        "import pandas as pd\n",
        "import seaborn as sns\n",
        "import numpy as np\n",
        "import matplotlib.pyplot as plt\n",
        "import sklearn as sk\n",
        "% matplotlib inline"
      ]
    },
    {
      "cell_type": "markdown",
      "source": [
        "### Carregando Dados"
      ],
      "metadata": {
        "id": "dlWsYixzvYb9"
      }
    },
    {
      "cell_type": "code",
      "source": [
        "survey19 = pd.read_csv('/content/drive/MyDrive/Colab Notebooks/data/it_eu_salary_survey/IT Salary Survey EU 2019.csv')\n",
        "survey20 = pd.read_csv('/content/drive/MyDrive/Colab Notebooks/data/it_eu_salary_survey/IT Salary Survey EU  2020.csv')\n",
        "\n",
        "print('Survey 2019 Shape: {}'.format(survey19.shape))\n",
        "print('Survey 2020 Shape: {}'.format(survey20.shape))"
      ],
      "metadata": {
        "id": "WdPrrwQOvWx0",
        "colab": {
          "base_uri": "https://localhost:8080/"
        },
        "outputId": "34d573f5-4bc5-4404-f5e1-189b2d3bb8f6"
      },
      "execution_count": null,
      "outputs": [
        {
          "output_type": "stream",
          "name": "stdout",
          "text": [
            "Survey 2019 Shape: (991, 23)\n",
            "Survey 2020 Shape: (1253, 23)\n"
          ]
        }
      ]
    },
    {
      "cell_type": "code",
      "source": [
        "survey19['Year'] = 2019\n",
        "survey20['Year'] = 2020"
      ],
      "metadata": {
        "id": "d1JfuaYa1OKo"
      },
      "execution_count": null,
      "outputs": []
    },
    {
      "cell_type": "code",
      "source": [
        "survey19.head()"
      ],
      "metadata": {
        "colab": {
          "base_uri": "https://localhost:8080/"
        },
        "id": "qyYv2scsxx4-",
        "outputId": "26f19c48-0ddd-4c23-d4a7-c3af3a1f8c35"
      },
      "execution_count": null,
      "outputs": [
        {
          "output_type": "execute_result",
          "data": {
            "text/plain": [
              "           Zeitstempel   Age Gender    City Seniority level  \\\n",
              "0  02.12.2019 11:18:26  33.0   Male  Berlin          Senior   \n",
              "1  02.12.2019 11:18:35  29.0   Male  Berlin          Middle   \n",
              "2  02.12.2019 11:18:56   NaN   Male  Berlin          Middle   \n",
              "3  02.12.2019 11:19:08  30.0   Male  Berlin          Senior   \n",
              "4  02.12.2019 11:19:37  32.0   Male  Berlin          Senior   \n",
              "\n",
              "  Position (without seniority)  Years of experience  \\\n",
              "0          Fullstack Developer                   13   \n",
              "1            Backend Developer                    3   \n",
              "2             Mobile Developer                    4   \n",
              "3            Backend Developer                    6   \n",
              "4           Embedded Developer                   10   \n",
              "\n",
              "  Your main technology / programming language  \\\n",
              "0                                         PHP   \n",
              "1                                      Python   \n",
              "2                                      Kotlin   \n",
              "3                                         PHP   \n",
              "4                                       C/C++   \n",
              "\n",
              "   Yearly brutto salary (without bonus and stocks)  Yearly bonus  ...  \\\n",
              "0                                          64000.0        1000.0  ...   \n",
              "1                                          55000.0           NaN  ...   \n",
              "2                                          70000.0           NaN  ...   \n",
              "3                                          63000.0           NaN  ...   \n",
              "4                                          66000.0           NaN  ...   \n",
              "\n",
              "   Number of vacation days  Number of home office days per month  \\\n",
              "0                     29.0                                   4.0   \n",
              "1                     22.0                                   4.0   \n",
              "2                     27.0                                   NaN   \n",
              "3                     24.0                                   NaN   \n",
              "4                     30.0                                   0.0   \n",
              "\n",
              "   Main language at work  Company name   Company size  Company type  \\\n",
              "0                English            NaN        50-100       Startup   \n",
              "1                English            NaN         10-50       Product   \n",
              "2                English            NaN         1000+       Startup   \n",
              "3                English          Auto1      100-1000       Product   \n",
              "4                English         Luxoft        50-100       Product   \n",
              "\n",
              "  Сontract duration Company business sector   0  Year  \n",
              "0         unlimited                 Tourism NaN  2019  \n",
              "1         unlimited   Scientific Activities NaN  2019  \n",
              "2         unlimited                     NaN NaN  2019  \n",
              "3         unlimited               Transport NaN  2019  \n",
              "4         unlimited              Automotive NaN  2019  \n",
              "\n",
              "[5 rows x 24 columns]"
            ],
            "text/html": [
              "\n",
              "  <div id=\"df-a32fc942-c5de-4d99-9882-b0d7342a88be\">\n",
              "    <div class=\"colab-df-container\">\n",
              "      <div>\n",
              "<style scoped>\n",
              "    .dataframe tbody tr th:only-of-type {\n",
              "        vertical-align: middle;\n",
              "    }\n",
              "\n",
              "    .dataframe tbody tr th {\n",
              "        vertical-align: top;\n",
              "    }\n",
              "\n",
              "    .dataframe thead th {\n",
              "        text-align: right;\n",
              "    }\n",
              "</style>\n",
              "<table border=\"1\" class=\"dataframe\">\n",
              "  <thead>\n",
              "    <tr style=\"text-align: right;\">\n",
              "      <th></th>\n",
              "      <th>Zeitstempel</th>\n",
              "      <th>Age</th>\n",
              "      <th>Gender</th>\n",
              "      <th>City</th>\n",
              "      <th>Seniority level</th>\n",
              "      <th>Position (without seniority)</th>\n",
              "      <th>Years of experience</th>\n",
              "      <th>Your main technology / programming language</th>\n",
              "      <th>Yearly brutto salary (without bonus and stocks)</th>\n",
              "      <th>Yearly bonus</th>\n",
              "      <th>...</th>\n",
              "      <th>Number of vacation days</th>\n",
              "      <th>Number of home office days per month</th>\n",
              "      <th>Main language at work</th>\n",
              "      <th>Company name</th>\n",
              "      <th>Company size</th>\n",
              "      <th>Company type</th>\n",
              "      <th>Сontract duration</th>\n",
              "      <th>Company business sector</th>\n",
              "      <th>0</th>\n",
              "      <th>Year</th>\n",
              "    </tr>\n",
              "  </thead>\n",
              "  <tbody>\n",
              "    <tr>\n",
              "      <th>0</th>\n",
              "      <td>02.12.2019 11:18:26</td>\n",
              "      <td>33.0</td>\n",
              "      <td>Male</td>\n",
              "      <td>Berlin</td>\n",
              "      <td>Senior</td>\n",
              "      <td>Fullstack Developer</td>\n",
              "      <td>13</td>\n",
              "      <td>PHP</td>\n",
              "      <td>64000.0</td>\n",
              "      <td>1000.0</td>\n",
              "      <td>...</td>\n",
              "      <td>29.0</td>\n",
              "      <td>4.0</td>\n",
              "      <td>English</td>\n",
              "      <td>NaN</td>\n",
              "      <td>50-100</td>\n",
              "      <td>Startup</td>\n",
              "      <td>unlimited</td>\n",
              "      <td>Tourism</td>\n",
              "      <td>NaN</td>\n",
              "      <td>2019</td>\n",
              "    </tr>\n",
              "    <tr>\n",
              "      <th>1</th>\n",
              "      <td>02.12.2019 11:18:35</td>\n",
              "      <td>29.0</td>\n",
              "      <td>Male</td>\n",
              "      <td>Berlin</td>\n",
              "      <td>Middle</td>\n",
              "      <td>Backend Developer</td>\n",
              "      <td>3</td>\n",
              "      <td>Python</td>\n",
              "      <td>55000.0</td>\n",
              "      <td>NaN</td>\n",
              "      <td>...</td>\n",
              "      <td>22.0</td>\n",
              "      <td>4.0</td>\n",
              "      <td>English</td>\n",
              "      <td>NaN</td>\n",
              "      <td>10-50</td>\n",
              "      <td>Product</td>\n",
              "      <td>unlimited</td>\n",
              "      <td>Scientific Activities</td>\n",
              "      <td>NaN</td>\n",
              "      <td>2019</td>\n",
              "    </tr>\n",
              "    <tr>\n",
              "      <th>2</th>\n",
              "      <td>02.12.2019 11:18:56</td>\n",
              "      <td>NaN</td>\n",
              "      <td>Male</td>\n",
              "      <td>Berlin</td>\n",
              "      <td>Middle</td>\n",
              "      <td>Mobile Developer</td>\n",
              "      <td>4</td>\n",
              "      <td>Kotlin</td>\n",
              "      <td>70000.0</td>\n",
              "      <td>NaN</td>\n",
              "      <td>...</td>\n",
              "      <td>27.0</td>\n",
              "      <td>NaN</td>\n",
              "      <td>English</td>\n",
              "      <td>NaN</td>\n",
              "      <td>1000+</td>\n",
              "      <td>Startup</td>\n",
              "      <td>unlimited</td>\n",
              "      <td>NaN</td>\n",
              "      <td>NaN</td>\n",
              "      <td>2019</td>\n",
              "    </tr>\n",
              "    <tr>\n",
              "      <th>3</th>\n",
              "      <td>02.12.2019 11:19:08</td>\n",
              "      <td>30.0</td>\n",
              "      <td>Male</td>\n",
              "      <td>Berlin</td>\n",
              "      <td>Senior</td>\n",
              "      <td>Backend Developer</td>\n",
              "      <td>6</td>\n",
              "      <td>PHP</td>\n",
              "      <td>63000.0</td>\n",
              "      <td>NaN</td>\n",
              "      <td>...</td>\n",
              "      <td>24.0</td>\n",
              "      <td>NaN</td>\n",
              "      <td>English</td>\n",
              "      <td>Auto1</td>\n",
              "      <td>100-1000</td>\n",
              "      <td>Product</td>\n",
              "      <td>unlimited</td>\n",
              "      <td>Transport</td>\n",
              "      <td>NaN</td>\n",
              "      <td>2019</td>\n",
              "    </tr>\n",
              "    <tr>\n",
              "      <th>4</th>\n",
              "      <td>02.12.2019 11:19:37</td>\n",
              "      <td>32.0</td>\n",
              "      <td>Male</td>\n",
              "      <td>Berlin</td>\n",
              "      <td>Senior</td>\n",
              "      <td>Embedded Developer</td>\n",
              "      <td>10</td>\n",
              "      <td>C/C++</td>\n",
              "      <td>66000.0</td>\n",
              "      <td>NaN</td>\n",
              "      <td>...</td>\n",
              "      <td>30.0</td>\n",
              "      <td>0.0</td>\n",
              "      <td>English</td>\n",
              "      <td>Luxoft</td>\n",
              "      <td>50-100</td>\n",
              "      <td>Product</td>\n",
              "      <td>unlimited</td>\n",
              "      <td>Automotive</td>\n",
              "      <td>NaN</td>\n",
              "      <td>2019</td>\n",
              "    </tr>\n",
              "  </tbody>\n",
              "</table>\n",
              "<p>5 rows × 24 columns</p>\n",
              "</div>\n",
              "      <button class=\"colab-df-convert\" onclick=\"convertToInteractive('df-a32fc942-c5de-4d99-9882-b0d7342a88be')\"\n",
              "              title=\"Convert this dataframe to an interactive table.\"\n",
              "              style=\"display:none;\">\n",
              "        \n",
              "  <svg xmlns=\"http://www.w3.org/2000/svg\" height=\"24px\"viewBox=\"0 0 24 24\"\n",
              "       width=\"24px\">\n",
              "    <path d=\"M0 0h24v24H0V0z\" fill=\"none\"/>\n",
              "    <path d=\"M18.56 5.44l.94 2.06.94-2.06 2.06-.94-2.06-.94-.94-2.06-.94 2.06-2.06.94zm-11 1L8.5 8.5l.94-2.06 2.06-.94-2.06-.94L8.5 2.5l-.94 2.06-2.06.94zm10 10l.94 2.06.94-2.06 2.06-.94-2.06-.94-.94-2.06-.94 2.06-2.06.94z\"/><path d=\"M17.41 7.96l-1.37-1.37c-.4-.4-.92-.59-1.43-.59-.52 0-1.04.2-1.43.59L10.3 9.45l-7.72 7.72c-.78.78-.78 2.05 0 2.83L4 21.41c.39.39.9.59 1.41.59.51 0 1.02-.2 1.41-.59l7.78-7.78 2.81-2.81c.8-.78.8-2.07 0-2.86zM5.41 20L4 18.59l7.72-7.72 1.47 1.35L5.41 20z\"/>\n",
              "  </svg>\n",
              "      </button>\n",
              "      \n",
              "  <style>\n",
              "    .colab-df-container {\n",
              "      display:flex;\n",
              "      flex-wrap:wrap;\n",
              "      gap: 12px;\n",
              "    }\n",
              "\n",
              "    .colab-df-convert {\n",
              "      background-color: #E8F0FE;\n",
              "      border: none;\n",
              "      border-radius: 50%;\n",
              "      cursor: pointer;\n",
              "      display: none;\n",
              "      fill: #1967D2;\n",
              "      height: 32px;\n",
              "      padding: 0 0 0 0;\n",
              "      width: 32px;\n",
              "    }\n",
              "\n",
              "    .colab-df-convert:hover {\n",
              "      background-color: #E2EBFA;\n",
              "      box-shadow: 0px 1px 2px rgba(60, 64, 67, 0.3), 0px 1px 3px 1px rgba(60, 64, 67, 0.15);\n",
              "      fill: #174EA6;\n",
              "    }\n",
              "\n",
              "    [theme=dark] .colab-df-convert {\n",
              "      background-color: #3B4455;\n",
              "      fill: #D2E3FC;\n",
              "    }\n",
              "\n",
              "    [theme=dark] .colab-df-convert:hover {\n",
              "      background-color: #434B5C;\n",
              "      box-shadow: 0px 1px 3px 1px rgba(0, 0, 0, 0.15);\n",
              "      filter: drop-shadow(0px 1px 2px rgba(0, 0, 0, 0.3));\n",
              "      fill: #FFFFFF;\n",
              "    }\n",
              "  </style>\n",
              "\n",
              "      <script>\n",
              "        const buttonEl =\n",
              "          document.querySelector('#df-a32fc942-c5de-4d99-9882-b0d7342a88be button.colab-df-convert');\n",
              "        buttonEl.style.display =\n",
              "          google.colab.kernel.accessAllowed ? 'block' : 'none';\n",
              "\n",
              "        async function convertToInteractive(key) {\n",
              "          const element = document.querySelector('#df-a32fc942-c5de-4d99-9882-b0d7342a88be');\n",
              "          const dataTable =\n",
              "            await google.colab.kernel.invokeFunction('convertToInteractive',\n",
              "                                                     [key], {});\n",
              "          if (!dataTable) return;\n",
              "\n",
              "          const docLinkHtml = 'Like what you see? Visit the ' +\n",
              "            '<a target=\"_blank\" href=https://colab.research.google.com/notebooks/data_table.ipynb>data table notebook</a>'\n",
              "            + ' to learn more about interactive tables.';\n",
              "          element.innerHTML = '';\n",
              "          dataTable['output_type'] = 'display_data';\n",
              "          await google.colab.output.renderOutput(dataTable, element);\n",
              "          const docLink = document.createElement('div');\n",
              "          docLink.innerHTML = docLinkHtml;\n",
              "          element.appendChild(docLink);\n",
              "        }\n",
              "      </script>\n",
              "    </div>\n",
              "  </div>\n",
              "  "
            ]
          },
          "metadata": {},
          "execution_count": 303
        }
      ]
    },
    {
      "cell_type": "code",
      "source": [
        "survey20.head()"
      ],
      "metadata": {
        "colab": {
          "base_uri": "https://localhost:8080/"
        },
        "id": "dcxurS1oyBr9",
        "outputId": "c76958a1-214d-4ed8-b840-9e0d916b168e"
      },
      "execution_count": null,
      "outputs": [
        {
          "output_type": "execute_result",
          "data": {
            "text/plain": [
              "             Timestamp   Age Gender    City           Position   \\\n",
              "0  24/11/2020 11:14:15  26.0   Male  Munich   Software Engineer   \n",
              "1  24/11/2020 11:14:16  26.0   Male  Berlin   Backend Developer   \n",
              "2  24/11/2020 11:14:21  29.0   Male  Berlin   Software Engineer   \n",
              "3  24/11/2020 11:15:24  28.0   Male  Berlin  Frontend Developer   \n",
              "4  24/11/2020 11:15:46  37.0   Male  Berlin   Backend Developer   \n",
              "\n",
              "  Total years of experience Years of experience in Germany Seniority level  \\\n",
              "0                         5                              3          Senior   \n",
              "1                         7                              4          Senior   \n",
              "2                        12                              6            Lead   \n",
              "3                         4                              1          Junior   \n",
              "4                        17                              6          Senior   \n",
              "\n",
              "  Your main technology / programming language  \\\n",
              "0                                  TypeScript   \n",
              "1                                        Ruby   \n",
              "2                     Javascript / Typescript   \n",
              "3                                  Javascript   \n",
              "4                                     C# .NET   \n",
              "\n",
              "  Other technologies/programming languages you use often  ...  \\\n",
              "0                    Kotlin, Javascript / Typescript      ...   \n",
              "1                                                NaN      ...   \n",
              "2                    Javascript / Typescript, Docker      ...   \n",
              "3                                                NaN      ...   \n",
              "4                             .NET, SQL, AWS, Docker      ...   \n",
              "\n",
              "   Number of vacation days           Employment status   Сontract duration  \\\n",
              "0                       30          Full-time employee  Unlimited contract   \n",
              "1                       28          Full-time employee  Unlimited contract   \n",
              "2                       30  Self-employed (freelancer)  Temporary contract   \n",
              "3                       24          Full-time employee  Unlimited contract   \n",
              "4                       29          Full-time employee  Unlimited contract   \n",
              "\n",
              "  Main language at work Company size Company type  \\\n",
              "0               English       51-100      Product   \n",
              "1               English     101-1000      Product   \n",
              "2               English     101-1000      Product   \n",
              "3               English       51-100      Startup   \n",
              "4               English     101-1000      Product   \n",
              "\n",
              "  Have you lost your job due to the coronavirus outbreak?  \\\n",
              "0                                                 No        \n",
              "1                                                 No        \n",
              "2                                                Yes        \n",
              "3                                                 No        \n",
              "4                                                 No        \n",
              "\n",
              "  Have you been forced to have a shorter working week (Kurzarbeit)? If yes, how many hours per week  \\\n",
              "0                                                NaN                                                  \n",
              "1                                                NaN                                                  \n",
              "2                                                NaN                                                  \n",
              "3                                                NaN                                                  \n",
              "4                                                NaN                                                  \n",
              "\n",
              "  Have you received additional monetary support from your employer due to Work From Home? If yes, how much in 2020 in EUR  \\\n",
              "0                                                NaN                                                                        \n",
              "1                                                NaN                                                                        \n",
              "2                                                NaN                                                                        \n",
              "3                                                NaN                                                                        \n",
              "4                                                NaN                                                                        \n",
              "\n",
              "   Year  \n",
              "0  2020  \n",
              "1  2020  \n",
              "2  2020  \n",
              "3  2020  \n",
              "4  2020  \n",
              "\n",
              "[5 rows x 24 columns]"
            ],
            "text/html": [
              "\n",
              "  <div id=\"df-604eeb97-3636-400c-b51a-ca8165f43698\">\n",
              "    <div class=\"colab-df-container\">\n",
              "      <div>\n",
              "<style scoped>\n",
              "    .dataframe tbody tr th:only-of-type {\n",
              "        vertical-align: middle;\n",
              "    }\n",
              "\n",
              "    .dataframe tbody tr th {\n",
              "        vertical-align: top;\n",
              "    }\n",
              "\n",
              "    .dataframe thead th {\n",
              "        text-align: right;\n",
              "    }\n",
              "</style>\n",
              "<table border=\"1\" class=\"dataframe\">\n",
              "  <thead>\n",
              "    <tr style=\"text-align: right;\">\n",
              "      <th></th>\n",
              "      <th>Timestamp</th>\n",
              "      <th>Age</th>\n",
              "      <th>Gender</th>\n",
              "      <th>City</th>\n",
              "      <th>Position</th>\n",
              "      <th>Total years of experience</th>\n",
              "      <th>Years of experience in Germany</th>\n",
              "      <th>Seniority level</th>\n",
              "      <th>Your main technology / programming language</th>\n",
              "      <th>Other technologies/programming languages you use often</th>\n",
              "      <th>...</th>\n",
              "      <th>Number of vacation days</th>\n",
              "      <th>Employment status</th>\n",
              "      <th>Сontract duration</th>\n",
              "      <th>Main language at work</th>\n",
              "      <th>Company size</th>\n",
              "      <th>Company type</th>\n",
              "      <th>Have you lost your job due to the coronavirus outbreak?</th>\n",
              "      <th>Have you been forced to have a shorter working week (Kurzarbeit)? If yes, how many hours per week</th>\n",
              "      <th>Have you received additional monetary support from your employer due to Work From Home? If yes, how much in 2020 in EUR</th>\n",
              "      <th>Year</th>\n",
              "    </tr>\n",
              "  </thead>\n",
              "  <tbody>\n",
              "    <tr>\n",
              "      <th>0</th>\n",
              "      <td>24/11/2020 11:14:15</td>\n",
              "      <td>26.0</td>\n",
              "      <td>Male</td>\n",
              "      <td>Munich</td>\n",
              "      <td>Software Engineer</td>\n",
              "      <td>5</td>\n",
              "      <td>3</td>\n",
              "      <td>Senior</td>\n",
              "      <td>TypeScript</td>\n",
              "      <td>Kotlin, Javascript / Typescript</td>\n",
              "      <td>...</td>\n",
              "      <td>30</td>\n",
              "      <td>Full-time employee</td>\n",
              "      <td>Unlimited contract</td>\n",
              "      <td>English</td>\n",
              "      <td>51-100</td>\n",
              "      <td>Product</td>\n",
              "      <td>No</td>\n",
              "      <td>NaN</td>\n",
              "      <td>NaN</td>\n",
              "      <td>2020</td>\n",
              "    </tr>\n",
              "    <tr>\n",
              "      <th>1</th>\n",
              "      <td>24/11/2020 11:14:16</td>\n",
              "      <td>26.0</td>\n",
              "      <td>Male</td>\n",
              "      <td>Berlin</td>\n",
              "      <td>Backend Developer</td>\n",
              "      <td>7</td>\n",
              "      <td>4</td>\n",
              "      <td>Senior</td>\n",
              "      <td>Ruby</td>\n",
              "      <td>NaN</td>\n",
              "      <td>...</td>\n",
              "      <td>28</td>\n",
              "      <td>Full-time employee</td>\n",
              "      <td>Unlimited contract</td>\n",
              "      <td>English</td>\n",
              "      <td>101-1000</td>\n",
              "      <td>Product</td>\n",
              "      <td>No</td>\n",
              "      <td>NaN</td>\n",
              "      <td>NaN</td>\n",
              "      <td>2020</td>\n",
              "    </tr>\n",
              "    <tr>\n",
              "      <th>2</th>\n",
              "      <td>24/11/2020 11:14:21</td>\n",
              "      <td>29.0</td>\n",
              "      <td>Male</td>\n",
              "      <td>Berlin</td>\n",
              "      <td>Software Engineer</td>\n",
              "      <td>12</td>\n",
              "      <td>6</td>\n",
              "      <td>Lead</td>\n",
              "      <td>Javascript / Typescript</td>\n",
              "      <td>Javascript / Typescript, Docker</td>\n",
              "      <td>...</td>\n",
              "      <td>30</td>\n",
              "      <td>Self-employed (freelancer)</td>\n",
              "      <td>Temporary contract</td>\n",
              "      <td>English</td>\n",
              "      <td>101-1000</td>\n",
              "      <td>Product</td>\n",
              "      <td>Yes</td>\n",
              "      <td>NaN</td>\n",
              "      <td>NaN</td>\n",
              "      <td>2020</td>\n",
              "    </tr>\n",
              "    <tr>\n",
              "      <th>3</th>\n",
              "      <td>24/11/2020 11:15:24</td>\n",
              "      <td>28.0</td>\n",
              "      <td>Male</td>\n",
              "      <td>Berlin</td>\n",
              "      <td>Frontend Developer</td>\n",
              "      <td>4</td>\n",
              "      <td>1</td>\n",
              "      <td>Junior</td>\n",
              "      <td>Javascript</td>\n",
              "      <td>NaN</td>\n",
              "      <td>...</td>\n",
              "      <td>24</td>\n",
              "      <td>Full-time employee</td>\n",
              "      <td>Unlimited contract</td>\n",
              "      <td>English</td>\n",
              "      <td>51-100</td>\n",
              "      <td>Startup</td>\n",
              "      <td>No</td>\n",
              "      <td>NaN</td>\n",
              "      <td>NaN</td>\n",
              "      <td>2020</td>\n",
              "    </tr>\n",
              "    <tr>\n",
              "      <th>4</th>\n",
              "      <td>24/11/2020 11:15:46</td>\n",
              "      <td>37.0</td>\n",
              "      <td>Male</td>\n",
              "      <td>Berlin</td>\n",
              "      <td>Backend Developer</td>\n",
              "      <td>17</td>\n",
              "      <td>6</td>\n",
              "      <td>Senior</td>\n",
              "      <td>C# .NET</td>\n",
              "      <td>.NET, SQL, AWS, Docker</td>\n",
              "      <td>...</td>\n",
              "      <td>29</td>\n",
              "      <td>Full-time employee</td>\n",
              "      <td>Unlimited contract</td>\n",
              "      <td>English</td>\n",
              "      <td>101-1000</td>\n",
              "      <td>Product</td>\n",
              "      <td>No</td>\n",
              "      <td>NaN</td>\n",
              "      <td>NaN</td>\n",
              "      <td>2020</td>\n",
              "    </tr>\n",
              "  </tbody>\n",
              "</table>\n",
              "<p>5 rows × 24 columns</p>\n",
              "</div>\n",
              "      <button class=\"colab-df-convert\" onclick=\"convertToInteractive('df-604eeb97-3636-400c-b51a-ca8165f43698')\"\n",
              "              title=\"Convert this dataframe to an interactive table.\"\n",
              "              style=\"display:none;\">\n",
              "        \n",
              "  <svg xmlns=\"http://www.w3.org/2000/svg\" height=\"24px\"viewBox=\"0 0 24 24\"\n",
              "       width=\"24px\">\n",
              "    <path d=\"M0 0h24v24H0V0z\" fill=\"none\"/>\n",
              "    <path d=\"M18.56 5.44l.94 2.06.94-2.06 2.06-.94-2.06-.94-.94-2.06-.94 2.06-2.06.94zm-11 1L8.5 8.5l.94-2.06 2.06-.94-2.06-.94L8.5 2.5l-.94 2.06-2.06.94zm10 10l.94 2.06.94-2.06 2.06-.94-2.06-.94-.94-2.06-.94 2.06-2.06.94z\"/><path d=\"M17.41 7.96l-1.37-1.37c-.4-.4-.92-.59-1.43-.59-.52 0-1.04.2-1.43.59L10.3 9.45l-7.72 7.72c-.78.78-.78 2.05 0 2.83L4 21.41c.39.39.9.59 1.41.59.51 0 1.02-.2 1.41-.59l7.78-7.78 2.81-2.81c.8-.78.8-2.07 0-2.86zM5.41 20L4 18.59l7.72-7.72 1.47 1.35L5.41 20z\"/>\n",
              "  </svg>\n",
              "      </button>\n",
              "      \n",
              "  <style>\n",
              "    .colab-df-container {\n",
              "      display:flex;\n",
              "      flex-wrap:wrap;\n",
              "      gap: 12px;\n",
              "    }\n",
              "\n",
              "    .colab-df-convert {\n",
              "      background-color: #E8F0FE;\n",
              "      border: none;\n",
              "      border-radius: 50%;\n",
              "      cursor: pointer;\n",
              "      display: none;\n",
              "      fill: #1967D2;\n",
              "      height: 32px;\n",
              "      padding: 0 0 0 0;\n",
              "      width: 32px;\n",
              "    }\n",
              "\n",
              "    .colab-df-convert:hover {\n",
              "      background-color: #E2EBFA;\n",
              "      box-shadow: 0px 1px 2px rgba(60, 64, 67, 0.3), 0px 1px 3px 1px rgba(60, 64, 67, 0.15);\n",
              "      fill: #174EA6;\n",
              "    }\n",
              "\n",
              "    [theme=dark] .colab-df-convert {\n",
              "      background-color: #3B4455;\n",
              "      fill: #D2E3FC;\n",
              "    }\n",
              "\n",
              "    [theme=dark] .colab-df-convert:hover {\n",
              "      background-color: #434B5C;\n",
              "      box-shadow: 0px 1px 3px 1px rgba(0, 0, 0, 0.15);\n",
              "      filter: drop-shadow(0px 1px 2px rgba(0, 0, 0, 0.3));\n",
              "      fill: #FFFFFF;\n",
              "    }\n",
              "  </style>\n",
              "\n",
              "      <script>\n",
              "        const buttonEl =\n",
              "          document.querySelector('#df-604eeb97-3636-400c-b51a-ca8165f43698 button.colab-df-convert');\n",
              "        buttonEl.style.display =\n",
              "          google.colab.kernel.accessAllowed ? 'block' : 'none';\n",
              "\n",
              "        async function convertToInteractive(key) {\n",
              "          const element = document.querySelector('#df-604eeb97-3636-400c-b51a-ca8165f43698');\n",
              "          const dataTable =\n",
              "            await google.colab.kernel.invokeFunction('convertToInteractive',\n",
              "                                                     [key], {});\n",
              "          if (!dataTable) return;\n",
              "\n",
              "          const docLinkHtml = 'Like what you see? Visit the ' +\n",
              "            '<a target=\"_blank\" href=https://colab.research.google.com/notebooks/data_table.ipynb>data table notebook</a>'\n",
              "            + ' to learn more about interactive tables.';\n",
              "          element.innerHTML = '';\n",
              "          dataTable['output_type'] = 'display_data';\n",
              "          await google.colab.output.renderOutput(dataTable, element);\n",
              "          const docLink = document.createElement('div');\n",
              "          docLink.innerHTML = docLinkHtml;\n",
              "          element.appendChild(docLink);\n",
              "        }\n",
              "      </script>\n",
              "    </div>\n",
              "  </div>\n",
              "  "
            ]
          },
          "metadata": {},
          "execution_count": 304
        }
      ]
    },
    {
      "cell_type": "markdown",
      "source": [
        "**Avaliando colunas:**"
      ],
      "metadata": {
        "id": "TRAqz6SKwd1I"
      }
    },
    {
      "cell_type": "code",
      "source": [
        "survey19.rename(columns={'Zeitstempel':'Timestamp'}, inplace=True)"
      ],
      "metadata": {
        "id": "GsAtR4oIxmiG"
      },
      "execution_count": null,
      "outputs": []
    },
    {
      "cell_type": "markdown",
      "source": [
        "# Criando dataframe unificando com dados comuns às 2 pesquisas"
      ],
      "metadata": {
        "id": "4i6Yibs7yhrD"
      }
    },
    {
      "cell_type": "code",
      "source": [
        "survey19['Annual bonus+stocks one year ago. Only answer if staying in same country'] = survey19['Yearly bonus one year ago. Only answer if staying in same country'] + survey19['Yearly stocks one year ago. Only answer if staying in same country']\n",
        "survey19.head()"
      ],
      "metadata": {
        "colab": {
          "base_uri": "https://localhost:8080/"
        },
        "outputId": "8efe54bd-871d-4825-c17d-5fd5ae25d4af",
        "id": "qzciH-npESgX"
      },
      "execution_count": null,
      "outputs": [
        {
          "output_type": "execute_result",
          "data": {
            "text/plain": [
              "             Timestamp   Age Gender    City Seniority level  \\\n",
              "0  02.12.2019 11:18:26  33.0   Male  Berlin          Senior   \n",
              "1  02.12.2019 11:18:35  29.0   Male  Berlin          Middle   \n",
              "2  02.12.2019 11:18:56   NaN   Male  Berlin          Middle   \n",
              "3  02.12.2019 11:19:08  30.0   Male  Berlin          Senior   \n",
              "4  02.12.2019 11:19:37  32.0   Male  Berlin          Senior   \n",
              "\n",
              "  Position (without seniority)  Years of experience  \\\n",
              "0          Fullstack Developer                   13   \n",
              "1            Backend Developer                    3   \n",
              "2             Mobile Developer                    4   \n",
              "3            Backend Developer                    6   \n",
              "4           Embedded Developer                   10   \n",
              "\n",
              "  Your main technology / programming language  \\\n",
              "0                                         PHP   \n",
              "1                                      Python   \n",
              "2                                      Kotlin   \n",
              "3                                         PHP   \n",
              "4                                       C/C++   \n",
              "\n",
              "   Yearly brutto salary (without bonus and stocks)  Yearly bonus  ...  \\\n",
              "0                                          64000.0        1000.0  ...   \n",
              "1                                          55000.0           NaN  ...   \n",
              "2                                          70000.0           NaN  ...   \n",
              "3                                          63000.0           NaN  ...   \n",
              "4                                          66000.0           NaN  ...   \n",
              "\n",
              "   Number of home office days per month  Main language at work  Company name   \\\n",
              "0                                   4.0                English            NaN   \n",
              "1                                   4.0                English            NaN   \n",
              "2                                   NaN                English            NaN   \n",
              "3                                   NaN                English          Auto1   \n",
              "4                                   0.0                English         Luxoft   \n",
              "\n",
              "   Company size  Company type  Сontract duration Company business sector   0  \\\n",
              "0        50-100       Startup          unlimited                 Tourism NaN   \n",
              "1         10-50       Product          unlimited   Scientific Activities NaN   \n",
              "2         1000+       Startup          unlimited                     NaN NaN   \n",
              "3      100-1000       Product          unlimited               Transport NaN   \n",
              "4        50-100       Product          unlimited              Automotive NaN   \n",
              "\n",
              "   Year  \\\n",
              "0  2019   \n",
              "1  2019   \n",
              "2  2019   \n",
              "3  2019   \n",
              "4  2019   \n",
              "\n",
              "  Annual bonus+stocks one year ago. Only answer if staying in same country  \n",
              "0                                                NaN                        \n",
              "1                                                NaN                        \n",
              "2                                                NaN                        \n",
              "3                                                NaN                        \n",
              "4                                                NaN                        \n",
              "\n",
              "[5 rows x 25 columns]"
            ],
            "text/html": [
              "\n",
              "  <div id=\"df-07164068-9a8a-41d0-9493-1d73d705d1fe\">\n",
              "    <div class=\"colab-df-container\">\n",
              "      <div>\n",
              "<style scoped>\n",
              "    .dataframe tbody tr th:only-of-type {\n",
              "        vertical-align: middle;\n",
              "    }\n",
              "\n",
              "    .dataframe tbody tr th {\n",
              "        vertical-align: top;\n",
              "    }\n",
              "\n",
              "    .dataframe thead th {\n",
              "        text-align: right;\n",
              "    }\n",
              "</style>\n",
              "<table border=\"1\" class=\"dataframe\">\n",
              "  <thead>\n",
              "    <tr style=\"text-align: right;\">\n",
              "      <th></th>\n",
              "      <th>Timestamp</th>\n",
              "      <th>Age</th>\n",
              "      <th>Gender</th>\n",
              "      <th>City</th>\n",
              "      <th>Seniority level</th>\n",
              "      <th>Position (without seniority)</th>\n",
              "      <th>Years of experience</th>\n",
              "      <th>Your main technology / programming language</th>\n",
              "      <th>Yearly brutto salary (without bonus and stocks)</th>\n",
              "      <th>Yearly bonus</th>\n",
              "      <th>...</th>\n",
              "      <th>Number of home office days per month</th>\n",
              "      <th>Main language at work</th>\n",
              "      <th>Company name</th>\n",
              "      <th>Company size</th>\n",
              "      <th>Company type</th>\n",
              "      <th>Сontract duration</th>\n",
              "      <th>Company business sector</th>\n",
              "      <th>0</th>\n",
              "      <th>Year</th>\n",
              "      <th>Annual bonus+stocks one year ago. Only answer if staying in same country</th>\n",
              "    </tr>\n",
              "  </thead>\n",
              "  <tbody>\n",
              "    <tr>\n",
              "      <th>0</th>\n",
              "      <td>02.12.2019 11:18:26</td>\n",
              "      <td>33.0</td>\n",
              "      <td>Male</td>\n",
              "      <td>Berlin</td>\n",
              "      <td>Senior</td>\n",
              "      <td>Fullstack Developer</td>\n",
              "      <td>13</td>\n",
              "      <td>PHP</td>\n",
              "      <td>64000.0</td>\n",
              "      <td>1000.0</td>\n",
              "      <td>...</td>\n",
              "      <td>4.0</td>\n",
              "      <td>English</td>\n",
              "      <td>NaN</td>\n",
              "      <td>50-100</td>\n",
              "      <td>Startup</td>\n",
              "      <td>unlimited</td>\n",
              "      <td>Tourism</td>\n",
              "      <td>NaN</td>\n",
              "      <td>2019</td>\n",
              "      <td>NaN</td>\n",
              "    </tr>\n",
              "    <tr>\n",
              "      <th>1</th>\n",
              "      <td>02.12.2019 11:18:35</td>\n",
              "      <td>29.0</td>\n",
              "      <td>Male</td>\n",
              "      <td>Berlin</td>\n",
              "      <td>Middle</td>\n",
              "      <td>Backend Developer</td>\n",
              "      <td>3</td>\n",
              "      <td>Python</td>\n",
              "      <td>55000.0</td>\n",
              "      <td>NaN</td>\n",
              "      <td>...</td>\n",
              "      <td>4.0</td>\n",
              "      <td>English</td>\n",
              "      <td>NaN</td>\n",
              "      <td>10-50</td>\n",
              "      <td>Product</td>\n",
              "      <td>unlimited</td>\n",
              "      <td>Scientific Activities</td>\n",
              "      <td>NaN</td>\n",
              "      <td>2019</td>\n",
              "      <td>NaN</td>\n",
              "    </tr>\n",
              "    <tr>\n",
              "      <th>2</th>\n",
              "      <td>02.12.2019 11:18:56</td>\n",
              "      <td>NaN</td>\n",
              "      <td>Male</td>\n",
              "      <td>Berlin</td>\n",
              "      <td>Middle</td>\n",
              "      <td>Mobile Developer</td>\n",
              "      <td>4</td>\n",
              "      <td>Kotlin</td>\n",
              "      <td>70000.0</td>\n",
              "      <td>NaN</td>\n",
              "      <td>...</td>\n",
              "      <td>NaN</td>\n",
              "      <td>English</td>\n",
              "      <td>NaN</td>\n",
              "      <td>1000+</td>\n",
              "      <td>Startup</td>\n",
              "      <td>unlimited</td>\n",
              "      <td>NaN</td>\n",
              "      <td>NaN</td>\n",
              "      <td>2019</td>\n",
              "      <td>NaN</td>\n",
              "    </tr>\n",
              "    <tr>\n",
              "      <th>3</th>\n",
              "      <td>02.12.2019 11:19:08</td>\n",
              "      <td>30.0</td>\n",
              "      <td>Male</td>\n",
              "      <td>Berlin</td>\n",
              "      <td>Senior</td>\n",
              "      <td>Backend Developer</td>\n",
              "      <td>6</td>\n",
              "      <td>PHP</td>\n",
              "      <td>63000.0</td>\n",
              "      <td>NaN</td>\n",
              "      <td>...</td>\n",
              "      <td>NaN</td>\n",
              "      <td>English</td>\n",
              "      <td>Auto1</td>\n",
              "      <td>100-1000</td>\n",
              "      <td>Product</td>\n",
              "      <td>unlimited</td>\n",
              "      <td>Transport</td>\n",
              "      <td>NaN</td>\n",
              "      <td>2019</td>\n",
              "      <td>NaN</td>\n",
              "    </tr>\n",
              "    <tr>\n",
              "      <th>4</th>\n",
              "      <td>02.12.2019 11:19:37</td>\n",
              "      <td>32.0</td>\n",
              "      <td>Male</td>\n",
              "      <td>Berlin</td>\n",
              "      <td>Senior</td>\n",
              "      <td>Embedded Developer</td>\n",
              "      <td>10</td>\n",
              "      <td>C/C++</td>\n",
              "      <td>66000.0</td>\n",
              "      <td>NaN</td>\n",
              "      <td>...</td>\n",
              "      <td>0.0</td>\n",
              "      <td>English</td>\n",
              "      <td>Luxoft</td>\n",
              "      <td>50-100</td>\n",
              "      <td>Product</td>\n",
              "      <td>unlimited</td>\n",
              "      <td>Automotive</td>\n",
              "      <td>NaN</td>\n",
              "      <td>2019</td>\n",
              "      <td>NaN</td>\n",
              "    </tr>\n",
              "  </tbody>\n",
              "</table>\n",
              "<p>5 rows × 25 columns</p>\n",
              "</div>\n",
              "      <button class=\"colab-df-convert\" onclick=\"convertToInteractive('df-07164068-9a8a-41d0-9493-1d73d705d1fe')\"\n",
              "              title=\"Convert this dataframe to an interactive table.\"\n",
              "              style=\"display:none;\">\n",
              "        \n",
              "  <svg xmlns=\"http://www.w3.org/2000/svg\" height=\"24px\"viewBox=\"0 0 24 24\"\n",
              "       width=\"24px\">\n",
              "    <path d=\"M0 0h24v24H0V0z\" fill=\"none\"/>\n",
              "    <path d=\"M18.56 5.44l.94 2.06.94-2.06 2.06-.94-2.06-.94-.94-2.06-.94 2.06-2.06.94zm-11 1L8.5 8.5l.94-2.06 2.06-.94-2.06-.94L8.5 2.5l-.94 2.06-2.06.94zm10 10l.94 2.06.94-2.06 2.06-.94-2.06-.94-.94-2.06-.94 2.06-2.06.94z\"/><path d=\"M17.41 7.96l-1.37-1.37c-.4-.4-.92-.59-1.43-.59-.52 0-1.04.2-1.43.59L10.3 9.45l-7.72 7.72c-.78.78-.78 2.05 0 2.83L4 21.41c.39.39.9.59 1.41.59.51 0 1.02-.2 1.41-.59l7.78-7.78 2.81-2.81c.8-.78.8-2.07 0-2.86zM5.41 20L4 18.59l7.72-7.72 1.47 1.35L5.41 20z\"/>\n",
              "  </svg>\n",
              "      </button>\n",
              "      \n",
              "  <style>\n",
              "    .colab-df-container {\n",
              "      display:flex;\n",
              "      flex-wrap:wrap;\n",
              "      gap: 12px;\n",
              "    }\n",
              "\n",
              "    .colab-df-convert {\n",
              "      background-color: #E8F0FE;\n",
              "      border: none;\n",
              "      border-radius: 50%;\n",
              "      cursor: pointer;\n",
              "      display: none;\n",
              "      fill: #1967D2;\n",
              "      height: 32px;\n",
              "      padding: 0 0 0 0;\n",
              "      width: 32px;\n",
              "    }\n",
              "\n",
              "    .colab-df-convert:hover {\n",
              "      background-color: #E2EBFA;\n",
              "      box-shadow: 0px 1px 2px rgba(60, 64, 67, 0.3), 0px 1px 3px 1px rgba(60, 64, 67, 0.15);\n",
              "      fill: #174EA6;\n",
              "    }\n",
              "\n",
              "    [theme=dark] .colab-df-convert {\n",
              "      background-color: #3B4455;\n",
              "      fill: #D2E3FC;\n",
              "    }\n",
              "\n",
              "    [theme=dark] .colab-df-convert:hover {\n",
              "      background-color: #434B5C;\n",
              "      box-shadow: 0px 1px 3px 1px rgba(0, 0, 0, 0.15);\n",
              "      filter: drop-shadow(0px 1px 2px rgba(0, 0, 0, 0.3));\n",
              "      fill: #FFFFFF;\n",
              "    }\n",
              "  </style>\n",
              "\n",
              "      <script>\n",
              "        const buttonEl =\n",
              "          document.querySelector('#df-07164068-9a8a-41d0-9493-1d73d705d1fe button.colab-df-convert');\n",
              "        buttonEl.style.display =\n",
              "          google.colab.kernel.accessAllowed ? 'block' : 'none';\n",
              "\n",
              "        async function convertToInteractive(key) {\n",
              "          const element = document.querySelector('#df-07164068-9a8a-41d0-9493-1d73d705d1fe');\n",
              "          const dataTable =\n",
              "            await google.colab.kernel.invokeFunction('convertToInteractive',\n",
              "                                                     [key], {});\n",
              "          if (!dataTable) return;\n",
              "\n",
              "          const docLinkHtml = 'Like what you see? Visit the ' +\n",
              "            '<a target=\"_blank\" href=https://colab.research.google.com/notebooks/data_table.ipynb>data table notebook</a>'\n",
              "            + ' to learn more about interactive tables.';\n",
              "          element.innerHTML = '';\n",
              "          dataTable['output_type'] = 'display_data';\n",
              "          await google.colab.output.renderOutput(dataTable, element);\n",
              "          const docLink = document.createElement('div');\n",
              "          docLink.innerHTML = docLinkHtml;\n",
              "          element.appendChild(docLink);\n",
              "        }\n",
              "      </script>\n",
              "    </div>\n",
              "  </div>\n",
              "  "
            ]
          },
          "metadata": {},
          "execution_count": 306
        }
      ]
    },
    {
      "cell_type": "code",
      "source": [
        "survey19.rename(columns={'Position (without seniority)':'Position ','Years of experience':'Total years of experience',\n",
        "                        'Yearly brutto salary (without bonus and stocks) one year ago. Only answer if staying in same country':'Annual brutto salary (without bonus and stocks) one year ago. Only answer if staying in the same country'\n",
        "                          }, inplace=True)"
      ],
      "metadata": {
        "id": "BOJzDu8RESgY"
      },
      "execution_count": null,
      "outputs": []
    },
    {
      "cell_type": "code",
      "source": [
        "common_col_19_20 = survey19.columns.intersection(survey20.columns).tolist()\n",
        "common_col_19_20"
      ],
      "metadata": {
        "colab": {
          "base_uri": "https://localhost:8080/"
        },
        "outputId": "2b93eb3e-64ac-440b-c1de-57a751e9cbe8",
        "id": "0YW6cvDjESgY"
      },
      "execution_count": null,
      "outputs": [
        {
          "output_type": "execute_result",
          "data": {
            "text/plain": [
              "['Timestamp',\n",
              " 'Age',\n",
              " 'Gender',\n",
              " 'City',\n",
              " 'Seniority level',\n",
              " 'Position ',\n",
              " 'Total years of experience',\n",
              " 'Your main technology / programming language',\n",
              " 'Annual brutto salary (without bonus and stocks) one year ago. Only answer if staying in the same country',\n",
              " 'Number of vacation days',\n",
              " 'Main language at work',\n",
              " 'Company size',\n",
              " 'Company type',\n",
              " 'Сontract duration',\n",
              " 'Year',\n",
              " 'Annual bonus+stocks one year ago. Only answer if staying in same country']"
            ]
          },
          "metadata": {},
          "execution_count": 308
        }
      ]
    },
    {
      "cell_type": "code",
      "source": [
        "full_data_2 = pd.concat([survey19[common_col_19_20],survey20[common_col_19_20]], axis=0)\n",
        "full_data_2"
      ],
      "metadata": {
        "colab": {
          "base_uri": "https://localhost:8080/"
        },
        "outputId": "f883002b-bd6b-4d93-f7e9-e6ea972df198",
        "id": "D4CjPa74ESgY"
      },
      "execution_count": null,
      "outputs": [
        {
          "output_type": "execute_result",
          "data": {
            "text/plain": [
              "                Timestamp   Age Gender         City Seniority level  \\\n",
              "0     02.12.2019 11:18:26  33.0   Male       Berlin          Senior   \n",
              "1     02.12.2019 11:18:35  29.0   Male       Berlin          Middle   \n",
              "2     02.12.2019 11:18:56   NaN   Male       Berlin          Middle   \n",
              "3     02.12.2019 11:19:08  30.0   Male       Berlin          Senior   \n",
              "4     02.12.2019 11:19:37  32.0   Male       Berlin          Senior   \n",
              "...                   ...   ...    ...          ...             ...   \n",
              "1248  18/01/2021 15:05:50  31.0   Male       Berlin          Senior   \n",
              "1249  18/01/2021 17:46:02  33.0   Male       Berlin          Senior   \n",
              "1250  18/01/2021 23:20:35  39.0   Male       Munich            Lead   \n",
              "1251  19/01/2021 10:17:58  26.0   Male  Saarbrücken          Middle   \n",
              "1252  19/01/2021 12:01:11  26.0   Male       Berlin          Middle   \n",
              "\n",
              "                                   Position  Total years of experience  \\\n",
              "0                        Fullstack Developer                        13   \n",
              "1                          Backend Developer                         3   \n",
              "2                           Mobile Developer                         4   \n",
              "3                          Backend Developer                         6   \n",
              "4                         Embedded Developer                        10   \n",
              "...                                      ...                       ...   \n",
              "1248                       Backend Developer                         9   \n",
              "1249  Researcher/ Consumer Insights Analyst                         10   \n",
              "1250                   IT Operations Manager                        15   \n",
              "1251                      Frontend Developer                         7   \n",
              "1252                                  DevOps                         2   \n",
              "\n",
              "     Your main technology / programming language  \\\n",
              "0                                            PHP   \n",
              "1                                         Python   \n",
              "2                                         Kotlin   \n",
              "3                                            PHP   \n",
              "4                                          C/C++   \n",
              "...                                          ...   \n",
              "1248                                        Java   \n",
              "1249                           consumer analysis   \n",
              "1250                                         PHP   \n",
              "1251                                  JavaScript   \n",
              "1252                                        yaml   \n",
              "\n",
              "      Annual brutto salary (without bonus and stocks) one year ago. Only answer if staying in the same country  \\\n",
              "0                                               58000.0                                                          \n",
              "1                                               55000.0                                                          \n",
              "2                                               55000.0                                                          \n",
              "3                                                   NaN                                                          \n",
              "4                                               56000.0                                                          \n",
              "...                                                 ...                                                          \n",
              "1248                                            70000.0                                                          \n",
              "1249                                            48000.0                                                          \n",
              "1250                                            90000.0                                                          \n",
              "1251                                            33800.0                                                          \n",
              "1252                                            40000.0                                                          \n",
              "\n",
              "     Number of vacation days Main language at work Company size Company type  \\\n",
              "0                       29.0               English       50-100      Startup   \n",
              "1                       22.0               English        10-50      Product   \n",
              "2                       27.0               English        1000+      Startup   \n",
              "3                       24.0               English     100-1000      Product   \n",
              "4                       30.0               English       50-100      Product   \n",
              "...                      ...                   ...          ...          ...   \n",
              "1248                      26               English       51-100      Product   \n",
              "1249              unlimited                English        1000+      Product   \n",
              "1250                      28               English     101-1000    eCommerce   \n",
              "1251                      27                German     101-1000      Product   \n",
              "1252                      30               English       51-100      Startup   \n",
              "\n",
              "       Сontract duration  Year  \\\n",
              "0              unlimited  2019   \n",
              "1              unlimited  2019   \n",
              "2              unlimited  2019   \n",
              "3              unlimited  2019   \n",
              "4              unlimited  2019   \n",
              "...                  ...   ...   \n",
              "1248  Unlimited contract  2020   \n",
              "1249  Unlimited contract  2020   \n",
              "1250  Unlimited contract  2020   \n",
              "1251  Unlimited contract  2020   \n",
              "1252  Unlimited contract  2020   \n",
              "\n",
              "     Annual bonus+stocks one year ago. Only answer if staying in same country  \n",
              "0                                                   NaN                        \n",
              "1                                                   NaN                        \n",
              "2                                                   NaN                        \n",
              "3                                                   NaN                        \n",
              "4                                                   NaN                        \n",
              "...                                                 ...                        \n",
              "1248                                              72000                        \n",
              "1249                                               2500                        \n",
              "1250                                                NaN                        \n",
              "1251                                              36400                        \n",
              "1252                                                  0                        \n",
              "\n",
              "[2244 rows x 16 columns]"
            ],
            "text/html": [
              "\n",
              "  <div id=\"df-295e0f21-9a50-4b1c-a80c-0547a77d29d0\">\n",
              "    <div class=\"colab-df-container\">\n",
              "      <div>\n",
              "<style scoped>\n",
              "    .dataframe tbody tr th:only-of-type {\n",
              "        vertical-align: middle;\n",
              "    }\n",
              "\n",
              "    .dataframe tbody tr th {\n",
              "        vertical-align: top;\n",
              "    }\n",
              "\n",
              "    .dataframe thead th {\n",
              "        text-align: right;\n",
              "    }\n",
              "</style>\n",
              "<table border=\"1\" class=\"dataframe\">\n",
              "  <thead>\n",
              "    <tr style=\"text-align: right;\">\n",
              "      <th></th>\n",
              "      <th>Timestamp</th>\n",
              "      <th>Age</th>\n",
              "      <th>Gender</th>\n",
              "      <th>City</th>\n",
              "      <th>Seniority level</th>\n",
              "      <th>Position</th>\n",
              "      <th>Total years of experience</th>\n",
              "      <th>Your main technology / programming language</th>\n",
              "      <th>Annual brutto salary (without bonus and stocks) one year ago. Only answer if staying in the same country</th>\n",
              "      <th>Number of vacation days</th>\n",
              "      <th>Main language at work</th>\n",
              "      <th>Company size</th>\n",
              "      <th>Company type</th>\n",
              "      <th>Сontract duration</th>\n",
              "      <th>Year</th>\n",
              "      <th>Annual bonus+stocks one year ago. Only answer if staying in same country</th>\n",
              "    </tr>\n",
              "  </thead>\n",
              "  <tbody>\n",
              "    <tr>\n",
              "      <th>0</th>\n",
              "      <td>02.12.2019 11:18:26</td>\n",
              "      <td>33.0</td>\n",
              "      <td>Male</td>\n",
              "      <td>Berlin</td>\n",
              "      <td>Senior</td>\n",
              "      <td>Fullstack Developer</td>\n",
              "      <td>13</td>\n",
              "      <td>PHP</td>\n",
              "      <td>58000.0</td>\n",
              "      <td>29.0</td>\n",
              "      <td>English</td>\n",
              "      <td>50-100</td>\n",
              "      <td>Startup</td>\n",
              "      <td>unlimited</td>\n",
              "      <td>2019</td>\n",
              "      <td>NaN</td>\n",
              "    </tr>\n",
              "    <tr>\n",
              "      <th>1</th>\n",
              "      <td>02.12.2019 11:18:35</td>\n",
              "      <td>29.0</td>\n",
              "      <td>Male</td>\n",
              "      <td>Berlin</td>\n",
              "      <td>Middle</td>\n",
              "      <td>Backend Developer</td>\n",
              "      <td>3</td>\n",
              "      <td>Python</td>\n",
              "      <td>55000.0</td>\n",
              "      <td>22.0</td>\n",
              "      <td>English</td>\n",
              "      <td>10-50</td>\n",
              "      <td>Product</td>\n",
              "      <td>unlimited</td>\n",
              "      <td>2019</td>\n",
              "      <td>NaN</td>\n",
              "    </tr>\n",
              "    <tr>\n",
              "      <th>2</th>\n",
              "      <td>02.12.2019 11:18:56</td>\n",
              "      <td>NaN</td>\n",
              "      <td>Male</td>\n",
              "      <td>Berlin</td>\n",
              "      <td>Middle</td>\n",
              "      <td>Mobile Developer</td>\n",
              "      <td>4</td>\n",
              "      <td>Kotlin</td>\n",
              "      <td>55000.0</td>\n",
              "      <td>27.0</td>\n",
              "      <td>English</td>\n",
              "      <td>1000+</td>\n",
              "      <td>Startup</td>\n",
              "      <td>unlimited</td>\n",
              "      <td>2019</td>\n",
              "      <td>NaN</td>\n",
              "    </tr>\n",
              "    <tr>\n",
              "      <th>3</th>\n",
              "      <td>02.12.2019 11:19:08</td>\n",
              "      <td>30.0</td>\n",
              "      <td>Male</td>\n",
              "      <td>Berlin</td>\n",
              "      <td>Senior</td>\n",
              "      <td>Backend Developer</td>\n",
              "      <td>6</td>\n",
              "      <td>PHP</td>\n",
              "      <td>NaN</td>\n",
              "      <td>24.0</td>\n",
              "      <td>English</td>\n",
              "      <td>100-1000</td>\n",
              "      <td>Product</td>\n",
              "      <td>unlimited</td>\n",
              "      <td>2019</td>\n",
              "      <td>NaN</td>\n",
              "    </tr>\n",
              "    <tr>\n",
              "      <th>4</th>\n",
              "      <td>02.12.2019 11:19:37</td>\n",
              "      <td>32.0</td>\n",
              "      <td>Male</td>\n",
              "      <td>Berlin</td>\n",
              "      <td>Senior</td>\n",
              "      <td>Embedded Developer</td>\n",
              "      <td>10</td>\n",
              "      <td>C/C++</td>\n",
              "      <td>56000.0</td>\n",
              "      <td>30.0</td>\n",
              "      <td>English</td>\n",
              "      <td>50-100</td>\n",
              "      <td>Product</td>\n",
              "      <td>unlimited</td>\n",
              "      <td>2019</td>\n",
              "      <td>NaN</td>\n",
              "    </tr>\n",
              "    <tr>\n",
              "      <th>...</th>\n",
              "      <td>...</td>\n",
              "      <td>...</td>\n",
              "      <td>...</td>\n",
              "      <td>...</td>\n",
              "      <td>...</td>\n",
              "      <td>...</td>\n",
              "      <td>...</td>\n",
              "      <td>...</td>\n",
              "      <td>...</td>\n",
              "      <td>...</td>\n",
              "      <td>...</td>\n",
              "      <td>...</td>\n",
              "      <td>...</td>\n",
              "      <td>...</td>\n",
              "      <td>...</td>\n",
              "      <td>...</td>\n",
              "    </tr>\n",
              "    <tr>\n",
              "      <th>1248</th>\n",
              "      <td>18/01/2021 15:05:50</td>\n",
              "      <td>31.0</td>\n",
              "      <td>Male</td>\n",
              "      <td>Berlin</td>\n",
              "      <td>Senior</td>\n",
              "      <td>Backend Developer</td>\n",
              "      <td>9</td>\n",
              "      <td>Java</td>\n",
              "      <td>70000.0</td>\n",
              "      <td>26</td>\n",
              "      <td>English</td>\n",
              "      <td>51-100</td>\n",
              "      <td>Product</td>\n",
              "      <td>Unlimited contract</td>\n",
              "      <td>2020</td>\n",
              "      <td>72000</td>\n",
              "    </tr>\n",
              "    <tr>\n",
              "      <th>1249</th>\n",
              "      <td>18/01/2021 17:46:02</td>\n",
              "      <td>33.0</td>\n",
              "      <td>Male</td>\n",
              "      <td>Berlin</td>\n",
              "      <td>Senior</td>\n",
              "      <td>Researcher/ Consumer Insights Analyst</td>\n",
              "      <td>10</td>\n",
              "      <td>consumer analysis</td>\n",
              "      <td>48000.0</td>\n",
              "      <td>unlimited</td>\n",
              "      <td>English</td>\n",
              "      <td>1000+</td>\n",
              "      <td>Product</td>\n",
              "      <td>Unlimited contract</td>\n",
              "      <td>2020</td>\n",
              "      <td>2500</td>\n",
              "    </tr>\n",
              "    <tr>\n",
              "      <th>1250</th>\n",
              "      <td>18/01/2021 23:20:35</td>\n",
              "      <td>39.0</td>\n",
              "      <td>Male</td>\n",
              "      <td>Munich</td>\n",
              "      <td>Lead</td>\n",
              "      <td>IT Operations Manager</td>\n",
              "      <td>15</td>\n",
              "      <td>PHP</td>\n",
              "      <td>90000.0</td>\n",
              "      <td>28</td>\n",
              "      <td>English</td>\n",
              "      <td>101-1000</td>\n",
              "      <td>eCommerce</td>\n",
              "      <td>Unlimited contract</td>\n",
              "      <td>2020</td>\n",
              "      <td>NaN</td>\n",
              "    </tr>\n",
              "    <tr>\n",
              "      <th>1251</th>\n",
              "      <td>19/01/2021 10:17:58</td>\n",
              "      <td>26.0</td>\n",
              "      <td>Male</td>\n",
              "      <td>Saarbrücken</td>\n",
              "      <td>Middle</td>\n",
              "      <td>Frontend Developer</td>\n",
              "      <td>7</td>\n",
              "      <td>JavaScript</td>\n",
              "      <td>33800.0</td>\n",
              "      <td>27</td>\n",
              "      <td>German</td>\n",
              "      <td>101-1000</td>\n",
              "      <td>Product</td>\n",
              "      <td>Unlimited contract</td>\n",
              "      <td>2020</td>\n",
              "      <td>36400</td>\n",
              "    </tr>\n",
              "    <tr>\n",
              "      <th>1252</th>\n",
              "      <td>19/01/2021 12:01:11</td>\n",
              "      <td>26.0</td>\n",
              "      <td>Male</td>\n",
              "      <td>Berlin</td>\n",
              "      <td>Middle</td>\n",
              "      <td>DevOps</td>\n",
              "      <td>2</td>\n",
              "      <td>yaml</td>\n",
              "      <td>40000.0</td>\n",
              "      <td>30</td>\n",
              "      <td>English</td>\n",
              "      <td>51-100</td>\n",
              "      <td>Startup</td>\n",
              "      <td>Unlimited contract</td>\n",
              "      <td>2020</td>\n",
              "      <td>0</td>\n",
              "    </tr>\n",
              "  </tbody>\n",
              "</table>\n",
              "<p>2244 rows × 16 columns</p>\n",
              "</div>\n",
              "      <button class=\"colab-df-convert\" onclick=\"convertToInteractive('df-295e0f21-9a50-4b1c-a80c-0547a77d29d0')\"\n",
              "              title=\"Convert this dataframe to an interactive table.\"\n",
              "              style=\"display:none;\">\n",
              "        \n",
              "  <svg xmlns=\"http://www.w3.org/2000/svg\" height=\"24px\"viewBox=\"0 0 24 24\"\n",
              "       width=\"24px\">\n",
              "    <path d=\"M0 0h24v24H0V0z\" fill=\"none\"/>\n",
              "    <path d=\"M18.56 5.44l.94 2.06.94-2.06 2.06-.94-2.06-.94-.94-2.06-.94 2.06-2.06.94zm-11 1L8.5 8.5l.94-2.06 2.06-.94-2.06-.94L8.5 2.5l-.94 2.06-2.06.94zm10 10l.94 2.06.94-2.06 2.06-.94-2.06-.94-.94-2.06-.94 2.06-2.06.94z\"/><path d=\"M17.41 7.96l-1.37-1.37c-.4-.4-.92-.59-1.43-.59-.52 0-1.04.2-1.43.59L10.3 9.45l-7.72 7.72c-.78.78-.78 2.05 0 2.83L4 21.41c.39.39.9.59 1.41.59.51 0 1.02-.2 1.41-.59l7.78-7.78 2.81-2.81c.8-.78.8-2.07 0-2.86zM5.41 20L4 18.59l7.72-7.72 1.47 1.35L5.41 20z\"/>\n",
              "  </svg>\n",
              "      </button>\n",
              "      \n",
              "  <style>\n",
              "    .colab-df-container {\n",
              "      display:flex;\n",
              "      flex-wrap:wrap;\n",
              "      gap: 12px;\n",
              "    }\n",
              "\n",
              "    .colab-df-convert {\n",
              "      background-color: #E8F0FE;\n",
              "      border: none;\n",
              "      border-radius: 50%;\n",
              "      cursor: pointer;\n",
              "      display: none;\n",
              "      fill: #1967D2;\n",
              "      height: 32px;\n",
              "      padding: 0 0 0 0;\n",
              "      width: 32px;\n",
              "    }\n",
              "\n",
              "    .colab-df-convert:hover {\n",
              "      background-color: #E2EBFA;\n",
              "      box-shadow: 0px 1px 2px rgba(60, 64, 67, 0.3), 0px 1px 3px 1px rgba(60, 64, 67, 0.15);\n",
              "      fill: #174EA6;\n",
              "    }\n",
              "\n",
              "    [theme=dark] .colab-df-convert {\n",
              "      background-color: #3B4455;\n",
              "      fill: #D2E3FC;\n",
              "    }\n",
              "\n",
              "    [theme=dark] .colab-df-convert:hover {\n",
              "      background-color: #434B5C;\n",
              "      box-shadow: 0px 1px 3px 1px rgba(0, 0, 0, 0.15);\n",
              "      filter: drop-shadow(0px 1px 2px rgba(0, 0, 0, 0.3));\n",
              "      fill: #FFFFFF;\n",
              "    }\n",
              "  </style>\n",
              "\n",
              "      <script>\n",
              "        const buttonEl =\n",
              "          document.querySelector('#df-295e0f21-9a50-4b1c-a80c-0547a77d29d0 button.colab-df-convert');\n",
              "        buttonEl.style.display =\n",
              "          google.colab.kernel.accessAllowed ? 'block' : 'none';\n",
              "\n",
              "        async function convertToInteractive(key) {\n",
              "          const element = document.querySelector('#df-295e0f21-9a50-4b1c-a80c-0547a77d29d0');\n",
              "          const dataTable =\n",
              "            await google.colab.kernel.invokeFunction('convertToInteractive',\n",
              "                                                     [key], {});\n",
              "          if (!dataTable) return;\n",
              "\n",
              "          const docLinkHtml = 'Like what you see? Visit the ' +\n",
              "            '<a target=\"_blank\" href=https://colab.research.google.com/notebooks/data_table.ipynb>data table notebook</a>'\n",
              "            + ' to learn more about interactive tables.';\n",
              "          element.innerHTML = '';\n",
              "          dataTable['output_type'] = 'display_data';\n",
              "          await google.colab.output.renderOutput(dataTable, element);\n",
              "          const docLink = document.createElement('div');\n",
              "          docLink.innerHTML = docLinkHtml;\n",
              "          element.appendChild(docLink);\n",
              "        }\n",
              "      </script>\n",
              "    </div>\n",
              "  </div>\n",
              "  "
            ]
          },
          "metadata": {},
          "execution_count": 309
        }
      ]
    },
    {
      "cell_type": "code",
      "source": [
        "full_data_2['Timestamp'] = pd.to_datetime(full_data_2['Timestamp'])\n",
        "full_data_2['stamp_year'] = full_data_2['Timestamp'].dt.year"
      ],
      "metadata": {
        "id": "f6ClCwcMESgY"
      },
      "execution_count": null,
      "outputs": []
    },
    {
      "cell_type": "code",
      "source": [
        "full_data_2 = full_data_2[~(full_data_2['Year']!=full_data_2['stamp_year'])]\n",
        "full_data_2"
      ],
      "metadata": {
        "colab": {
          "base_uri": "https://localhost:8080/"
        },
        "outputId": "8c3d6485-bbe6-4e87-8a19-5b10bcc869d0",
        "id": "zVK8qEJ0ESgZ"
      },
      "execution_count": null,
      "outputs": [
        {
          "output_type": "execute_result",
          "data": {
            "text/plain": [
              "               Timestamp   Age  Gender    City Seniority level  \\\n",
              "0    2019-02-12 11:18:26  33.0    Male  Berlin          Senior   \n",
              "1    2019-02-12 11:18:35  29.0    Male  Berlin          Middle   \n",
              "2    2019-02-12 11:18:56   NaN    Male  Berlin          Middle   \n",
              "3    2019-02-12 11:19:08  30.0    Male  Berlin          Senior   \n",
              "4    2019-02-12 11:19:37  32.0    Male  Berlin          Senior   \n",
              "...                  ...   ...     ...     ...             ...   \n",
              "1211 2020-12-29 23:57:42  29.0    Male  Munich          Middle   \n",
              "1212 2020-12-30 02:23:59  30.0  Female  Berlin            Lead   \n",
              "1213 2020-12-30 13:18:32  30.0    Male  Munich          Senior   \n",
              "1214 2020-12-30 16:32:25  29.0    Male  Berlin          Senior   \n",
              "1215 2020-12-31 17:56:25  34.0    Male  Berlin            Lead   \n",
              "\n",
              "                Position  Total years of experience  \\\n",
              "0     Fullstack Developer                        13   \n",
              "1       Backend Developer                         3   \n",
              "2        Mobile Developer                         4   \n",
              "3       Backend Developer                         6   \n",
              "4      Embedded Developer                        10   \n",
              "...                   ...                       ...   \n",
              "1211       Data Scientist                         6   \n",
              "1212   Frontend Developer                         3   \n",
              "1213    Software Engineer                         8   \n",
              "1214    Backend Developer                         5   \n",
              "1215    Software Engineer                        14   \n",
              "\n",
              "     Your main technology / programming language  \\\n",
              "0                                            PHP   \n",
              "1                                         Python   \n",
              "2                                         Kotlin   \n",
              "3                                            PHP   \n",
              "4                                          C/C++   \n",
              "...                                          ...   \n",
              "1211                                         SQL   \n",
              "1212                                 JavaScript    \n",
              "1213                                         PHP   \n",
              "1214                                          Go   \n",
              "1215                                        Java   \n",
              "\n",
              "      Annual brutto salary (without bonus and stocks) one year ago. Only answer if staying in the same country  \\\n",
              "0                                               58000.0                                                          \n",
              "1                                               55000.0                                                          \n",
              "2                                               55000.0                                                          \n",
              "3                                                   NaN                                                          \n",
              "4                                               56000.0                                                          \n",
              "...                                                 ...                                                          \n",
              "1211                                            60000.0                                                          \n",
              "1212                                            51200.0                                                          \n",
              "1213                                            65000.0                                                          \n",
              "1214                                            70000.0                                                          \n",
              "1215                                            92000.0                                                          \n",
              "\n",
              "     Number of vacation days Main language at work Company size Company type  \\\n",
              "0                       29.0               English       50-100      Startup   \n",
              "1                       22.0               English        10-50      Product   \n",
              "2                       27.0               English        1000+      Startup   \n",
              "3                       24.0               English     100-1000      Product   \n",
              "4                       30.0               English       50-100      Product   \n",
              "...                      ...                   ...          ...          ...   \n",
              "1211                      28               English        1000+      Product   \n",
              "1212                      30               English     101-1000      Product   \n",
              "1213                      26               English       51-100      Product   \n",
              "1214                      25               English     101-1000      Product   \n",
              "1215                      30               English        1000+      Product   \n",
              "\n",
              "       Сontract duration  Year  \\\n",
              "0              unlimited  2019   \n",
              "1              unlimited  2019   \n",
              "2              unlimited  2019   \n",
              "3              unlimited  2019   \n",
              "4              unlimited  2019   \n",
              "...                  ...   ...   \n",
              "1211  Unlimited contract  2020   \n",
              "1212  Unlimited contract  2020   \n",
              "1213  Unlimited contract  2020   \n",
              "1214  Unlimited contract  2020   \n",
              "1215  Unlimited contract  2020   \n",
              "\n",
              "     Annual bonus+stocks one year ago. Only answer if staying in same country  \\\n",
              "0                                                   NaN                         \n",
              "1                                                   NaN                         \n",
              "2                                                   NaN                         \n",
              "3                                                   NaN                         \n",
              "4                                                   NaN                         \n",
              "...                                                 ...                         \n",
              "1211                                              15000                         \n",
              "1212                                                  0                         \n",
              "1213                                                  0                         \n",
              "1214                                                  0                         \n",
              "1215                                              92000                         \n",
              "\n",
              "      stamp_year  \n",
              "0           2019  \n",
              "1           2019  \n",
              "2           2019  \n",
              "3           2019  \n",
              "4           2019  \n",
              "...          ...  \n",
              "1211        2020  \n",
              "1212        2020  \n",
              "1213        2020  \n",
              "1214        2020  \n",
              "1215        2020  \n",
              "\n",
              "[2187 rows x 17 columns]"
            ],
            "text/html": [
              "\n",
              "  <div id=\"df-3d699b6e-4b6e-44d9-ad11-768a3148074b\">\n",
              "    <div class=\"colab-df-container\">\n",
              "      <div>\n",
              "<style scoped>\n",
              "    .dataframe tbody tr th:only-of-type {\n",
              "        vertical-align: middle;\n",
              "    }\n",
              "\n",
              "    .dataframe tbody tr th {\n",
              "        vertical-align: top;\n",
              "    }\n",
              "\n",
              "    .dataframe thead th {\n",
              "        text-align: right;\n",
              "    }\n",
              "</style>\n",
              "<table border=\"1\" class=\"dataframe\">\n",
              "  <thead>\n",
              "    <tr style=\"text-align: right;\">\n",
              "      <th></th>\n",
              "      <th>Timestamp</th>\n",
              "      <th>Age</th>\n",
              "      <th>Gender</th>\n",
              "      <th>City</th>\n",
              "      <th>Seniority level</th>\n",
              "      <th>Position</th>\n",
              "      <th>Total years of experience</th>\n",
              "      <th>Your main technology / programming language</th>\n",
              "      <th>Annual brutto salary (without bonus and stocks) one year ago. Only answer if staying in the same country</th>\n",
              "      <th>Number of vacation days</th>\n",
              "      <th>Main language at work</th>\n",
              "      <th>Company size</th>\n",
              "      <th>Company type</th>\n",
              "      <th>Сontract duration</th>\n",
              "      <th>Year</th>\n",
              "      <th>Annual bonus+stocks one year ago. Only answer if staying in same country</th>\n",
              "      <th>stamp_year</th>\n",
              "    </tr>\n",
              "  </thead>\n",
              "  <tbody>\n",
              "    <tr>\n",
              "      <th>0</th>\n",
              "      <td>2019-02-12 11:18:26</td>\n",
              "      <td>33.0</td>\n",
              "      <td>Male</td>\n",
              "      <td>Berlin</td>\n",
              "      <td>Senior</td>\n",
              "      <td>Fullstack Developer</td>\n",
              "      <td>13</td>\n",
              "      <td>PHP</td>\n",
              "      <td>58000.0</td>\n",
              "      <td>29.0</td>\n",
              "      <td>English</td>\n",
              "      <td>50-100</td>\n",
              "      <td>Startup</td>\n",
              "      <td>unlimited</td>\n",
              "      <td>2019</td>\n",
              "      <td>NaN</td>\n",
              "      <td>2019</td>\n",
              "    </tr>\n",
              "    <tr>\n",
              "      <th>1</th>\n",
              "      <td>2019-02-12 11:18:35</td>\n",
              "      <td>29.0</td>\n",
              "      <td>Male</td>\n",
              "      <td>Berlin</td>\n",
              "      <td>Middle</td>\n",
              "      <td>Backend Developer</td>\n",
              "      <td>3</td>\n",
              "      <td>Python</td>\n",
              "      <td>55000.0</td>\n",
              "      <td>22.0</td>\n",
              "      <td>English</td>\n",
              "      <td>10-50</td>\n",
              "      <td>Product</td>\n",
              "      <td>unlimited</td>\n",
              "      <td>2019</td>\n",
              "      <td>NaN</td>\n",
              "      <td>2019</td>\n",
              "    </tr>\n",
              "    <tr>\n",
              "      <th>2</th>\n",
              "      <td>2019-02-12 11:18:56</td>\n",
              "      <td>NaN</td>\n",
              "      <td>Male</td>\n",
              "      <td>Berlin</td>\n",
              "      <td>Middle</td>\n",
              "      <td>Mobile Developer</td>\n",
              "      <td>4</td>\n",
              "      <td>Kotlin</td>\n",
              "      <td>55000.0</td>\n",
              "      <td>27.0</td>\n",
              "      <td>English</td>\n",
              "      <td>1000+</td>\n",
              "      <td>Startup</td>\n",
              "      <td>unlimited</td>\n",
              "      <td>2019</td>\n",
              "      <td>NaN</td>\n",
              "      <td>2019</td>\n",
              "    </tr>\n",
              "    <tr>\n",
              "      <th>3</th>\n",
              "      <td>2019-02-12 11:19:08</td>\n",
              "      <td>30.0</td>\n",
              "      <td>Male</td>\n",
              "      <td>Berlin</td>\n",
              "      <td>Senior</td>\n",
              "      <td>Backend Developer</td>\n",
              "      <td>6</td>\n",
              "      <td>PHP</td>\n",
              "      <td>NaN</td>\n",
              "      <td>24.0</td>\n",
              "      <td>English</td>\n",
              "      <td>100-1000</td>\n",
              "      <td>Product</td>\n",
              "      <td>unlimited</td>\n",
              "      <td>2019</td>\n",
              "      <td>NaN</td>\n",
              "      <td>2019</td>\n",
              "    </tr>\n",
              "    <tr>\n",
              "      <th>4</th>\n",
              "      <td>2019-02-12 11:19:37</td>\n",
              "      <td>32.0</td>\n",
              "      <td>Male</td>\n",
              "      <td>Berlin</td>\n",
              "      <td>Senior</td>\n",
              "      <td>Embedded Developer</td>\n",
              "      <td>10</td>\n",
              "      <td>C/C++</td>\n",
              "      <td>56000.0</td>\n",
              "      <td>30.0</td>\n",
              "      <td>English</td>\n",
              "      <td>50-100</td>\n",
              "      <td>Product</td>\n",
              "      <td>unlimited</td>\n",
              "      <td>2019</td>\n",
              "      <td>NaN</td>\n",
              "      <td>2019</td>\n",
              "    </tr>\n",
              "    <tr>\n",
              "      <th>...</th>\n",
              "      <td>...</td>\n",
              "      <td>...</td>\n",
              "      <td>...</td>\n",
              "      <td>...</td>\n",
              "      <td>...</td>\n",
              "      <td>...</td>\n",
              "      <td>...</td>\n",
              "      <td>...</td>\n",
              "      <td>...</td>\n",
              "      <td>...</td>\n",
              "      <td>...</td>\n",
              "      <td>...</td>\n",
              "      <td>...</td>\n",
              "      <td>...</td>\n",
              "      <td>...</td>\n",
              "      <td>...</td>\n",
              "      <td>...</td>\n",
              "    </tr>\n",
              "    <tr>\n",
              "      <th>1211</th>\n",
              "      <td>2020-12-29 23:57:42</td>\n",
              "      <td>29.0</td>\n",
              "      <td>Male</td>\n",
              "      <td>Munich</td>\n",
              "      <td>Middle</td>\n",
              "      <td>Data Scientist</td>\n",
              "      <td>6</td>\n",
              "      <td>SQL</td>\n",
              "      <td>60000.0</td>\n",
              "      <td>28</td>\n",
              "      <td>English</td>\n",
              "      <td>1000+</td>\n",
              "      <td>Product</td>\n",
              "      <td>Unlimited contract</td>\n",
              "      <td>2020</td>\n",
              "      <td>15000</td>\n",
              "      <td>2020</td>\n",
              "    </tr>\n",
              "    <tr>\n",
              "      <th>1212</th>\n",
              "      <td>2020-12-30 02:23:59</td>\n",
              "      <td>30.0</td>\n",
              "      <td>Female</td>\n",
              "      <td>Berlin</td>\n",
              "      <td>Lead</td>\n",
              "      <td>Frontend Developer</td>\n",
              "      <td>3</td>\n",
              "      <td>JavaScript</td>\n",
              "      <td>51200.0</td>\n",
              "      <td>30</td>\n",
              "      <td>English</td>\n",
              "      <td>101-1000</td>\n",
              "      <td>Product</td>\n",
              "      <td>Unlimited contract</td>\n",
              "      <td>2020</td>\n",
              "      <td>0</td>\n",
              "      <td>2020</td>\n",
              "    </tr>\n",
              "    <tr>\n",
              "      <th>1213</th>\n",
              "      <td>2020-12-30 13:18:32</td>\n",
              "      <td>30.0</td>\n",
              "      <td>Male</td>\n",
              "      <td>Munich</td>\n",
              "      <td>Senior</td>\n",
              "      <td>Software Engineer</td>\n",
              "      <td>8</td>\n",
              "      <td>PHP</td>\n",
              "      <td>65000.0</td>\n",
              "      <td>26</td>\n",
              "      <td>English</td>\n",
              "      <td>51-100</td>\n",
              "      <td>Product</td>\n",
              "      <td>Unlimited contract</td>\n",
              "      <td>2020</td>\n",
              "      <td>0</td>\n",
              "      <td>2020</td>\n",
              "    </tr>\n",
              "    <tr>\n",
              "      <th>1214</th>\n",
              "      <td>2020-12-30 16:32:25</td>\n",
              "      <td>29.0</td>\n",
              "      <td>Male</td>\n",
              "      <td>Berlin</td>\n",
              "      <td>Senior</td>\n",
              "      <td>Backend Developer</td>\n",
              "      <td>5</td>\n",
              "      <td>Go</td>\n",
              "      <td>70000.0</td>\n",
              "      <td>25</td>\n",
              "      <td>English</td>\n",
              "      <td>101-1000</td>\n",
              "      <td>Product</td>\n",
              "      <td>Unlimited contract</td>\n",
              "      <td>2020</td>\n",
              "      <td>0</td>\n",
              "      <td>2020</td>\n",
              "    </tr>\n",
              "    <tr>\n",
              "      <th>1215</th>\n",
              "      <td>2020-12-31 17:56:25</td>\n",
              "      <td>34.0</td>\n",
              "      <td>Male</td>\n",
              "      <td>Berlin</td>\n",
              "      <td>Lead</td>\n",
              "      <td>Software Engineer</td>\n",
              "      <td>14</td>\n",
              "      <td>Java</td>\n",
              "      <td>92000.0</td>\n",
              "      <td>30</td>\n",
              "      <td>English</td>\n",
              "      <td>1000+</td>\n",
              "      <td>Product</td>\n",
              "      <td>Unlimited contract</td>\n",
              "      <td>2020</td>\n",
              "      <td>92000</td>\n",
              "      <td>2020</td>\n",
              "    </tr>\n",
              "  </tbody>\n",
              "</table>\n",
              "<p>2187 rows × 17 columns</p>\n",
              "</div>\n",
              "      <button class=\"colab-df-convert\" onclick=\"convertToInteractive('df-3d699b6e-4b6e-44d9-ad11-768a3148074b')\"\n",
              "              title=\"Convert this dataframe to an interactive table.\"\n",
              "              style=\"display:none;\">\n",
              "        \n",
              "  <svg xmlns=\"http://www.w3.org/2000/svg\" height=\"24px\"viewBox=\"0 0 24 24\"\n",
              "       width=\"24px\">\n",
              "    <path d=\"M0 0h24v24H0V0z\" fill=\"none\"/>\n",
              "    <path d=\"M18.56 5.44l.94 2.06.94-2.06 2.06-.94-2.06-.94-.94-2.06-.94 2.06-2.06.94zm-11 1L8.5 8.5l.94-2.06 2.06-.94-2.06-.94L8.5 2.5l-.94 2.06-2.06.94zm10 10l.94 2.06.94-2.06 2.06-.94-2.06-.94-.94-2.06-.94 2.06-2.06.94z\"/><path d=\"M17.41 7.96l-1.37-1.37c-.4-.4-.92-.59-1.43-.59-.52 0-1.04.2-1.43.59L10.3 9.45l-7.72 7.72c-.78.78-.78 2.05 0 2.83L4 21.41c.39.39.9.59 1.41.59.51 0 1.02-.2 1.41-.59l7.78-7.78 2.81-2.81c.8-.78.8-2.07 0-2.86zM5.41 20L4 18.59l7.72-7.72 1.47 1.35L5.41 20z\"/>\n",
              "  </svg>\n",
              "      </button>\n",
              "      \n",
              "  <style>\n",
              "    .colab-df-container {\n",
              "      display:flex;\n",
              "      flex-wrap:wrap;\n",
              "      gap: 12px;\n",
              "    }\n",
              "\n",
              "    .colab-df-convert {\n",
              "      background-color: #E8F0FE;\n",
              "      border: none;\n",
              "      border-radius: 50%;\n",
              "      cursor: pointer;\n",
              "      display: none;\n",
              "      fill: #1967D2;\n",
              "      height: 32px;\n",
              "      padding: 0 0 0 0;\n",
              "      width: 32px;\n",
              "    }\n",
              "\n",
              "    .colab-df-convert:hover {\n",
              "      background-color: #E2EBFA;\n",
              "      box-shadow: 0px 1px 2px rgba(60, 64, 67, 0.3), 0px 1px 3px 1px rgba(60, 64, 67, 0.15);\n",
              "      fill: #174EA6;\n",
              "    }\n",
              "\n",
              "    [theme=dark] .colab-df-convert {\n",
              "      background-color: #3B4455;\n",
              "      fill: #D2E3FC;\n",
              "    }\n",
              "\n",
              "    [theme=dark] .colab-df-convert:hover {\n",
              "      background-color: #434B5C;\n",
              "      box-shadow: 0px 1px 3px 1px rgba(0, 0, 0, 0.15);\n",
              "      filter: drop-shadow(0px 1px 2px rgba(0, 0, 0, 0.3));\n",
              "      fill: #FFFFFF;\n",
              "    }\n",
              "  </style>\n",
              "\n",
              "      <script>\n",
              "        const buttonEl =\n",
              "          document.querySelector('#df-3d699b6e-4b6e-44d9-ad11-768a3148074b button.colab-df-convert');\n",
              "        buttonEl.style.display =\n",
              "          google.colab.kernel.accessAllowed ? 'block' : 'none';\n",
              "\n",
              "        async function convertToInteractive(key) {\n",
              "          const element = document.querySelector('#df-3d699b6e-4b6e-44d9-ad11-768a3148074b');\n",
              "          const dataTable =\n",
              "            await google.colab.kernel.invokeFunction('convertToInteractive',\n",
              "                                                     [key], {});\n",
              "          if (!dataTable) return;\n",
              "\n",
              "          const docLinkHtml = 'Like what you see? Visit the ' +\n",
              "            '<a target=\"_blank\" href=https://colab.research.google.com/notebooks/data_table.ipynb>data table notebook</a>'\n",
              "            + ' to learn more about interactive tables.';\n",
              "          element.innerHTML = '';\n",
              "          dataTable['output_type'] = 'display_data';\n",
              "          await google.colab.output.renderOutput(dataTable, element);\n",
              "          const docLink = document.createElement('div');\n",
              "          docLink.innerHTML = docLinkHtml;\n",
              "          element.appendChild(docLink);\n",
              "        }\n",
              "      </script>\n",
              "    </div>\n",
              "  </div>\n",
              "  "
            ]
          },
          "metadata": {},
          "execution_count": 311
        }
      ]
    },
    {
      "cell_type": "markdown",
      "source": [
        "## Análise Exploratória\n",
        "**Dados Categóricos**"
      ],
      "metadata": {
        "id": "0MC5Qa9n2pJA"
      }
    },
    {
      "cell_type": "code",
      "source": [
        "full_data_2.select_dtypes('object')"
      ],
      "metadata": {
        "id": "sAbgz0Kt2L3I",
        "colab": {
          "base_uri": "https://localhost:8080/"
        },
        "outputId": "8363969a-e474-40d1-b6b7-df307371ef11"
      },
      "execution_count": null,
      "outputs": [
        {
          "output_type": "execute_result",
          "data": {
            "text/plain": [
              "      Gender    City Seniority level            Position   \\\n",
              "0       Male  Berlin          Senior  Fullstack Developer   \n",
              "1       Male  Berlin          Middle    Backend Developer   \n",
              "2       Male  Berlin          Middle     Mobile Developer   \n",
              "3       Male  Berlin          Senior    Backend Developer   \n",
              "4       Male  Berlin          Senior   Embedded Developer   \n",
              "...      ...     ...             ...                  ...   \n",
              "1211    Male  Munich          Middle       Data Scientist   \n",
              "1212  Female  Berlin            Lead   Frontend Developer   \n",
              "1213    Male  Munich          Senior    Software Engineer   \n",
              "1214    Male  Berlin          Senior    Backend Developer   \n",
              "1215    Male  Berlin            Lead    Software Engineer   \n",
              "\n",
              "     Total years of experience Your main technology / programming language  \\\n",
              "0                           13                                         PHP   \n",
              "1                            3                                      Python   \n",
              "2                            4                                      Kotlin   \n",
              "3                            6                                         PHP   \n",
              "4                           10                                       C/C++   \n",
              "...                        ...                                         ...   \n",
              "1211                         6                                         SQL   \n",
              "1212                         3                                 JavaScript    \n",
              "1213                         8                                         PHP   \n",
              "1214                         5                                          Go   \n",
              "1215                        14                                        Java   \n",
              "\n",
              "     Number of vacation days Main language at work Company size Company type  \\\n",
              "0                       29.0               English       50-100      Startup   \n",
              "1                       22.0               English        10-50      Product   \n",
              "2                       27.0               English        1000+      Startup   \n",
              "3                       24.0               English     100-1000      Product   \n",
              "4                       30.0               English       50-100      Product   \n",
              "...                      ...                   ...          ...          ...   \n",
              "1211                      28               English        1000+      Product   \n",
              "1212                      30               English     101-1000      Product   \n",
              "1213                      26               English       51-100      Product   \n",
              "1214                      25               English     101-1000      Product   \n",
              "1215                      30               English        1000+      Product   \n",
              "\n",
              "       Сontract duration  \\\n",
              "0              unlimited   \n",
              "1              unlimited   \n",
              "2              unlimited   \n",
              "3              unlimited   \n",
              "4              unlimited   \n",
              "...                  ...   \n",
              "1211  Unlimited contract   \n",
              "1212  Unlimited contract   \n",
              "1213  Unlimited contract   \n",
              "1214  Unlimited contract   \n",
              "1215  Unlimited contract   \n",
              "\n",
              "     Annual bonus+stocks one year ago. Only answer if staying in same country  \n",
              "0                                                   NaN                        \n",
              "1                                                   NaN                        \n",
              "2                                                   NaN                        \n",
              "3                                                   NaN                        \n",
              "4                                                   NaN                        \n",
              "...                                                 ...                        \n",
              "1211                                              15000                        \n",
              "1212                                                  0                        \n",
              "1213                                                  0                        \n",
              "1214                                                  0                        \n",
              "1215                                              92000                        \n",
              "\n",
              "[2187 rows x 12 columns]"
            ],
            "text/html": [
              "\n",
              "  <div id=\"df-a69e5da8-26b0-417e-8af9-deb78d08c404\">\n",
              "    <div class=\"colab-df-container\">\n",
              "      <div>\n",
              "<style scoped>\n",
              "    .dataframe tbody tr th:only-of-type {\n",
              "        vertical-align: middle;\n",
              "    }\n",
              "\n",
              "    .dataframe tbody tr th {\n",
              "        vertical-align: top;\n",
              "    }\n",
              "\n",
              "    .dataframe thead th {\n",
              "        text-align: right;\n",
              "    }\n",
              "</style>\n",
              "<table border=\"1\" class=\"dataframe\">\n",
              "  <thead>\n",
              "    <tr style=\"text-align: right;\">\n",
              "      <th></th>\n",
              "      <th>Gender</th>\n",
              "      <th>City</th>\n",
              "      <th>Seniority level</th>\n",
              "      <th>Position</th>\n",
              "      <th>Total years of experience</th>\n",
              "      <th>Your main technology / programming language</th>\n",
              "      <th>Number of vacation days</th>\n",
              "      <th>Main language at work</th>\n",
              "      <th>Company size</th>\n",
              "      <th>Company type</th>\n",
              "      <th>Сontract duration</th>\n",
              "      <th>Annual bonus+stocks one year ago. Only answer if staying in same country</th>\n",
              "    </tr>\n",
              "  </thead>\n",
              "  <tbody>\n",
              "    <tr>\n",
              "      <th>0</th>\n",
              "      <td>Male</td>\n",
              "      <td>Berlin</td>\n",
              "      <td>Senior</td>\n",
              "      <td>Fullstack Developer</td>\n",
              "      <td>13</td>\n",
              "      <td>PHP</td>\n",
              "      <td>29.0</td>\n",
              "      <td>English</td>\n",
              "      <td>50-100</td>\n",
              "      <td>Startup</td>\n",
              "      <td>unlimited</td>\n",
              "      <td>NaN</td>\n",
              "    </tr>\n",
              "    <tr>\n",
              "      <th>1</th>\n",
              "      <td>Male</td>\n",
              "      <td>Berlin</td>\n",
              "      <td>Middle</td>\n",
              "      <td>Backend Developer</td>\n",
              "      <td>3</td>\n",
              "      <td>Python</td>\n",
              "      <td>22.0</td>\n",
              "      <td>English</td>\n",
              "      <td>10-50</td>\n",
              "      <td>Product</td>\n",
              "      <td>unlimited</td>\n",
              "      <td>NaN</td>\n",
              "    </tr>\n",
              "    <tr>\n",
              "      <th>2</th>\n",
              "      <td>Male</td>\n",
              "      <td>Berlin</td>\n",
              "      <td>Middle</td>\n",
              "      <td>Mobile Developer</td>\n",
              "      <td>4</td>\n",
              "      <td>Kotlin</td>\n",
              "      <td>27.0</td>\n",
              "      <td>English</td>\n",
              "      <td>1000+</td>\n",
              "      <td>Startup</td>\n",
              "      <td>unlimited</td>\n",
              "      <td>NaN</td>\n",
              "    </tr>\n",
              "    <tr>\n",
              "      <th>3</th>\n",
              "      <td>Male</td>\n",
              "      <td>Berlin</td>\n",
              "      <td>Senior</td>\n",
              "      <td>Backend Developer</td>\n",
              "      <td>6</td>\n",
              "      <td>PHP</td>\n",
              "      <td>24.0</td>\n",
              "      <td>English</td>\n",
              "      <td>100-1000</td>\n",
              "      <td>Product</td>\n",
              "      <td>unlimited</td>\n",
              "      <td>NaN</td>\n",
              "    </tr>\n",
              "    <tr>\n",
              "      <th>4</th>\n",
              "      <td>Male</td>\n",
              "      <td>Berlin</td>\n",
              "      <td>Senior</td>\n",
              "      <td>Embedded Developer</td>\n",
              "      <td>10</td>\n",
              "      <td>C/C++</td>\n",
              "      <td>30.0</td>\n",
              "      <td>English</td>\n",
              "      <td>50-100</td>\n",
              "      <td>Product</td>\n",
              "      <td>unlimited</td>\n",
              "      <td>NaN</td>\n",
              "    </tr>\n",
              "    <tr>\n",
              "      <th>...</th>\n",
              "      <td>...</td>\n",
              "      <td>...</td>\n",
              "      <td>...</td>\n",
              "      <td>...</td>\n",
              "      <td>...</td>\n",
              "      <td>...</td>\n",
              "      <td>...</td>\n",
              "      <td>...</td>\n",
              "      <td>...</td>\n",
              "      <td>...</td>\n",
              "      <td>...</td>\n",
              "      <td>...</td>\n",
              "    </tr>\n",
              "    <tr>\n",
              "      <th>1211</th>\n",
              "      <td>Male</td>\n",
              "      <td>Munich</td>\n",
              "      <td>Middle</td>\n",
              "      <td>Data Scientist</td>\n",
              "      <td>6</td>\n",
              "      <td>SQL</td>\n",
              "      <td>28</td>\n",
              "      <td>English</td>\n",
              "      <td>1000+</td>\n",
              "      <td>Product</td>\n",
              "      <td>Unlimited contract</td>\n",
              "      <td>15000</td>\n",
              "    </tr>\n",
              "    <tr>\n",
              "      <th>1212</th>\n",
              "      <td>Female</td>\n",
              "      <td>Berlin</td>\n",
              "      <td>Lead</td>\n",
              "      <td>Frontend Developer</td>\n",
              "      <td>3</td>\n",
              "      <td>JavaScript</td>\n",
              "      <td>30</td>\n",
              "      <td>English</td>\n",
              "      <td>101-1000</td>\n",
              "      <td>Product</td>\n",
              "      <td>Unlimited contract</td>\n",
              "      <td>0</td>\n",
              "    </tr>\n",
              "    <tr>\n",
              "      <th>1213</th>\n",
              "      <td>Male</td>\n",
              "      <td>Munich</td>\n",
              "      <td>Senior</td>\n",
              "      <td>Software Engineer</td>\n",
              "      <td>8</td>\n",
              "      <td>PHP</td>\n",
              "      <td>26</td>\n",
              "      <td>English</td>\n",
              "      <td>51-100</td>\n",
              "      <td>Product</td>\n",
              "      <td>Unlimited contract</td>\n",
              "      <td>0</td>\n",
              "    </tr>\n",
              "    <tr>\n",
              "      <th>1214</th>\n",
              "      <td>Male</td>\n",
              "      <td>Berlin</td>\n",
              "      <td>Senior</td>\n",
              "      <td>Backend Developer</td>\n",
              "      <td>5</td>\n",
              "      <td>Go</td>\n",
              "      <td>25</td>\n",
              "      <td>English</td>\n",
              "      <td>101-1000</td>\n",
              "      <td>Product</td>\n",
              "      <td>Unlimited contract</td>\n",
              "      <td>0</td>\n",
              "    </tr>\n",
              "    <tr>\n",
              "      <th>1215</th>\n",
              "      <td>Male</td>\n",
              "      <td>Berlin</td>\n",
              "      <td>Lead</td>\n",
              "      <td>Software Engineer</td>\n",
              "      <td>14</td>\n",
              "      <td>Java</td>\n",
              "      <td>30</td>\n",
              "      <td>English</td>\n",
              "      <td>1000+</td>\n",
              "      <td>Product</td>\n",
              "      <td>Unlimited contract</td>\n",
              "      <td>92000</td>\n",
              "    </tr>\n",
              "  </tbody>\n",
              "</table>\n",
              "<p>2187 rows × 12 columns</p>\n",
              "</div>\n",
              "      <button class=\"colab-df-convert\" onclick=\"convertToInteractive('df-a69e5da8-26b0-417e-8af9-deb78d08c404')\"\n",
              "              title=\"Convert this dataframe to an interactive table.\"\n",
              "              style=\"display:none;\">\n",
              "        \n",
              "  <svg xmlns=\"http://www.w3.org/2000/svg\" height=\"24px\"viewBox=\"0 0 24 24\"\n",
              "       width=\"24px\">\n",
              "    <path d=\"M0 0h24v24H0V0z\" fill=\"none\"/>\n",
              "    <path d=\"M18.56 5.44l.94 2.06.94-2.06 2.06-.94-2.06-.94-.94-2.06-.94 2.06-2.06.94zm-11 1L8.5 8.5l.94-2.06 2.06-.94-2.06-.94L8.5 2.5l-.94 2.06-2.06.94zm10 10l.94 2.06.94-2.06 2.06-.94-2.06-.94-.94-2.06-.94 2.06-2.06.94z\"/><path d=\"M17.41 7.96l-1.37-1.37c-.4-.4-.92-.59-1.43-.59-.52 0-1.04.2-1.43.59L10.3 9.45l-7.72 7.72c-.78.78-.78 2.05 0 2.83L4 21.41c.39.39.9.59 1.41.59.51 0 1.02-.2 1.41-.59l7.78-7.78 2.81-2.81c.8-.78.8-2.07 0-2.86zM5.41 20L4 18.59l7.72-7.72 1.47 1.35L5.41 20z\"/>\n",
              "  </svg>\n",
              "      </button>\n",
              "      \n",
              "  <style>\n",
              "    .colab-df-container {\n",
              "      display:flex;\n",
              "      flex-wrap:wrap;\n",
              "      gap: 12px;\n",
              "    }\n",
              "\n",
              "    .colab-df-convert {\n",
              "      background-color: #E8F0FE;\n",
              "      border: none;\n",
              "      border-radius: 50%;\n",
              "      cursor: pointer;\n",
              "      display: none;\n",
              "      fill: #1967D2;\n",
              "      height: 32px;\n",
              "      padding: 0 0 0 0;\n",
              "      width: 32px;\n",
              "    }\n",
              "\n",
              "    .colab-df-convert:hover {\n",
              "      background-color: #E2EBFA;\n",
              "      box-shadow: 0px 1px 2px rgba(60, 64, 67, 0.3), 0px 1px 3px 1px rgba(60, 64, 67, 0.15);\n",
              "      fill: #174EA6;\n",
              "    }\n",
              "\n",
              "    [theme=dark] .colab-df-convert {\n",
              "      background-color: #3B4455;\n",
              "      fill: #D2E3FC;\n",
              "    }\n",
              "\n",
              "    [theme=dark] .colab-df-convert:hover {\n",
              "      background-color: #434B5C;\n",
              "      box-shadow: 0px 1px 3px 1px rgba(0, 0, 0, 0.15);\n",
              "      filter: drop-shadow(0px 1px 2px rgba(0, 0, 0, 0.3));\n",
              "      fill: #FFFFFF;\n",
              "    }\n",
              "  </style>\n",
              "\n",
              "      <script>\n",
              "        const buttonEl =\n",
              "          document.querySelector('#df-a69e5da8-26b0-417e-8af9-deb78d08c404 button.colab-df-convert');\n",
              "        buttonEl.style.display =\n",
              "          google.colab.kernel.accessAllowed ? 'block' : 'none';\n",
              "\n",
              "        async function convertToInteractive(key) {\n",
              "          const element = document.querySelector('#df-a69e5da8-26b0-417e-8af9-deb78d08c404');\n",
              "          const dataTable =\n",
              "            await google.colab.kernel.invokeFunction('convertToInteractive',\n",
              "                                                     [key], {});\n",
              "          if (!dataTable) return;\n",
              "\n",
              "          const docLinkHtml = 'Like what you see? Visit the ' +\n",
              "            '<a target=\"_blank\" href=https://colab.research.google.com/notebooks/data_table.ipynb>data table notebook</a>'\n",
              "            + ' to learn more about interactive tables.';\n",
              "          element.innerHTML = '';\n",
              "          dataTable['output_type'] = 'display_data';\n",
              "          await google.colab.output.renderOutput(dataTable, element);\n",
              "          const docLink = document.createElement('div');\n",
              "          docLink.innerHTML = docLinkHtml;\n",
              "          element.appendChild(docLink);\n",
              "        }\n",
              "      </script>\n",
              "    </div>\n",
              "  </div>\n",
              "  "
            ]
          },
          "metadata": {},
          "execution_count": 312
        }
      ]
    },
    {
      "cell_type": "markdown",
      "source": [
        "### - Gênero (Gender):"
      ],
      "metadata": {
        "id": "_3oGUuMc4Rzf"
      }
    },
    {
      "cell_type": "code",
      "source": [
        "full_data_2['Gender'].value_counts()"
      ],
      "metadata": {
        "id": "-hTwkv3p28Jy",
        "colab": {
          "base_uri": "https://localhost:8080/"
        },
        "outputId": "78eceb08-e1df-447c-b1ce-e3b5d52994b5"
      },
      "execution_count": null,
      "outputs": [
        {
          "output_type": "execute_result",
          "data": {
            "text/plain": [
              "Male       1837\n",
              "Female      339\n",
              "Diverse       2\n",
              "Name: Gender, dtype: int64"
            ]
          },
          "metadata": {},
          "execution_count": 313
        }
      ]
    },
    {
      "cell_type": "code",
      "source": [
        "full_data_2[full_data_2['Gender']=='M']"
      ],
      "metadata": {
        "id": "WM7wNk4a3a-u",
        "colab": {
          "base_uri": "https://localhost:8080/"
        },
        "outputId": "c1db70af-996c-4572-c701-ba5359c8176b"
      },
      "execution_count": null,
      "outputs": [
        {
          "output_type": "execute_result",
          "data": {
            "text/plain": [
              "Empty DataFrame\n",
              "Columns: [Timestamp, Age, Gender, City, Seniority level, Position , Total years of experience, Your main technology / programming language, Annual brutto salary (without bonus and stocks) one year ago. Only answer if staying in the same country, Number of vacation days, Main language at work, Company size, Company type, Сontract duration, Year, Annual bonus+stocks one year ago. Only answer if staying in same country, stamp_year]\n",
              "Index: []"
            ],
            "text/html": [
              "\n",
              "  <div id=\"df-9b35953c-8aa9-4bfc-bd52-adfdc800edab\">\n",
              "    <div class=\"colab-df-container\">\n",
              "      <div>\n",
              "<style scoped>\n",
              "    .dataframe tbody tr th:only-of-type {\n",
              "        vertical-align: middle;\n",
              "    }\n",
              "\n",
              "    .dataframe tbody tr th {\n",
              "        vertical-align: top;\n",
              "    }\n",
              "\n",
              "    .dataframe thead th {\n",
              "        text-align: right;\n",
              "    }\n",
              "</style>\n",
              "<table border=\"1\" class=\"dataframe\">\n",
              "  <thead>\n",
              "    <tr style=\"text-align: right;\">\n",
              "      <th></th>\n",
              "      <th>Timestamp</th>\n",
              "      <th>Age</th>\n",
              "      <th>Gender</th>\n",
              "      <th>City</th>\n",
              "      <th>Seniority level</th>\n",
              "      <th>Position</th>\n",
              "      <th>Total years of experience</th>\n",
              "      <th>Your main technology / programming language</th>\n",
              "      <th>Annual brutto salary (without bonus and stocks) one year ago. Only answer if staying in the same country</th>\n",
              "      <th>Number of vacation days</th>\n",
              "      <th>Main language at work</th>\n",
              "      <th>Company size</th>\n",
              "      <th>Company type</th>\n",
              "      <th>Сontract duration</th>\n",
              "      <th>Year</th>\n",
              "      <th>Annual bonus+stocks one year ago. Only answer if staying in same country</th>\n",
              "      <th>stamp_year</th>\n",
              "    </tr>\n",
              "  </thead>\n",
              "  <tbody>\n",
              "  </tbody>\n",
              "</table>\n",
              "</div>\n",
              "      <button class=\"colab-df-convert\" onclick=\"convertToInteractive('df-9b35953c-8aa9-4bfc-bd52-adfdc800edab')\"\n",
              "              title=\"Convert this dataframe to an interactive table.\"\n",
              "              style=\"display:none;\">\n",
              "        \n",
              "  <svg xmlns=\"http://www.w3.org/2000/svg\" height=\"24px\"viewBox=\"0 0 24 24\"\n",
              "       width=\"24px\">\n",
              "    <path d=\"M0 0h24v24H0V0z\" fill=\"none\"/>\n",
              "    <path d=\"M18.56 5.44l.94 2.06.94-2.06 2.06-.94-2.06-.94-.94-2.06-.94 2.06-2.06.94zm-11 1L8.5 8.5l.94-2.06 2.06-.94-2.06-.94L8.5 2.5l-.94 2.06-2.06.94zm10 10l.94 2.06.94-2.06 2.06-.94-2.06-.94-.94-2.06-.94 2.06-2.06.94z\"/><path d=\"M17.41 7.96l-1.37-1.37c-.4-.4-.92-.59-1.43-.59-.52 0-1.04.2-1.43.59L10.3 9.45l-7.72 7.72c-.78.78-.78 2.05 0 2.83L4 21.41c.39.39.9.59 1.41.59.51 0 1.02-.2 1.41-.59l7.78-7.78 2.81-2.81c.8-.78.8-2.07 0-2.86zM5.41 20L4 18.59l7.72-7.72 1.47 1.35L5.41 20z\"/>\n",
              "  </svg>\n",
              "      </button>\n",
              "      \n",
              "  <style>\n",
              "    .colab-df-container {\n",
              "      display:flex;\n",
              "      flex-wrap:wrap;\n",
              "      gap: 12px;\n",
              "    }\n",
              "\n",
              "    .colab-df-convert {\n",
              "      background-color: #E8F0FE;\n",
              "      border: none;\n",
              "      border-radius: 50%;\n",
              "      cursor: pointer;\n",
              "      display: none;\n",
              "      fill: #1967D2;\n",
              "      height: 32px;\n",
              "      padding: 0 0 0 0;\n",
              "      width: 32px;\n",
              "    }\n",
              "\n",
              "    .colab-df-convert:hover {\n",
              "      background-color: #E2EBFA;\n",
              "      box-shadow: 0px 1px 2px rgba(60, 64, 67, 0.3), 0px 1px 3px 1px rgba(60, 64, 67, 0.15);\n",
              "      fill: #174EA6;\n",
              "    }\n",
              "\n",
              "    [theme=dark] .colab-df-convert {\n",
              "      background-color: #3B4455;\n",
              "      fill: #D2E3FC;\n",
              "    }\n",
              "\n",
              "    [theme=dark] .colab-df-convert:hover {\n",
              "      background-color: #434B5C;\n",
              "      box-shadow: 0px 1px 3px 1px rgba(0, 0, 0, 0.15);\n",
              "      filter: drop-shadow(0px 1px 2px rgba(0, 0, 0, 0.3));\n",
              "      fill: #FFFFFF;\n",
              "    }\n",
              "  </style>\n",
              "\n",
              "      <script>\n",
              "        const buttonEl =\n",
              "          document.querySelector('#df-9b35953c-8aa9-4bfc-bd52-adfdc800edab button.colab-df-convert');\n",
              "        buttonEl.style.display =\n",
              "          google.colab.kernel.accessAllowed ? 'block' : 'none';\n",
              "\n",
              "        async function convertToInteractive(key) {\n",
              "          const element = document.querySelector('#df-9b35953c-8aa9-4bfc-bd52-adfdc800edab');\n",
              "          const dataTable =\n",
              "            await google.colab.kernel.invokeFunction('convertToInteractive',\n",
              "                                                     [key], {});\n",
              "          if (!dataTable) return;\n",
              "\n",
              "          const docLinkHtml = 'Like what you see? Visit the ' +\n",
              "            '<a target=\"_blank\" href=https://colab.research.google.com/notebooks/data_table.ipynb>data table notebook</a>'\n",
              "            + ' to learn more about interactive tables.';\n",
              "          element.innerHTML = '';\n",
              "          dataTable['output_type'] = 'display_data';\n",
              "          await google.colab.output.renderOutput(dataTable, element);\n",
              "          const docLink = document.createElement('div');\n",
              "          docLink.innerHTML = docLinkHtml;\n",
              "          element.appendChild(docLink);\n",
              "        }\n",
              "      </script>\n",
              "    </div>\n",
              "  </div>\n",
              "  "
            ]
          },
          "metadata": {},
          "execution_count": 314
        }
      ]
    },
    {
      "cell_type": "code",
      "source": [
        "full_data_2.loc[full_data_2['Gender']=='M', 'Gender'] = 'Male'\n",
        "full_data_2.loc[full_data_2['Gender']=='F', 'Gender'] = 'Female'"
      ],
      "metadata": {
        "id": "H5hEV00E3liS",
        "colab": {
          "base_uri": "https://localhost:8080/"
        },
        "outputId": "2db81172-c809-433e-b4aa-5f7632be0c09"
      },
      "execution_count": null,
      "outputs": [
        {
          "output_type": "stream",
          "name": "stderr",
          "text": [
            "/usr/local/lib/python3.7/dist-packages/pandas/core/indexing.py:1817: SettingWithCopyWarning: \n",
            "A value is trying to be set on a copy of a slice from a DataFrame.\n",
            "Try using .loc[row_indexer,col_indexer] = value instead\n",
            "\n",
            "See the caveats in the documentation: https://pandas.pydata.org/pandas-docs/stable/user_guide/indexing.html#returning-a-view-versus-a-copy\n",
            "  self._setitem_single_column(loc, value, pi)\n"
          ]
        }
      ]
    },
    {
      "cell_type": "code",
      "source": [
        "full_data_2['Gender'].value_counts()"
      ],
      "metadata": {
        "id": "nUslEb7F3J3Y",
        "colab": {
          "base_uri": "https://localhost:8080/"
        },
        "outputId": "9fc2406d-0da1-49d5-d94d-6e8ca1f1d4fc"
      },
      "execution_count": null,
      "outputs": [
        {
          "output_type": "execute_result",
          "data": {
            "text/plain": [
              "Male       1837\n",
              "Female      339\n",
              "Diverse       2\n",
              "Name: Gender, dtype: int64"
            ]
          },
          "metadata": {},
          "execution_count": 316
        }
      ]
    },
    {
      "cell_type": "code",
      "source": [
        "full_data_2['Gender'].value_counts(normalize=True)"
      ],
      "metadata": {
        "id": "REZySXT639Xd",
        "colab": {
          "base_uri": "https://localhost:8080/"
        },
        "outputId": "4cfd1e40-8050-4b6a-bbfc-4eb279766edc"
      },
      "execution_count": null,
      "outputs": [
        {
          "output_type": "execute_result",
          "data": {
            "text/plain": [
              "Male       0.843434\n",
              "Female     0.155647\n",
              "Diverse    0.000918\n",
              "Name: Gender, dtype: float64"
            ]
          },
          "metadata": {},
          "execution_count": 317
        }
      ]
    },
    {
      "cell_type": "code",
      "source": [
        "full_data_2['Gender'].value_counts(normalize=True).round(2)"
      ],
      "metadata": {
        "id": "0NWdCb4L3Upv",
        "colab": {
          "base_uri": "https://localhost:8080/"
        },
        "outputId": "d15a2bd8-062c-41cf-f16f-a1dbbec1dcc3"
      },
      "execution_count": null,
      "outputs": [
        {
          "output_type": "execute_result",
          "data": {
            "text/plain": [
              "Male       0.84\n",
              "Female     0.16\n",
              "Diverse    0.00\n",
              "Name: Gender, dtype: float64"
            ]
          },
          "metadata": {},
          "execution_count": 318
        }
      ]
    },
    {
      "cell_type": "code",
      "source": [
        "full_data_2['Gender'].isna().sum()"
      ],
      "metadata": {
        "id": "G2CZpA609HKD",
        "colab": {
          "base_uri": "https://localhost:8080/"
        },
        "outputId": "9ba55e78-2ba6-40a9-afcf-81e8fcf805eb"
      },
      "execution_count": null,
      "outputs": [
        {
          "output_type": "execute_result",
          "data": {
            "text/plain": [
              "9"
            ]
          },
          "metadata": {},
          "execution_count": 319
        }
      ]
    },
    {
      "cell_type": "code",
      "source": [
        "sns.countplot(x = full_data_2['Gender']);"
      ],
      "metadata": {
        "id": "MpUQ8tA64Cm6",
        "colab": {
          "base_uri": "https://localhost:8080/"
        },
        "outputId": "ffa5473a-f866-43eb-e6fe-35252b1c0c98"
      },
      "execution_count": null,
      "outputs": [
        {
          "output_type": "display_data",
          "data": {
            "text/plain": [
              "<Figure size 432x288 with 1 Axes>"
            ],
            "image/png": "[encoded data removed]"
          },
          "metadata": {
            "needs_background": "light"
          }
        }
      ]
    },
    {
      "cell_type": "markdown",
      "source": [
        "### - Principal língua no trabalho (Main language at work):"
      ],
      "metadata": {
        "id": "pdh2mSXB4X8y"
      }
    },
    {
      "cell_type": "code",
      "source": [
        "full_data_2['Main language at work'].value_counts()"
      ],
      "metadata": {
        "id": "Vv8fGIVb4E0O",
        "colab": {
          "base_uri": "https://localhost:8080/"
        },
        "outputId": "1220275b-5760-4d81-c650-70cc9c47fb12"
      },
      "execution_count": null,
      "outputs": [
        {
          "output_type": "execute_result",
          "data": {
            "text/plain": [
              "English               1732\n",
              "Deutsch                180\n",
              "German                 178\n",
              "Russian                 44\n",
              "French                   6\n",
              "Italian                  5\n",
              "Polish                   4\n",
              "Spanish                  4\n",
              "English and German       2\n",
              "Русский                  2\n",
              "Czech                    2\n",
              "Dutch                    1\n",
              "Polish+English           1\n",
              "Ukrainian                1\n",
              "English+Deutsch          1\n",
              "50/50                    1\n",
              "Deuglisch                1\n",
              "both                     1\n",
              "Russian, English         1\n",
              "Name: Main language at work, dtype: int64"
            ]
          },
          "metadata": {},
          "execution_count": 321
        }
      ]
    },
    {
      "cell_type": "code",
      "source": [
        "full_data_2[full_data_2['Main language at work'].isin(['English and German',\n",
        "                                                   'English+Deutsch',\n",
        "                                                   'Polish+English',\n",
        "                                                   'Team - Russian; Cross-team - English;',\n",
        "                                                   'Deutsch/Englisch',\n",
        "                                                   'Russian, English'])]"
      ],
      "metadata": {
        "id": "yHzX20mB4nxO",
        "colab": {
          "base_uri": "https://localhost:8080/"
        },
        "outputId": "2185ce92-526c-44f5-ab29-204e3abeba3c"
      },
      "execution_count": null,
      "outputs": [
        {
          "output_type": "execute_result",
          "data": {
            "text/plain": [
              "               Timestamp   Age  Gender       City Seniority level  \\\n",
              "91   2019-02-12 13:23:36  31.0    Male  Frankfurt          Middle   \n",
              "759  2019-10-12 21:52:08  28.0  Female     Warsaw          Senior   \n",
              "121  2020-11-24 11:59:20  32.0  Female    Kempten          Middle   \n",
              "194  2020-11-24 12:52:56  36.0    Male     Berlin          Middle   \n",
              "1040 2020-01-12 18:58:24  26.0  Female     Prague          Middle   \n",
              "\n",
              "                 Position  Total years of experience  \\\n",
              "91    System Administrator                        10   \n",
              "759    Fullstack Developer                         5   \n",
              "121    Fullstack Developer                        10   \n",
              "194      Software Engineer                         7   \n",
              "1040     Software Engineer                         4   \n",
              "\n",
              "     Your main technology / programming language  \\\n",
              "91                       Linux-Stack, Networking   \n",
              "759                                            R   \n",
              "121                                           C#   \n",
              "194                        C++, Java, Embedded C   \n",
              "1040                                          C#   \n",
              "\n",
              "      Annual brutto salary (without bonus and stocks) one year ago. Only answer if staying in the same country  \\\n",
              "91                                              55000.0                                                          \n",
              "759                                            144000.0                                                          \n",
              "121                                                 NaN                                                          \n",
              "194                                             42000.0                                                          \n",
              "1040                                            55000.0                                                          \n",
              "\n",
              "     Number of vacation days Main language at work Company size  \\\n",
              "91                      30.0       English+Deutsch        10-50   \n",
              "759                     32.0        Polish+English     100-1000   \n",
              "121                       30    English and German       51-100   \n",
              "194                       25    English and German     up to 10   \n",
              "1040                      25      Russian, English        1000+   \n",
              "\n",
              "             Company type   Сontract duration  Year  \\\n",
              "91    Consulting / Agency           unlimited  2019   \n",
              "759   Consulting / Agency           unlimited  2019   \n",
              "121               Product  Unlimited contract  2020   \n",
              "194               Product  Unlimited contract  2020   \n",
              "1040              Product  Unlimited contract  2020   \n",
              "\n",
              "     Annual bonus+stocks one year ago. Only answer if staying in same country  \\\n",
              "91                                                  NaN                         \n",
              "759                                                 1.0                         \n",
              "121                                                 NaN                         \n",
              "194                                                 NaN                         \n",
              "1040                                                  0                         \n",
              "\n",
              "      stamp_year  \n",
              "91          2019  \n",
              "759         2019  \n",
              "121         2020  \n",
              "194         2020  \n",
              "1040        2020  "
            ],
            "text/html": [
              "\n",
              "  <div id=\"df-df43b973-57d0-414c-8f30-fac0151dbfec\">\n",
              "    <div class=\"colab-df-container\">\n",
              "      <div>\n",
              "<style scoped>\n",
              "    .dataframe tbody tr th:only-of-type {\n",
              "        vertical-align: middle;\n",
              "    }\n",
              "\n",
              "    .dataframe tbody tr th {\n",
              "        vertical-align: top;\n",
              "    }\n",
              "\n",
              "    .dataframe thead th {\n",
              "        text-align: right;\n",
              "    }\n",
              "</style>\n",
              "<table border=\"1\" class=\"dataframe\">\n",
              "  <thead>\n",
              "    <tr style=\"text-align: right;\">\n",
              "      <th></th>\n",
              "      <th>Timestamp</th>\n",
              "      <th>Age</th>\n",
              "      <th>Gender</th>\n",
              "      <th>City</th>\n",
              "      <th>Seniority level</th>\n",
              "      <th>Position</th>\n",
              "      <th>Total years of experience</th>\n",
              "      <th>Your main technology / programming language</th>\n",
              "      <th>Annual brutto salary (without bonus and stocks) one year ago. Only answer if staying in the same country</th>\n",
              "      <th>Number of vacation days</th>\n",
              "      <th>Main language at work</th>\n",
              "      <th>Company size</th>\n",
              "      <th>Company type</th>\n",
              "      <th>Сontract duration</th>\n",
              "      <th>Year</th>\n",
              "      <th>Annual bonus+stocks one year ago. Only answer if staying in same country</th>\n",
              "      <th>stamp_year</th>\n",
              "    </tr>\n",
              "  </thead>\n",
              "  <tbody>\n",
              "    <tr>\n",
              "      <th>91</th>\n",
              "      <td>2019-02-12 13:23:36</td>\n",
              "      <td>31.0</td>\n",
              "      <td>Male</td>\n",
              "      <td>Frankfurt</td>\n",
              "      <td>Middle</td>\n",
              "      <td>System Administrator</td>\n",
              "      <td>10</td>\n",
              "      <td>Linux-Stack, Networking</td>\n",
              "      <td>55000.0</td>\n",
              "      <td>30.0</td>\n",
              "      <td>English+Deutsch</td>\n",
              "      <td>10-50</td>\n",
              "      <td>Consulting / Agency</td>\n",
              "      <td>unlimited</td>\n",
              "      <td>2019</td>\n",
              "      <td>NaN</td>\n",
              "      <td>2019</td>\n",
              "    </tr>\n",
              "    <tr>\n",
              "      <th>759</th>\n",
              "      <td>2019-10-12 21:52:08</td>\n",
              "      <td>28.0</td>\n",
              "      <td>Female</td>\n",
              "      <td>Warsaw</td>\n",
              "      <td>Senior</td>\n",
              "      <td>Fullstack Developer</td>\n",
              "      <td>5</td>\n",
              "      <td>R</td>\n",
              "      <td>144000.0</td>\n",
              "      <td>32.0</td>\n",
              "      <td>Polish+English</td>\n",
              "      <td>100-1000</td>\n",
              "      <td>Consulting / Agency</td>\n",
              "      <td>unlimited</td>\n",
              "      <td>2019</td>\n",
              "      <td>1.0</td>\n",
              "      <td>2019</td>\n",
              "    </tr>\n",
              "    <tr>\n",
              "      <th>121</th>\n",
              "      <td>2020-11-24 11:59:20</td>\n",
              "      <td>32.0</td>\n",
              "      <td>Female</td>\n",
              "      <td>Kempten</td>\n",
              "      <td>Middle</td>\n",
              "      <td>Fullstack Developer</td>\n",
              "      <td>10</td>\n",
              "      <td>C#</td>\n",
              "      <td>NaN</td>\n",
              "      <td>30</td>\n",
              "      <td>English and German</td>\n",
              "      <td>51-100</td>\n",
              "      <td>Product</td>\n",
              "      <td>Unlimited contract</td>\n",
              "      <td>2020</td>\n",
              "      <td>NaN</td>\n",
              "      <td>2020</td>\n",
              "    </tr>\n",
              "    <tr>\n",
              "      <th>194</th>\n",
              "      <td>2020-11-24 12:52:56</td>\n",
              "      <td>36.0</td>\n",
              "      <td>Male</td>\n",
              "      <td>Berlin</td>\n",
              "      <td>Middle</td>\n",
              "      <td>Software Engineer</td>\n",
              "      <td>7</td>\n",
              "      <td>C++, Java, Embedded C</td>\n",
              "      <td>42000.0</td>\n",
              "      <td>25</td>\n",
              "      <td>English and German</td>\n",
              "      <td>up to 10</td>\n",
              "      <td>Product</td>\n",
              "      <td>Unlimited contract</td>\n",
              "      <td>2020</td>\n",
              "      <td>NaN</td>\n",
              "      <td>2020</td>\n",
              "    </tr>\n",
              "    <tr>\n",
              "      <th>1040</th>\n",
              "      <td>2020-01-12 18:58:24</td>\n",
              "      <td>26.0</td>\n",
              "      <td>Female</td>\n",
              "      <td>Prague</td>\n",
              "      <td>Middle</td>\n",
              "      <td>Software Engineer</td>\n",
              "      <td>4</td>\n",
              "      <td>C#</td>\n",
              "      <td>55000.0</td>\n",
              "      <td>25</td>\n",
              "      <td>Russian, English</td>\n",
              "      <td>1000+</td>\n",
              "      <td>Product</td>\n",
              "      <td>Unlimited contract</td>\n",
              "      <td>2020</td>\n",
              "      <td>0</td>\n",
              "      <td>2020</td>\n",
              "    </tr>\n",
              "  </tbody>\n",
              "</table>\n",
              "</div>\n",
              "      <button class=\"colab-df-convert\" onclick=\"convertToInteractive('df-df43b973-57d0-414c-8f30-fac0151dbfec')\"\n",
              "              title=\"Convert this dataframe to an interactive table.\"\n",
              "              style=\"display:none;\">\n",
              "        \n",
              "  <svg xmlns=\"http://www.w3.org/2000/svg\" height=\"24px\"viewBox=\"0 0 24 24\"\n",
              "       width=\"24px\">\n",
              "    <path d=\"M0 0h24v24H0V0z\" fill=\"none\"/>\n",
              "    <path d=\"M18.56 5.44l.94 2.06.94-2.06 2.06-.94-2.06-.94-.94-2.06-.94 2.06-2.06.94zm-11 1L8.5 8.5l.94-2.06 2.06-.94-2.06-.94L8.5 2.5l-.94 2.06-2.06.94zm10 10l.94 2.06.94-2.06 2.06-.94-2.06-.94-.94-2.06-.94 2.06-2.06.94z\"/><path d=\"M17.41 7.96l-1.37-1.37c-.4-.4-.92-.59-1.43-.59-.52 0-1.04.2-1.43.59L10.3 9.45l-7.72 7.72c-.78.78-.78 2.05 0 2.83L4 21.41c.39.39.9.59 1.41.59.51 0 1.02-.2 1.41-.59l7.78-7.78 2.81-2.81c.8-.78.8-2.07 0-2.86zM5.41 20L4 18.59l7.72-7.72 1.47 1.35L5.41 20z\"/>\n",
              "  </svg>\n",
              "      </button>\n",
              "      \n",
              "  <style>\n",
              "    .colab-df-container {\n",
              "      display:flex;\n",
              "      flex-wrap:wrap;\n",
              "      gap: 12px;\n",
              "    }\n",
              "\n",
              "    .colab-df-convert {\n",
              "      background-color: #E8F0FE;\n",
              "      border: none;\n",
              "      border-radius: 50%;\n",
              "      cursor: pointer;\n",
              "      display: none;\n",
              "      fill: #1967D2;\n",
              "      height: 32px;\n",
              "      padding: 0 0 0 0;\n",
              "      width: 32px;\n",
              "    }\n",
              "\n",
              "    .colab-df-convert:hover {\n",
              "      background-color: #E2EBFA;\n",
              "      box-shadow: 0px 1px 2px rgba(60, 64, 67, 0.3), 0px 1px 3px 1px rgba(60, 64, 67, 0.15);\n",
              "      fill: #174EA6;\n",
              "    }\n",
              "\n",
              "    [theme=dark] .colab-df-convert {\n",
              "      background-color: #3B4455;\n",
              "      fill: #D2E3FC;\n",
              "    }\n",
              "\n",
              "    [theme=dark] .colab-df-convert:hover {\n",
              "      background-color: #434B5C;\n",
              "      box-shadow: 0px 1px 3px 1px rgba(0, 0, 0, 0.15);\n",
              "      filter: drop-shadow(0px 1px 2px rgba(0, 0, 0, 0.3));\n",
              "      fill: #FFFFFF;\n",
              "    }\n",
              "  </style>\n",
              "\n",
              "      <script>\n",
              "        const buttonEl =\n",
              "          document.querySelector('#df-df43b973-57d0-414c-8f30-fac0151dbfec button.colab-df-convert');\n",
              "        buttonEl.style.display =\n",
              "          google.colab.kernel.accessAllowed ? 'block' : 'none';\n",
              "\n",
              "        async function convertToInteractive(key) {\n",
              "          const element = document.querySelector('#df-df43b973-57d0-414c-8f30-fac0151dbfec');\n",
              "          const dataTable =\n",
              "            await google.colab.kernel.invokeFunction('convertToInteractive',\n",
              "                                                     [key], {});\n",
              "          if (!dataTable) return;\n",
              "\n",
              "          const docLinkHtml = 'Like what you see? Visit the ' +\n",
              "            '<a target=\"_blank\" href=https://colab.research.google.com/notebooks/data_table.ipynb>data table notebook</a>'\n",
              "            + ' to learn more about interactive tables.';\n",
              "          element.innerHTML = '';\n",
              "          dataTable['output_type'] = 'display_data';\n",
              "          await google.colab.output.renderOutput(dataTable, element);\n",
              "          const docLink = document.createElement('div');\n",
              "          docLink.innerHTML = docLinkHtml;\n",
              "          element.appendChild(docLink);\n",
              "        }\n",
              "      </script>\n",
              "    </div>\n",
              "  </div>\n",
              "  "
            ]
          },
          "metadata": {},
          "execution_count": 322
        }
      ]
    },
    {
      "cell_type": "code",
      "source": [
        "full_data_2.loc[full_data_2['Main language at work'].isin(['English and German',\n",
        "                                                       'English+Deutsch',\n",
        "                                                       'Polish+English',\n",
        "                                                       'Team - Russian; Cross-team - English;',\n",
        "                                                       'Deutsch/Englisch',\n",
        "                                                       'Russian, English']), 'Main language at work'] = 'English'"
      ],
      "metadata": {
        "id": "BFYtCquT5bXj",
        "colab": {
          "base_uri": "https://localhost:8080/"
        },
        "outputId": "6094e3ed-9f9b-48cf-fd97-b120def38683"
      },
      "execution_count": null,
      "outputs": [
        {
          "output_type": "stream",
          "name": "stderr",
          "text": [
            "/usr/local/lib/python3.7/dist-packages/pandas/core/indexing.py:1817: SettingWithCopyWarning: \n",
            "A value is trying to be set on a copy of a slice from a DataFrame.\n",
            "Try using .loc[row_indexer,col_indexer] = value instead\n",
            "\n",
            "See the caveats in the documentation: https://pandas.pydata.org/pandas-docs/stable/user_guide/indexing.html#returning-a-view-versus-a-copy\n",
            "  self._setitem_single_column(loc, value, pi)\n"
          ]
        }
      ]
    },
    {
      "cell_type": "code",
      "source": [
        "full_data_2['Main language at work'].value_counts()"
      ],
      "metadata": {
        "id": "pvg752fU58rB",
        "colab": {
          "base_uri": "https://localhost:8080/"
        },
        "outputId": "52c909e7-3915-4ebc-85fb-4c9db127c639"
      },
      "execution_count": null,
      "outputs": [
        {
          "output_type": "execute_result",
          "data": {
            "text/plain": [
              "English      1737\n",
              "Deutsch       180\n",
              "German        178\n",
              "Russian        44\n",
              "French          6\n",
              "Italian         5\n",
              "Spanish         4\n",
              "Polish          4\n",
              "Русский         2\n",
              "Czech           2\n",
              "Dutch           1\n",
              "Ukrainian       1\n",
              "50/50           1\n",
              "Deuglisch       1\n",
              "both            1\n",
              "Name: Main language at work, dtype: int64"
            ]
          },
          "metadata": {},
          "execution_count": 324
        }
      ]
    },
    {
      "cell_type": "code",
      "source": [
        "full_data_2.loc[full_data_2['Main language at work'].isin(['Deutsch','Deuglisch']), 'Main language at work'] = 'German'\n",
        "full_data_2.loc[full_data_2['Main language at work']=='Русский', 'Main language at work'] = 'Russian'\n",
        "full_data_2['Main language at work'].value_counts()"
      ],
      "metadata": {
        "id": "wISA1M-SBq-U",
        "colab": {
          "base_uri": "https://localhost:8080/"
        },
        "outputId": "f985ac39-7e80-4c9d-bce3-738a1685fc2e"
      },
      "execution_count": null,
      "outputs": [
        {
          "output_type": "stream",
          "name": "stderr",
          "text": [
            "/usr/local/lib/python3.7/dist-packages/pandas/core/indexing.py:1817: SettingWithCopyWarning: \n",
            "A value is trying to be set on a copy of a slice from a DataFrame.\n",
            "Try using .loc[row_indexer,col_indexer] = value instead\n",
            "\n",
            "See the caveats in the documentation: https://pandas.pydata.org/pandas-docs/stable/user_guide/indexing.html#returning-a-view-versus-a-copy\n",
            "  self._setitem_single_column(loc, value, pi)\n"
          ]
        },
        {
          "output_type": "execute_result",
          "data": {
            "text/plain": [
              "English      1737\n",
              "German        359\n",
              "Russian        46\n",
              "French          6\n",
              "Italian         5\n",
              "Spanish         4\n",
              "Polish          4\n",
              "Czech           2\n",
              "Dutch           1\n",
              "Ukrainian       1\n",
              "50/50           1\n",
              "both            1\n",
              "Name: Main language at work, dtype: int64"
            ]
          },
          "metadata": {},
          "execution_count": 325
        }
      ]
    },
    {
      "cell_type": "code",
      "source": [
        "full_data_2['Main language at work'].isna().sum()"
      ],
      "metadata": {
        "id": "7dzwnTZcCaKf",
        "colab": {
          "base_uri": "https://localhost:8080/"
        },
        "outputId": "21cda195-8c25-4507-c885-96f57d785127"
      },
      "execution_count": null,
      "outputs": [
        {
          "output_type": "execute_result",
          "data": {
            "text/plain": [
              "20"
            ]
          },
          "metadata": {},
          "execution_count": 326
        }
      ]
    },
    {
      "cell_type": "code",
      "source": [
        "full_data_2.loc[~full_data_2['Main language at work'].isin(['English','German','Russian']), 'Main language at work'] = 'Other'\n",
        "full_data_2['Main language at work'].value_counts()"
      ],
      "metadata": {
        "id": "Jb0mcpdMCCt2",
        "colab": {
          "base_uri": "https://localhost:8080/"
        },
        "outputId": "c2f4d981-5be3-44a5-9837-92b3527d6674"
      },
      "execution_count": null,
      "outputs": [
        {
          "output_type": "stream",
          "name": "stderr",
          "text": [
            "/usr/local/lib/python3.7/dist-packages/pandas/core/indexing.py:1817: SettingWithCopyWarning: \n",
            "A value is trying to be set on a copy of a slice from a DataFrame.\n",
            "Try using .loc[row_indexer,col_indexer] = value instead\n",
            "\n",
            "See the caveats in the documentation: https://pandas.pydata.org/pandas-docs/stable/user_guide/indexing.html#returning-a-view-versus-a-copy\n",
            "  self._setitem_single_column(loc, value, pi)\n"
          ]
        },
        {
          "output_type": "execute_result",
          "data": {
            "text/plain": [
              "English    1737\n",
              "German      359\n",
              "Russian      46\n",
              "Other        45\n",
              "Name: Main language at work, dtype: int64"
            ]
          },
          "metadata": {},
          "execution_count": 327
        }
      ]
    },
    {
      "cell_type": "code",
      "source": [
        "full_data_2['Main language at work'].value_counts(normalize=True).round(2)"
      ],
      "metadata": {
        "id": "ChbMSLoF6CTY",
        "colab": {
          "base_uri": "https://localhost:8080/"
        },
        "outputId": "a91235e5-d3a4-4477-a94a-8b3c596d81e8"
      },
      "execution_count": null,
      "outputs": [
        {
          "output_type": "execute_result",
          "data": {
            "text/plain": [
              "English    0.79\n",
              "German     0.16\n",
              "Russian    0.02\n",
              "Other      0.02\n",
              "Name: Main language at work, dtype: float64"
            ]
          },
          "metadata": {},
          "execution_count": 328
        }
      ]
    },
    {
      "cell_type": "code",
      "source": [
        "plt.figure(figsize = (10,4))\n",
        "sns.countplot(x = full_data_2['Main language at work']);"
      ],
      "metadata": {
        "id": "eQZH3x-05-k-",
        "colab": {
          "base_uri": "https://localhost:8080/"
        },
        "outputId": "b6e7e379-9e5b-4f6d-ce2f-a5a6581dc414"
      },
      "execution_count": null,
      "outputs": [
        {
          "output_type": "display_data",
          "data": {
            "text/plain": [
              "<Figure size 720x288 with 1 Axes>"
            ],
            "image/png": "[encoded data removed]"
          },
          "metadata": {
            "needs_background": "light"
          }
        }
      ]
    },
    {
      "cell_type": "markdown",
      "source": [
        "### - Senioridade (Seniority level)"
      ],
      "metadata": {
        "id": "6ud5tXICaqMp"
      }
    },
    {
      "cell_type": "code",
      "source": [
        "full_data_2['Seniority level'].value_counts()"
      ],
      "metadata": {
        "colab": {
          "base_uri": "https://localhost:8080/"
        },
        "id": "yFRukJ0HawLK",
        "outputId": "28b9ff4f-b2ba-4e95-adf3-84a4ef53b506"
      },
      "execution_count": null,
      "outputs": [
        {
          "output_type": "execute_result",
          "data": {
            "text/plain": [
              "Senior                                       1129\n",
              "Middle                                        622\n",
              "Lead                                          193\n",
              "Junior                                        149\n",
              "Head                                           47\n",
              "Principal                                       6\n",
              "C-level executive manager                       1\n",
              "Intern                                          1\n",
              "Entry level                                     1\n",
              "Working Student                                 1\n",
              "C-Level                                         1\n",
              "no idea, there are no ranges in the firm        1\n",
              "Student                                         1\n",
              "intern                                          1\n",
              "No level                                        1\n",
              "Key                                             1\n",
              "Director                                        1\n",
              "CTO                                             1\n",
              "Work Center Manager                             1\n",
              "Manager                                         1\n",
              "VP                                              1\n",
              "No level                                        1\n",
              "student                                         1\n",
              "Name: Seniority level, dtype: int64"
            ]
          },
          "metadata": {},
          "execution_count": 330
        }
      ]
    },
    {
      "cell_type": "code",
      "source": [
        "full_data_2.loc[full_data_2['Seniority level'].isin(['intern','student',\n",
        "                                                       'Working Student',\n",
        "                                                       'Student',\n",
        "                                                       'Intern']), 'Seniority level'] = 'Intern'"
      ],
      "metadata": {
        "colab": {
          "base_uri": "https://localhost:8080/"
        },
        "id": "3cw456yJa5Gu",
        "outputId": "69fe1620-76b6-4259-ac61-ae53825e99f3"
      },
      "execution_count": null,
      "outputs": [
        {
          "output_type": "stream",
          "name": "stderr",
          "text": [
            "/usr/local/lib/python3.7/dist-packages/pandas/core/indexing.py:1817: SettingWithCopyWarning: \n",
            "A value is trying to be set on a copy of a slice from a DataFrame.\n",
            "Try using .loc[row_indexer,col_indexer] = value instead\n",
            "\n",
            "See the caveats in the documentation: https://pandas.pydata.org/pandas-docs/stable/user_guide/indexing.html#returning-a-view-versus-a-copy\n",
            "  self._setitem_single_column(loc, value, pi)\n"
          ]
        }
      ]
    },
    {
      "cell_type": "code",
      "source": [
        "full_data_2.loc[full_data_2['Seniority level'].isin(['C-Level',\n",
        "                                                    'C-level executive manager',\n",
        "                                                     'CTO','Principal']), 'Seniority level'] = 'C-level'"
      ],
      "metadata": {
        "colab": {
          "base_uri": "https://localhost:8080/"
        },
        "id": "TGfec-D7a8XK",
        "outputId": "07d8f578-fc64-42a1-eee1-d40e7bd54ea7"
      },
      "execution_count": null,
      "outputs": [
        {
          "output_type": "stream",
          "name": "stderr",
          "text": [
            "/usr/local/lib/python3.7/dist-packages/pandas/core/indexing.py:1817: SettingWithCopyWarning: \n",
            "A value is trying to be set on a copy of a slice from a DataFrame.\n",
            "Try using .loc[row_indexer,col_indexer] = value instead\n",
            "\n",
            "See the caveats in the documentation: https://pandas.pydata.org/pandas-docs/stable/user_guide/indexing.html#returning-a-view-versus-a-copy\n",
            "  self._setitem_single_column(loc, value, pi)\n"
          ]
        }
      ]
    },
    {
      "cell_type": "code",
      "source": [
        "full_data_2['Seniority level'].value_counts()"
      ],
      "metadata": {
        "colab": {
          "base_uri": "https://localhost:8080/"
        },
        "id": "mOIj2PlWa-NX",
        "outputId": "de96cf88-39ac-47da-8270-8db39d8316e9"
      },
      "execution_count": null,
      "outputs": [
        {
          "output_type": "execute_result",
          "data": {
            "text/plain": [
              "Senior                                       1129\n",
              "Middle                                        622\n",
              "Lead                                          193\n",
              "Junior                                        149\n",
              "Head                                           47\n",
              "C-level                                         9\n",
              "Intern                                          5\n",
              "No level                                        1\n",
              "VP                                              1\n",
              "Manager                                         1\n",
              "Work Center Manager                             1\n",
              "No level                                        1\n",
              "Director                                        1\n",
              "Key                                             1\n",
              "no idea, there are no ranges in the firm        1\n",
              "Entry level                                     1\n",
              "Name: Seniority level, dtype: int64"
            ]
          },
          "metadata": {},
          "execution_count": 333
        }
      ]
    },
    {
      "cell_type": "code",
      "source": [
        "full_data_2.loc[~full_data_2['Seniority level'].isin(['Senior','Lead','Junior','Principal','C-level',\n",
        "                                                    'Intern','Middle']), 'Seniority level'] = 'Outros'\n",
        "full_data_2['Seniority level'].value_counts()   "
      ],
      "metadata": {
        "colab": {
          "base_uri": "https://localhost:8080/"
        },
        "id": "bW5eAwBRa_p0",
        "outputId": "87f6fa34-7d7e-4e1d-c7de-7ae8820f50b0"
      },
      "execution_count": null,
      "outputs": [
        {
          "output_type": "stream",
          "name": "stderr",
          "text": [
            "/usr/local/lib/python3.7/dist-packages/pandas/core/indexing.py:1817: SettingWithCopyWarning: \n",
            "A value is trying to be set on a copy of a slice from a DataFrame.\n",
            "Try using .loc[row_indexer,col_indexer] = value instead\n",
            "\n",
            "See the caveats in the documentation: https://pandas.pydata.org/pandas-docs/stable/user_guide/indexing.html#returning-a-view-versus-a-copy\n",
            "  self._setitem_single_column(loc, value, pi)\n"
          ]
        },
        {
          "output_type": "execute_result",
          "data": {
            "text/plain": [
              "Senior     1129\n",
              "Middle      622\n",
              "Lead        193\n",
              "Junior      149\n",
              "Outros       80\n",
              "C-level       9\n",
              "Intern        5\n",
              "Name: Seniority level, dtype: int64"
            ]
          },
          "metadata": {},
          "execution_count": 334
        }
      ]
    },
    {
      "cell_type": "code",
      "source": [
        "sns.countplot(x = full_data_2['Seniority level']);"
      ],
      "metadata": {
        "colab": {
          "base_uri": "https://localhost:8080/"
        },
        "id": "52EHYBqZbIP5",
        "outputId": "46fbf112-79b1-4e15-ac5c-080a42377e49"
      },
      "execution_count": null,
      "outputs": [
        {
          "output_type": "display_data",
          "data": {
            "text/plain": [
              "<Figure size 432x288 with 1 Axes>"
            ],
            "image/png": "[encoded data removed]"
          },
          "metadata": {
            "needs_background": "light"
          }
        }
      ]
    },
    {
      "cell_type": "markdown",
      "source": [
        "### - Cargo (Position):"
      ],
      "metadata": {
        "id": "d5hFmalpHljW"
      }
    },
    {
      "cell_type": "code",
      "source": [
        "#Analisando apenas os 10 cargos que mais aparecem na base\n",
        "mask = full_data_2['Position '].value_counts(normalize=True).round(2).head(10).index\n",
        "full_data_2= full_data_2.loc[full_data_2['Position '].isin(mask)]\n",
        "full_data_2"
      ],
      "metadata": {
        "colab": {
          "base_uri": "https://localhost:8080/"
        },
        "outputId": "da529bbd-18e8-4318-b58f-38d3e38e84d4",
        "id": "figCWYqXHljW"
      },
      "execution_count": null,
      "outputs": [
        {
          "output_type": "execute_result",
          "data": {
            "text/plain": [
              "               Timestamp   Age  Gender    City Seniority level  \\\n",
              "0    2019-02-12 11:18:26  33.0    Male  Berlin          Senior   \n",
              "1    2019-02-12 11:18:35  29.0    Male  Berlin          Middle   \n",
              "2    2019-02-12 11:18:56   NaN    Male  Berlin          Middle   \n",
              "3    2019-02-12 11:19:08  30.0    Male  Berlin          Senior   \n",
              "6    2019-02-12 11:21:26  34.0    Male  Berlin          Senior   \n",
              "...                  ...   ...     ...     ...             ...   \n",
              "1211 2020-12-29 23:57:42  29.0    Male  Munich          Middle   \n",
              "1212 2020-12-30 02:23:59  30.0  Female  Berlin            Lead   \n",
              "1213 2020-12-30 13:18:32  30.0    Male  Munich          Senior   \n",
              "1214 2020-12-30 16:32:25  29.0    Male  Berlin          Senior   \n",
              "1215 2020-12-31 17:56:25  34.0    Male  Berlin            Lead   \n",
              "\n",
              "                Position  Total years of experience  \\\n",
              "0     Fullstack Developer                        13   \n",
              "1       Backend Developer                         3   \n",
              "2        Mobile Developer                         4   \n",
              "3       Backend Developer                         6   \n",
              "6       Backend Developer                        12   \n",
              "...                   ...                       ...   \n",
              "1211       Data Scientist                         6   \n",
              "1212   Frontend Developer                         3   \n",
              "1213    Software Engineer                         8   \n",
              "1214    Backend Developer                         5   \n",
              "1215    Software Engineer                        14   \n",
              "\n",
              "     Your main technology / programming language  \\\n",
              "0                                            PHP   \n",
              "1                                         Python   \n",
              "2                                         Kotlin   \n",
              "3                                            PHP   \n",
              "6                                           Java   \n",
              "...                                          ...   \n",
              "1211                                         SQL   \n",
              "1212                                 JavaScript    \n",
              "1213                                         PHP   \n",
              "1214                                          Go   \n",
              "1215                                        Java   \n",
              "\n",
              "      Annual brutto salary (without bonus and stocks) one year ago. Only answer if staying in the same country  \\\n",
              "0                                               58000.0                                                          \n",
              "1                                               55000.0                                                          \n",
              "2                                               55000.0                                                          \n",
              "3                                                   NaN                                                          \n",
              "6                                               76000.0                                                          \n",
              "...                                                 ...                                                          \n",
              "1211                                            60000.0                                                          \n",
              "1212                                            51200.0                                                          \n",
              "1213                                            65000.0                                                          \n",
              "1214                                            70000.0                                                          \n",
              "1215                                            92000.0                                                          \n",
              "\n",
              "     Number of vacation days Main language at work Company size Company type  \\\n",
              "0                       29.0               English       50-100      Startup   \n",
              "1                       22.0               English        10-50      Product   \n",
              "2                       27.0               English        1000+      Startup   \n",
              "3                       24.0               English     100-1000      Product   \n",
              "6                       25.0               English       50-100      Startup   \n",
              "...                      ...                   ...          ...          ...   \n",
              "1211                      28               English        1000+      Product   \n",
              "1212                      30               English     101-1000      Product   \n",
              "1213                      26               English       51-100      Product   \n",
              "1214                      25               English     101-1000      Product   \n",
              "1215                      30               English        1000+      Product   \n",
              "\n",
              "       Сontract duration  Year  \\\n",
              "0              unlimited  2019   \n",
              "1              unlimited  2019   \n",
              "2              unlimited  2019   \n",
              "3              unlimited  2019   \n",
              "6              unlimited  2019   \n",
              "...                  ...   ...   \n",
              "1211  Unlimited contract  2020   \n",
              "1212  Unlimited contract  2020   \n",
              "1213  Unlimited contract  2020   \n",
              "1214  Unlimited contract  2020   \n",
              "1215  Unlimited contract  2020   \n",
              "\n",
              "     Annual bonus+stocks one year ago. Only answer if staying in same country  \\\n",
              "0                                                   NaN                         \n",
              "1                                                   NaN                         \n",
              "2                                                   NaN                         \n",
              "3                                                   NaN                         \n",
              "6                                                   NaN                         \n",
              "...                                                 ...                         \n",
              "1211                                              15000                         \n",
              "1212                                                  0                         \n",
              "1213                                                  0                         \n",
              "1214                                                  0                         \n",
              "1215                                              92000                         \n",
              "\n",
              "      stamp_year  \n",
              "0           2019  \n",
              "1           2019  \n",
              "2           2019  \n",
              "3           2019  \n",
              "6           2019  \n",
              "...          ...  \n",
              "1211        2020  \n",
              "1212        2020  \n",
              "1213        2020  \n",
              "1214        2020  \n",
              "1215        2020  \n",
              "\n",
              "[1663 rows x 17 columns]"
            ],
            "text/html": [
              "\n",
              "  <div id=\"df-dd74971b-2fea-4aef-be0e-4f0f154990f0\">\n",
              "    <div class=\"colab-df-container\">\n",
              "      <div>\n",
              "<style scoped>\n",
              "    .dataframe tbody tr th:only-of-type {\n",
              "        vertical-align: middle;\n",
              "    }\n",
              "\n",
              "    .dataframe tbody tr th {\n",
              "        vertical-align: top;\n",
              "    }\n",
              "\n",
              "    .dataframe thead th {\n",
              "        text-align: right;\n",
              "    }\n",
              "</style>\n",
              "<table border=\"1\" class=\"dataframe\">\n",
              "  <thead>\n",
              "    <tr style=\"text-align: right;\">\n",
              "      <th></th>\n",
              "      <th>Timestamp</th>\n",
              "      <th>Age</th>\n",
              "      <th>Gender</th>\n",
              "      <th>City</th>\n",
              "      <th>Seniority level</th>\n",
              "      <th>Position</th>\n",
              "      <th>Total years of experience</th>\n",
              "      <th>Your main technology / programming language</th>\n",
              "      <th>Annual brutto salary (without bonus and stocks) one year ago. Only answer if staying in the same country</th>\n",
              "      <th>Number of vacation days</th>\n",
              "      <th>Main language at work</th>\n",
              "      <th>Company size</th>\n",
              "      <th>Company type</th>\n",
              "      <th>Сontract duration</th>\n",
              "      <th>Year</th>\n",
              "      <th>Annual bonus+stocks one year ago. Only answer if staying in same country</th>\n",
              "      <th>stamp_year</th>\n",
              "    </tr>\n",
              "  </thead>\n",
              "  <tbody>\n",
              "    <tr>\n",
              "      <th>0</th>\n",
              "      <td>2019-02-12 11:18:26</td>\n",
              "      <td>33.0</td>\n",
              "      <td>Male</td>\n",
              "      <td>Berlin</td>\n",
              "      <td>Senior</td>\n",
              "      <td>Fullstack Developer</td>\n",
              "      <td>13</td>\n",
              "      <td>PHP</td>\n",
              "      <td>58000.0</td>\n",
              "      <td>29.0</td>\n",
              "      <td>English</td>\n",
              "      <td>50-100</td>\n",
              "      <td>Startup</td>\n",
              "      <td>unlimited</td>\n",
              "      <td>2019</td>\n",
              "      <td>NaN</td>\n",
              "      <td>2019</td>\n",
              "    </tr>\n",
              "    <tr>\n",
              "      <th>1</th>\n",
              "      <td>2019-02-12 11:18:35</td>\n",
              "      <td>29.0</td>\n",
              "      <td>Male</td>\n",
              "      <td>Berlin</td>\n",
              "      <td>Middle</td>\n",
              "      <td>Backend Developer</td>\n",
              "      <td>3</td>\n",
              "      <td>Python</td>\n",
              "      <td>55000.0</td>\n",
              "      <td>22.0</td>\n",
              "      <td>English</td>\n",
              "      <td>10-50</td>\n",
              "      <td>Product</td>\n",
              "      <td>unlimited</td>\n",
              "      <td>2019</td>\n",
              "      <td>NaN</td>\n",
              "      <td>2019</td>\n",
              "    </tr>\n",
              "    <tr>\n",
              "      <th>2</th>\n",
              "      <td>2019-02-12 11:18:56</td>\n",
              "      <td>NaN</td>\n",
              "      <td>Male</td>\n",
              "      <td>Berlin</td>\n",
              "      <td>Middle</td>\n",
              "      <td>Mobile Developer</td>\n",
              "      <td>4</td>\n",
              "      <td>Kotlin</td>\n",
              "      <td>55000.0</td>\n",
              "      <td>27.0</td>\n",
              "      <td>English</td>\n",
              "      <td>1000+</td>\n",
              "      <td>Startup</td>\n",
              "      <td>unlimited</td>\n",
              "      <td>2019</td>\n",
              "      <td>NaN</td>\n",
              "      <td>2019</td>\n",
              "    </tr>\n",
              "    <tr>\n",
              "      <th>3</th>\n",
              "      <td>2019-02-12 11:19:08</td>\n",
              "      <td>30.0</td>\n",
              "      <td>Male</td>\n",
              "      <td>Berlin</td>\n",
              "      <td>Senior</td>\n",
              "      <td>Backend Developer</td>\n",
              "      <td>6</td>\n",
              "      <td>PHP</td>\n",
              "      <td>NaN</td>\n",
              "      <td>24.0</td>\n",
              "      <td>English</td>\n",
              "      <td>100-1000</td>\n",
              "      <td>Product</td>\n",
              "      <td>unlimited</td>\n",
              "      <td>2019</td>\n",
              "      <td>NaN</td>\n",
              "      <td>2019</td>\n",
              "    </tr>\n",
              "    <tr>\n",
              "      <th>6</th>\n",
              "      <td>2019-02-12 11:21:26</td>\n",
              "      <td>34.0</td>\n",
              "      <td>Male</td>\n",
              "      <td>Berlin</td>\n",
              "      <td>Senior</td>\n",
              "      <td>Backend Developer</td>\n",
              "      <td>12</td>\n",
              "      <td>Java</td>\n",
              "      <td>76000.0</td>\n",
              "      <td>25.0</td>\n",
              "      <td>English</td>\n",
              "      <td>50-100</td>\n",
              "      <td>Startup</td>\n",
              "      <td>unlimited</td>\n",
              "      <td>2019</td>\n",
              "      <td>NaN</td>\n",
              "      <td>2019</td>\n",
              "    </tr>\n",
              "    <tr>\n",
              "      <th>...</th>\n",
              "      <td>...</td>\n",
              "      <td>...</td>\n",
              "      <td>...</td>\n",
              "      <td>...</td>\n",
              "      <td>...</td>\n",
              "      <td>...</td>\n",
              "      <td>...</td>\n",
              "      <td>...</td>\n",
              "      <td>...</td>\n",
              "      <td>...</td>\n",
              "      <td>...</td>\n",
              "      <td>...</td>\n",
              "      <td>...</td>\n",
              "      <td>...</td>\n",
              "      <td>...</td>\n",
              "      <td>...</td>\n",
              "      <td>...</td>\n",
              "    </tr>\n",
              "    <tr>\n",
              "      <th>1211</th>\n",
              "      <td>2020-12-29 23:57:42</td>\n",
              "      <td>29.0</td>\n",
              "      <td>Male</td>\n",
              "      <td>Munich</td>\n",
              "      <td>Middle</td>\n",
              "      <td>Data Scientist</td>\n",
              "      <td>6</td>\n",
              "      <td>SQL</td>\n",
              "      <td>60000.0</td>\n",
              "      <td>28</td>\n",
              "      <td>English</td>\n",
              "      <td>1000+</td>\n",
              "      <td>Product</td>\n",
              "      <td>Unlimited contract</td>\n",
              "      <td>2020</td>\n",
              "      <td>15000</td>\n",
              "      <td>2020</td>\n",
              "    </tr>\n",
              "    <tr>\n",
              "      <th>1212</th>\n",
              "      <td>2020-12-30 02:23:59</td>\n",
              "      <td>30.0</td>\n",
              "      <td>Female</td>\n",
              "      <td>Berlin</td>\n",
              "      <td>Lead</td>\n",
              "      <td>Frontend Developer</td>\n",
              "      <td>3</td>\n",
              "      <td>JavaScript</td>\n",
              "      <td>51200.0</td>\n",
              "      <td>30</td>\n",
              "      <td>English</td>\n",
              "      <td>101-1000</td>\n",
              "      <td>Product</td>\n",
              "      <td>Unlimited contract</td>\n",
              "      <td>2020</td>\n",
              "      <td>0</td>\n",
              "      <td>2020</td>\n",
              "    </tr>\n",
              "    <tr>\n",
              "      <th>1213</th>\n",
              "      <td>2020-12-30 13:18:32</td>\n",
              "      <td>30.0</td>\n",
              "      <td>Male</td>\n",
              "      <td>Munich</td>\n",
              "      <td>Senior</td>\n",
              "      <td>Software Engineer</td>\n",
              "      <td>8</td>\n",
              "      <td>PHP</td>\n",
              "      <td>65000.0</td>\n",
              "      <td>26</td>\n",
              "      <td>English</td>\n",
              "      <td>51-100</td>\n",
              "      <td>Product</td>\n",
              "      <td>Unlimited contract</td>\n",
              "      <td>2020</td>\n",
              "      <td>0</td>\n",
              "      <td>2020</td>\n",
              "    </tr>\n",
              "    <tr>\n",
              "      <th>1214</th>\n",
              "      <td>2020-12-30 16:32:25</td>\n",
              "      <td>29.0</td>\n",
              "      <td>Male</td>\n",
              "      <td>Berlin</td>\n",
              "      <td>Senior</td>\n",
              "      <td>Backend Developer</td>\n",
              "      <td>5</td>\n",
              "      <td>Go</td>\n",
              "      <td>70000.0</td>\n",
              "      <td>25</td>\n",
              "      <td>English</td>\n",
              "      <td>101-1000</td>\n",
              "      <td>Product</td>\n",
              "      <td>Unlimited contract</td>\n",
              "      <td>2020</td>\n",
              "      <td>0</td>\n",
              "      <td>2020</td>\n",
              "    </tr>\n",
              "    <tr>\n",
              "      <th>1215</th>\n",
              "      <td>2020-12-31 17:56:25</td>\n",
              "      <td>34.0</td>\n",
              "      <td>Male</td>\n",
              "      <td>Berlin</td>\n",
              "      <td>Lead</td>\n",
              "      <td>Software Engineer</td>\n",
              "      <td>14</td>\n",
              "      <td>Java</td>\n",
              "      <td>92000.0</td>\n",
              "      <td>30</td>\n",
              "      <td>English</td>\n",
              "      <td>1000+</td>\n",
              "      <td>Product</td>\n",
              "      <td>Unlimited contract</td>\n",
              "      <td>2020</td>\n",
              "      <td>92000</td>\n",
              "      <td>2020</td>\n",
              "    </tr>\n",
              "  </tbody>\n",
              "</table>\n",
              "<p>1663 rows × 17 columns</p>\n",
              "</div>\n",
              "      <button class=\"colab-df-convert\" onclick=\"convertToInteractive('df-dd74971b-2fea-4aef-be0e-4f0f154990f0')\"\n",
              "              title=\"Convert this dataframe to an interactive table.\"\n",
              "              style=\"display:none;\">\n",
              "        \n",
              "  <svg xmlns=\"http://www.w3.org/2000/svg\" height=\"24px\"viewBox=\"0 0 24 24\"\n",
              "       width=\"24px\">\n",
              "    <path d=\"M0 0h24v24H0V0z\" fill=\"none\"/>\n",
              "    <path d=\"M18.56 5.44l.94 2.06.94-2.06 2.06-.94-2.06-.94-.94-2.06-.94 2.06-2.06.94zm-11 1L8.5 8.5l.94-2.06 2.06-.94-2.06-.94L8.5 2.5l-.94 2.06-2.06.94zm10 10l.94 2.06.94-2.06 2.06-.94-2.06-.94-.94-2.06-.94 2.06-2.06.94z\"/><path d=\"M17.41 7.96l-1.37-1.37c-.4-.4-.92-.59-1.43-.59-.52 0-1.04.2-1.43.59L10.3 9.45l-7.72 7.72c-.78.78-.78 2.05 0 2.83L4 21.41c.39.39.9.59 1.41.59.51 0 1.02-.2 1.41-.59l7.78-7.78 2.81-2.81c.8-.78.8-2.07 0-2.86zM5.41 20L4 18.59l7.72-7.72 1.47 1.35L5.41 20z\"/>\n",
              "  </svg>\n",
              "      </button>\n",
              "      \n",
              "  <style>\n",
              "    .colab-df-container {\n",
              "      display:flex;\n",
              "      flex-wrap:wrap;\n",
              "      gap: 12px;\n",
              "    }\n",
              "\n",
              "    .colab-df-convert {\n",
              "      background-color: #E8F0FE;\n",
              "      border: none;\n",
              "      border-radius: 50%;\n",
              "      cursor: pointer;\n",
              "      display: none;\n",
              "      fill: #1967D2;\n",
              "      height: 32px;\n",
              "      padding: 0 0 0 0;\n",
              "      width: 32px;\n",
              "    }\n",
              "\n",
              "    .colab-df-convert:hover {\n",
              "      background-color: #E2EBFA;\n",
              "      box-shadow: 0px 1px 2px rgba(60, 64, 67, 0.3), 0px 1px 3px 1px rgba(60, 64, 67, 0.15);\n",
              "      fill: #174EA6;\n",
              "    }\n",
              "\n",
              "    [theme=dark] .colab-df-convert {\n",
              "      background-color: #3B4455;\n",
              "      fill: #D2E3FC;\n",
              "    }\n",
              "\n",
              "    [theme=dark] .colab-df-convert:hover {\n",
              "      background-color: #434B5C;\n",
              "      box-shadow: 0px 1px 3px 1px rgba(0, 0, 0, 0.15);\n",
              "      filter: drop-shadow(0px 1px 2px rgba(0, 0, 0, 0.3));\n",
              "      fill: #FFFFFF;\n",
              "    }\n",
              "  </style>\n",
              "\n",
              "      <script>\n",
              "        const buttonEl =\n",
              "          document.querySelector('#df-dd74971b-2fea-4aef-be0e-4f0f154990f0 button.colab-df-convert');\n",
              "        buttonEl.style.display =\n",
              "          google.colab.kernel.accessAllowed ? 'block' : 'none';\n",
              "\n",
              "        async function convertToInteractive(key) {\n",
              "          const element = document.querySelector('#df-dd74971b-2fea-4aef-be0e-4f0f154990f0');\n",
              "          const dataTable =\n",
              "            await google.colab.kernel.invokeFunction('convertToInteractive',\n",
              "                                                     [key], {});\n",
              "          if (!dataTable) return;\n",
              "\n",
              "          const docLinkHtml = 'Like what you see? Visit the ' +\n",
              "            '<a target=\"_blank\" href=https://colab.research.google.com/notebooks/data_table.ipynb>data table notebook</a>'\n",
              "            + ' to learn more about interactive tables.';\n",
              "          element.innerHTML = '';\n",
              "          dataTable['output_type'] = 'display_data';\n",
              "          await google.colab.output.renderOutput(dataTable, element);\n",
              "          const docLink = document.createElement('div');\n",
              "          docLink.innerHTML = docLinkHtml;\n",
              "          element.appendChild(docLink);\n",
              "        }\n",
              "      </script>\n",
              "    </div>\n",
              "  </div>\n",
              "  "
            ]
          },
          "metadata": {},
          "execution_count": 336
        }
      ]
    },
    {
      "cell_type": "code",
      "source": [
        "full_data_2['Position '].isna().sum()"
      ],
      "metadata": {
        "colab": {
          "base_uri": "https://localhost:8080/"
        },
        "outputId": "f219d41a-b21e-48ea-e71d-a989f9d2ac8e",
        "id": "tub1qV-FHljW"
      },
      "execution_count": null,
      "outputs": [
        {
          "output_type": "execute_result",
          "data": {
            "text/plain": [
              "0"
            ]
          },
          "metadata": {},
          "execution_count": 337
        }
      ]
    },
    {
      "cell_type": "code",
      "source": [
        "plt.figure(figsize = (30,5))\n",
        "sns.countplot(x = full_data_2['Position ']);"
      ],
      "metadata": {
        "colab": {
          "base_uri": "https://localhost:8080/"
        },
        "outputId": "22b300c9-5d1b-4d9b-b317-92b38d00d717",
        "id": "_zgvSe1JHljX"
      },
      "execution_count": null,
      "outputs": [
        {
          "output_type": "display_data",
          "data": {
            "text/plain": [
              "<Figure size 2160x360 with 1 Axes>"
            ],
            "image/png": "[encoded data removed]"
          },
          "metadata": {
            "needs_background": "light"
          }
        }
      ]
    },
    {
      "cell_type": "markdown",
      "source": [
        "# Tratar dados nulos"
      ],
      "metadata": {
        "id": "GbH5vPbqGC1C"
      }
    },
    {
      "cell_type": "code",
      "source": [
        "import missingno as msno\n",
        "plt.figure(figsize = (15,10));\n",
        "msno.matrix(full_data_2);\n"
      ],
      "metadata": {
        "colab": {
          "base_uri": "https://localhost:8080/"
        },
        "id": "0Xj3nLg4FVNv",
        "outputId": "f026e42d-f70c-4a52-c8a5-122e58ccd89b"
      },
      "execution_count": null,
      "outputs": [
        {
          "output_type": "display_data",
          "data": {
            "text/plain": [
              "<Figure size 1080x720 with 0 Axes>"
            ]
          },
          "metadata": {}
        },
        {
          "output_type": "display_data",
          "data": {
            "text/plain": [
              "<Figure size 1800x720 with 2 Axes>"
            ],
            "image/png": "[encoded data removed]"
          },
          "metadata": {
            "needs_background": "light"
          }
        }
      ]
    },
    {
      "cell_type": "code",
      "source": [
        "full_data_2.isna().sum()"
      ],
      "metadata": {
        "colab": {
          "base_uri": "https://localhost:8080/"
        },
        "id": "xVLegUVAGdgX",
        "outputId": "e313508a-cfd5-4c6c-f7bc-51970f2620da"
      },
      "execution_count": null,
      "outputs": [
        {
          "output_type": "execute_result",
          "data": {
            "text/plain": [
              "Timestamp                                                                                                      0\n",
              "Age                                                                                                           98\n",
              "Gender                                                                                                         5\n",
              "City                                                                                                           0\n",
              "Seniority level                                                                                                0\n",
              "Position                                                                                                       0\n",
              "Total years of experience                                                                                      7\n",
              "Your main technology / programming language                                                                   52\n",
              "Annual brutto salary (without bonus and stocks) one year ago. Only answer if staying in the same country     560\n",
              "Number of vacation days                                                                                       92\n",
              "Main language at work                                                                                          0\n",
              "Company size                                                                                                  22\n",
              "Company type                                                                                                  38\n",
              "Сontract duration                                                                                             36\n",
              "Year                                                                                                           0\n",
              "Annual bonus+stocks one year ago. Only answer if staying in same country                                    1146\n",
              "stamp_year                                                                                                     0\n",
              "dtype: int64"
            ]
          },
          "metadata": {},
          "execution_count": 340
        }
      ]
    },
    {
      "cell_type": "markdown",
      "source": [
        "## **Tratando dados nulos** "
      ],
      "metadata": {
        "id": "phz8Tio9IjFx"
      }
    },
    {
      "cell_type": "markdown",
      "source": [
        "### Idade"
      ],
      "metadata": {
        "id": "YXVCi6HMK1Uv"
      }
    },
    {
      "cell_type": "code",
      "source": [
        "full_data_2['Age'].isna().sum()"
      ],
      "metadata": {
        "colab": {
          "base_uri": "https://localhost:8080/"
        },
        "id": "Jkltaj8u6YRy",
        "outputId": "95d18126-f147-4ef1-bb79-603040fdaf83"
      },
      "execution_count": null,
      "outputs": [
        {
          "output_type": "execute_result",
          "data": {
            "text/plain": [
              "98"
            ]
          },
          "metadata": {},
          "execution_count": 341
        }
      ]
    },
    {
      "cell_type": "code",
      "source": [
        "full_data_2['Age'].describe()"
      ],
      "metadata": {
        "colab": {
          "base_uri": "https://localhost:8080/"
        },
        "id": "hA0JlnvYIr9P",
        "outputId": "8d151f84-2f52-40fa-ad81-9b2fac354191"
      },
      "execution_count": null,
      "outputs": [
        {
          "output_type": "execute_result",
          "data": {
            "text/plain": [
              "count    1565.000000\n",
              "mean       32.246006\n",
              "std         5.391590\n",
              "min        20.000000\n",
              "25%        29.000000\n",
              "50%        32.000000\n",
              "75%        35.000000\n",
              "max        66.000000\n",
              "Name: Age, dtype: float64"
            ]
          },
          "metadata": {},
          "execution_count": 342
        }
      ]
    },
    {
      "cell_type": "code",
      "source": [
        "sns.histplot(full_data_2['Age'] ,kde = True , binwidth=1);"
      ],
      "metadata": {
        "colab": {
          "base_uri": "https://localhost:8080/"
        },
        "id": "rKDzyR_sI8Zo",
        "outputId": "49efc598-e55b-4a40-ccbb-04fdfa9dd92d"
      },
      "execution_count": null,
      "outputs": [
        {
          "output_type": "display_data",
          "data": {
            "text/plain": [
              "<Figure size 432x288 with 1 Axes>"
            ],
            "image/png": "[encoded data removed]"
          },
          "metadata": {
            "needs_background": "light"
          }
        }
      ]
    },
    {
      "cell_type": "code",
      "source": [
        "df_tratado_na = full_data_2\n",
        "df_tratado_na.info()"
      ],
      "metadata": {
        "colab": {
          "base_uri": "https://localhost:8080/"
        },
        "id": "LQ-3eGO654tJ",
        "outputId": "3768d20a-cac2-4ded-b742-31215633f7cc"
      },
      "execution_count": null,
      "outputs": [
        {
          "output_type": "stream",
          "name": "stdout",
          "text": [
            "<class 'pandas.core.frame.DataFrame'>\n",
            "Int64Index: 1663 entries, 0 to 1215\n",
            "Data columns (total 17 columns):\n",
            " #   Column                                                                                                    Non-Null Count  Dtype         \n",
            "---  ------                                                                                                    --------------  -----         \n",
            " 0   Timestamp                                                                                                 1663 non-null   datetime64[ns]\n",
            " 1   Age                                                                                                       1565 non-null   float64       \n",
            " 2   Gender                                                                                                    1658 non-null   object        \n",
            " 3   City                                                                                                      1663 non-null   object        \n",
            " 4   Seniority level                                                                                           1663 non-null   object        \n",
            " 5   Position                                                                                                  1663 non-null   object        \n",
            " 6   Total years of experience                                                                                 1656 non-null   object        \n",
            " 7   Your main technology / programming language                                                               1611 non-null   object        \n",
            " 8   Annual brutto salary (without bonus and stocks) one year ago. Only answer if staying in the same country  1103 non-null   float64       \n",
            " 9   Number of vacation days                                                                                   1571 non-null   object        \n",
            " 10  Main language at work                                                                                     1663 non-null   object        \n",
            " 11  Company size                                                                                              1641 non-null   object        \n",
            " 12  Company type                                                                                              1625 non-null   object        \n",
            " 13  Сontract duration                                                                                         1627 non-null   object        \n",
            " 14  Year                                                                                                      1663 non-null   int64         \n",
            " 15  Annual bonus+stocks one year ago. Only answer if staying in same country                                  517 non-null    object        \n",
            " 16  stamp_year                                                                                                1663 non-null   int64         \n",
            "dtypes: datetime64[ns](1), float64(2), int64(2), object(12)\n",
            "memory usage: 298.4+ KB\n"
          ]
        }
      ]
    },
    {
      "cell_type": "code",
      "source": [
        "#Substituindo os valores faltantes pela mediana, pois a média apresenta valores decimais \n",
        "#idade é geralmente inteiro\n",
        "from sklearn.impute import SimpleImputer\n",
        "imputer = SimpleImputer(strategy='median', missing_values = np.nan)"
      ],
      "metadata": {
        "id": "zH3HCgDa_8ZY"
      },
      "execution_count": null,
      "outputs": []
    },
    {
      "cell_type": "code",
      "source": [
        "df_tratado_na['Age'] = imputer.fit_transform(df_tratado_na[['Age']])"
      ],
      "metadata": {
        "colab": {
          "base_uri": "https://localhost:8080/"
        },
        "id": "3oegMz-hcEXX",
        "outputId": "67df67c1-187e-494e-90a3-4f44eaa558b1"
      },
      "execution_count": null,
      "outputs": [
        {
          "output_type": "stream",
          "name": "stderr",
          "text": [
            "/usr/local/lib/python3.7/dist-packages/ipykernel_launcher.py:1: SettingWithCopyWarning: \n",
            "A value is trying to be set on a copy of a slice from a DataFrame.\n",
            "Try using .loc[row_indexer,col_indexer] = value instead\n",
            "\n",
            "See the caveats in the documentation: https://pandas.pydata.org/pandas-docs/stable/user_guide/indexing.html#returning-a-view-versus-a-copy\n",
            "  \"\"\"Entry point for launching an IPython kernel.\n"
          ]
        }
      ]
    },
    {
      "cell_type": "code",
      "source": [
        "df_tratado_na['Age'].isna().sum()"
      ],
      "metadata": {
        "colab": {
          "base_uri": "https://localhost:8080/"
        },
        "id": "opI9PjqX6s4e",
        "outputId": "05f59023-8efa-46c5-91c6-b837c9932ab0"
      },
      "execution_count": null,
      "outputs": [
        {
          "output_type": "execute_result",
          "data": {
            "text/plain": [
              "0"
            ]
          },
          "metadata": {},
          "execution_count": 347
        }
      ]
    },
    {
      "cell_type": "code",
      "source": [
        "df_tratado_na['Age'].describe()"
      ],
      "metadata": {
        "colab": {
          "base_uri": "https://localhost:8080/"
        },
        "id": "l3iADmlpLPw4",
        "outputId": "9df94660-cb60-4200-9d0b-7da8d2ffdade"
      },
      "execution_count": null,
      "outputs": [
        {
          "output_type": "execute_result",
          "data": {
            "text/plain": [
              "count    1663.000000\n",
              "mean       32.231509\n",
              "std         5.230538\n",
              "min        20.000000\n",
              "25%        29.000000\n",
              "50%        32.000000\n",
              "75%        35.000000\n",
              "max        66.000000\n",
              "Name: Age, dtype: float64"
            ]
          },
          "metadata": {},
          "execution_count": 348
        }
      ]
    },
    {
      "cell_type": "code",
      "source": [
        "sns.histplot(df_tratado_na['Age'] ,kde = True , binwidth=1);"
      ],
      "metadata": {
        "colab": {
          "base_uri": "https://localhost:8080/"
        },
        "id": "s9XyjvM_-685",
        "outputId": "278aada9-8c8b-4641-ffd2-b7ad487e24ac"
      },
      "execution_count": null,
      "outputs": [
        {
          "output_type": "display_data",
          "data": {
            "text/plain": [
              "<Figure size 432x288 with 1 Axes>"
            ],
            "image/png": "[encoded data removed]"
          },
          "metadata": {
            "needs_background": "light"
          }
        }
      ]
    },
    {
      "cell_type": "markdown",
      "source": [
        "### Anos de experiência"
      ],
      "metadata": {
        "id": "rXJK7PSXK5o9"
      }
    },
    {
      "cell_type": "code",
      "source": [
        "full_data_2['Total years of experience'] = pd.to_numeric(full_data_2['Total years of experience'] , errors='coerce')"
      ],
      "metadata": {
        "colab": {
          "base_uri": "https://localhost:8080/"
        },
        "id": "KHxvbWrkMndR",
        "outputId": "198fad9a-4119-4df8-f617-8b73c6643e9f"
      },
      "execution_count": null,
      "outputs": [
        {
          "output_type": "stream",
          "name": "stderr",
          "text": [
            "/usr/local/lib/python3.7/dist-packages/ipykernel_launcher.py:1: SettingWithCopyWarning: \n",
            "A value is trying to be set on a copy of a slice from a DataFrame.\n",
            "Try using .loc[row_indexer,col_indexer] = value instead\n",
            "\n",
            "See the caveats in the documentation: https://pandas.pydata.org/pandas-docs/stable/user_guide/indexing.html#returning-a-view-versus-a-copy\n",
            "  \"\"\"Entry point for launching an IPython kernel.\n"
          ]
        }
      ]
    },
    {
      "cell_type": "code",
      "source": [
        "full_data_2['Total years of experience'].describe()"
      ],
      "metadata": {
        "colab": {
          "base_uri": "https://localhost:8080/"
        },
        "id": "xSTXH_HFMnCo",
        "outputId": "10e02e6d-c538-4e8e-bcb7-338fd3eb064b"
      },
      "execution_count": null,
      "outputs": [
        {
          "output_type": "execute_result",
          "data": {
            "text/plain": [
              "count    1652.000000\n",
              "mean        8.539044\n",
              "std         5.135961\n",
              "min         0.000000\n",
              "25%         5.000000\n",
              "50%         8.000000\n",
              "75%        11.000000\n",
              "max        40.000000\n",
              "Name: Total years of experience, dtype: float64"
            ]
          },
          "metadata": {},
          "execution_count": 351
        }
      ]
    },
    {
      "cell_type": "code",
      "source": [
        "#Observando o valor máximo de 383 anos de experiência, esse valor não é plausível e por isso, todos os valores \n",
        "#acima de 100 serão excluidos da nova base\n",
        "df_tratado_na.drop(df_tratado_na.loc[df_tratado_na['Total years of experience']>=100].index, inplace=True)\n",
        "df_tratado_na['Total years of experience'].describe().round(1)"
      ],
      "metadata": {
        "colab": {
          "base_uri": "https://localhost:8080/"
        },
        "id": "EGEUSuTPNdhv",
        "outputId": "6f1b0862-3893-4082-95d1-65c5dd70fe17"
      },
      "execution_count": null,
      "outputs": [
        {
          "output_type": "stream",
          "name": "stderr",
          "text": [
            "/usr/local/lib/python3.7/dist-packages/pandas/core/frame.py:4913: SettingWithCopyWarning: \n",
            "A value is trying to be set on a copy of a slice from a DataFrame\n",
            "\n",
            "See the caveats in the documentation: https://pandas.pydata.org/pandas-docs/stable/user_guide/indexing.html#returning-a-view-versus-a-copy\n",
            "  errors=errors,\n"
          ]
        },
        {
          "output_type": "execute_result",
          "data": {
            "text/plain": [
              "count    1652.0\n",
              "mean        8.5\n",
              "std         5.1\n",
              "min         0.0\n",
              "25%         5.0\n",
              "50%         8.0\n",
              "75%        11.0\n",
              "max        40.0\n",
              "Name: Total years of experience, dtype: float64"
            ]
          },
          "metadata": {},
          "execution_count": 352
        }
      ]
    },
    {
      "cell_type": "code",
      "source": [
        "df_tratado_na['Total years of experience'].isna().sum()"
      ],
      "metadata": {
        "colab": {
          "base_uri": "https://localhost:8080/"
        },
        "id": "6gyFeRj6OCWY",
        "outputId": "1889f7aa-992e-42de-aafd-7fdf195b5a08"
      },
      "execution_count": null,
      "outputs": [
        {
          "output_type": "execute_result",
          "data": {
            "text/plain": [
              "11"
            ]
          },
          "metadata": {},
          "execution_count": 353
        }
      ]
    },
    {
      "cell_type": "code",
      "source": [
        "sns.histplot(df_tratado_na['Total years of experience'] ,kde = True , binwidth=3);"
      ],
      "metadata": {
        "colab": {
          "base_uri": "https://localhost:8080/"
        },
        "id": "92UhlEvsMmmz",
        "outputId": "adadb386-e7c5-41aa-9193-f4641311b200"
      },
      "execution_count": null,
      "outputs": [
        {
          "output_type": "display_data",
          "data": {
            "text/plain": [
              "<Figure size 432x288 with 1 Axes>"
            ],
            "image/png": "[encoded data removed]"
          },
          "metadata": {
            "needs_background": "light"
          }
        }
      ]
    },
    {
      "cell_type": "code",
      "source": [
        "df_tratado_na['Total years of experience'] = pd.to_numeric(df_tratado_na['Total years of experience'] , errors='coerce')"
      ],
      "metadata": {
        "colab": {
          "base_uri": "https://localhost:8080/"
        },
        "id": "8yxqhiYRMP7k",
        "outputId": "ed1a9d56-253e-425c-f0d9-bb372935f217"
      },
      "execution_count": null,
      "outputs": [
        {
          "output_type": "stream",
          "name": "stderr",
          "text": [
            "/usr/local/lib/python3.7/dist-packages/ipykernel_launcher.py:1: SettingWithCopyWarning: \n",
            "A value is trying to be set on a copy of a slice from a DataFrame.\n",
            "Try using .loc[row_indexer,col_indexer] = value instead\n",
            "\n",
            "See the caveats in the documentation: https://pandas.pydata.org/pandas-docs/stable/user_guide/indexing.html#returning-a-view-versus-a-copy\n",
            "  \"\"\"Entry point for launching an IPython kernel.\n"
          ]
        }
      ]
    },
    {
      "cell_type": "code",
      "source": [
        "df_tratado_na['Total years of experience'].describe()"
      ],
      "metadata": {
        "colab": {
          "base_uri": "https://localhost:8080/"
        },
        "id": "BGw1iWyiLCul",
        "outputId": "0ded058c-a318-4ce4-ed4f-9458d0c66948"
      },
      "execution_count": null,
      "outputs": [
        {
          "output_type": "execute_result",
          "data": {
            "text/plain": [
              "count    1652.000000\n",
              "mean        8.539044\n",
              "std         5.135961\n",
              "min         0.000000\n",
              "25%         5.000000\n",
              "50%         8.000000\n",
              "75%        11.000000\n",
              "max        40.000000\n",
              "Name: Total years of experience, dtype: float64"
            ]
          },
          "metadata": {},
          "execution_count": 356
        }
      ]
    },
    {
      "cell_type": "code",
      "source": [
        "#Usando KNN IMPUTATION para preencher os dados nulos de experiência\n",
        "from sklearn.impute import KNNImputer\n",
        "imputer = KNNImputer(n_neighbors=3)\n",
        "df_tratado_na['Total years of experience'] = imputer.fit_transform(df_tratado_na[['Total years of experience']])"
      ],
      "metadata": {
        "colab": {
          "base_uri": "https://localhost:8080/"
        },
        "id": "rspCPDi5MaE7",
        "outputId": "33618c4d-23b1-468b-b6f2-a3a67fd83315"
      },
      "execution_count": null,
      "outputs": [
        {
          "output_type": "stream",
          "name": "stderr",
          "text": [
            "/usr/local/lib/python3.7/dist-packages/ipykernel_launcher.py:4: SettingWithCopyWarning: \n",
            "A value is trying to be set on a copy of a slice from a DataFrame.\n",
            "Try using .loc[row_indexer,col_indexer] = value instead\n",
            "\n",
            "See the caveats in the documentation: https://pandas.pydata.org/pandas-docs/stable/user_guide/indexing.html#returning-a-view-versus-a-copy\n",
            "  after removing the cwd from sys.path.\n"
          ]
        }
      ]
    },
    {
      "cell_type": "code",
      "source": [
        "df_tratado_na['Total years of experience'].describe()"
      ],
      "metadata": {
        "colab": {
          "base_uri": "https://localhost:8080/"
        },
        "id": "KeupcE8CSOGC",
        "outputId": "eaa7544c-c426-43db-a6b5-415e664ff16d"
      },
      "execution_count": null,
      "outputs": [
        {
          "output_type": "execute_result",
          "data": {
            "text/plain": [
              "count    1663.000000\n",
              "mean        8.539044\n",
              "std         5.118936\n",
              "min         0.000000\n",
              "25%         5.000000\n",
              "50%         8.000000\n",
              "75%        11.000000\n",
              "max        40.000000\n",
              "Name: Total years of experience, dtype: float64"
            ]
          },
          "metadata": {},
          "execution_count": 358
        }
      ]
    },
    {
      "cell_type": "code",
      "source": [
        "df_tratado_na['Total years of experience'].isna().sum()"
      ],
      "metadata": {
        "colab": {
          "base_uri": "https://localhost:8080/"
        },
        "id": "qWZfk0VrR3R2",
        "outputId": "95163899-c136-4fb7-e197-da968637699e"
      },
      "execution_count": null,
      "outputs": [
        {
          "output_type": "execute_result",
          "data": {
            "text/plain": [
              "0"
            ]
          },
          "metadata": {},
          "execution_count": 359
        }
      ]
    },
    {
      "cell_type": "code",
      "source": [
        "sns.histplot(df_tratado_na['Total years of experience'] ,kde = True , binwidth=3);"
      ],
      "metadata": {
        "colab": {
          "base_uri": "https://localhost:8080/"
        },
        "id": "hbhzqreoSIXN",
        "outputId": "3e033aba-aa15-4057-f64e-84bfc4850896"
      },
      "execution_count": null,
      "outputs": [
        {
          "output_type": "display_data",
          "data": {
            "text/plain": [
              "<Figure size 432x288 with 1 Axes>"
            ],
            "image/png": "[encoded data removed]"
          },
          "metadata": {
            "needs_background": "light"
          }
        }
      ]
    },
    {
      "cell_type": "markdown",
      "source": [
        "### Dias de férias (Number of vacation days)"
      ],
      "metadata": {
        "id": "21Q4xherK37B"
      }
    },
    {
      "cell_type": "code",
      "source": [
        "full_data_2['Number of vacation days'].isna().sum()"
      ],
      "metadata": {
        "colab": {
          "base_uri": "https://localhost:8080/"
        },
        "id": "Kl4DClQ9K-s_",
        "outputId": "d30bc5ad-3c86-4d5f-d3d4-c05db9a49521"
      },
      "execution_count": null,
      "outputs": [
        {
          "output_type": "execute_result",
          "data": {
            "text/plain": [
              "92"
            ]
          },
          "metadata": {},
          "execution_count": 361
        }
      ]
    },
    {
      "cell_type": "code",
      "source": [
        "df_tratado_na['Number of vacation days'] = pd.to_numeric(df_tratado_na['Number of vacation days'] , errors='coerce')"
      ],
      "metadata": {
        "colab": {
          "base_uri": "https://localhost:8080/"
        },
        "id": "eIUV085JLaRt",
        "outputId": "026185f3-8647-4689-8bf2-7c41a9bdd9e4"
      },
      "execution_count": null,
      "outputs": [
        {
          "output_type": "stream",
          "name": "stderr",
          "text": [
            "/usr/local/lib/python3.7/dist-packages/ipykernel_launcher.py:1: SettingWithCopyWarning: \n",
            "A value is trying to be set on a copy of a slice from a DataFrame.\n",
            "Try using .loc[row_indexer,col_indexer] = value instead\n",
            "\n",
            "See the caveats in the documentation: https://pandas.pydata.org/pandas-docs/stable/user_guide/indexing.html#returning-a-view-versus-a-copy\n",
            "  \"\"\"Entry point for launching an IPython kernel.\n"
          ]
        }
      ]
    },
    {
      "cell_type": "code",
      "source": [
        "df_tratado_na['Number of vacation days'].describe()"
      ],
      "metadata": {
        "colab": {
          "base_uri": "https://localhost:8080/"
        },
        "id": "QV0YMP0DLRJk",
        "outputId": "64b56bb8-3501-4636-fb59-31e86a695870"
      },
      "execution_count": null,
      "outputs": [
        {
          "output_type": "execute_result",
          "data": {
            "text/plain": [
              "count    1564.000000\n",
              "mean       27.999041\n",
              "std         4.035214\n",
              "min         0.000000\n",
              "25%        26.000000\n",
              "50%        28.000000\n",
              "75%        30.000000\n",
              "max       100.000000\n",
              "Name: Number of vacation days, dtype: float64"
            ]
          },
          "metadata": {},
          "execution_count": 363
        }
      ]
    },
    {
      "cell_type": "code",
      "source": [
        "#Retirando os outliers superiores e inferiores da análise \n",
        "df_tratado_na.drop(df_tratado_na.loc[df_tratado_na['Number of vacation days']>=36].index, inplace=True)\n",
        "df_tratado_na.drop(df_tratado_na.loc[df_tratado_na['Number of vacation days']<=20].index, inplace=True)\n",
        "df_tratado_na['Number of vacation days'].describe().round(1)"
      ],
      "metadata": {
        "colab": {
          "base_uri": "https://localhost:8080/"
        },
        "id": "Losip-wWLxVT",
        "outputId": "4f655597-1b41-4ce0-8ef3-7bffb465c6ce"
      },
      "execution_count": null,
      "outputs": [
        {
          "output_type": "stream",
          "name": "stderr",
          "text": [
            "/usr/local/lib/python3.7/dist-packages/pandas/core/frame.py:4913: SettingWithCopyWarning: \n",
            "A value is trying to be set on a copy of a slice from a DataFrame\n",
            "\n",
            "See the caveats in the documentation: https://pandas.pydata.org/pandas-docs/stable/user_guide/indexing.html#returning-a-view-versus-a-copy\n",
            "  errors=errors,\n"
          ]
        },
        {
          "output_type": "execute_result",
          "data": {
            "text/plain": [
              "count    1462.0\n",
              "mean       28.0\n",
              "std         2.3\n",
              "min        21.0\n",
              "25%        26.0\n",
              "50%        28.0\n",
              "75%        30.0\n",
              "max        35.0\n",
              "Name: Number of vacation days, dtype: float64"
            ]
          },
          "metadata": {},
          "execution_count": 364
        }
      ]
    },
    {
      "cell_type": "code",
      "source": [
        "sns.histplot(df_tratado_na['Number of vacation days'] ,kde = True , binwidth=2);"
      ],
      "metadata": {
        "colab": {
          "base_uri": "https://localhost:8080/"
        },
        "id": "h_vUckWMMBbh",
        "outputId": "e0610067-a196-4f44-9333-f2d3f06c9123"
      },
      "execution_count": null,
      "outputs": [
        {
          "output_type": "display_data",
          "data": {
            "text/plain": [
              "<Figure size 432x288 with 1 Axes>"
            ],
            "image/png": "[encoded data removed]"
          },
          "metadata": {
            "needs_background": "light"
          }
        }
      ]
    },
    {
      "cell_type": "code",
      "source": [
        "imputer = SimpleImputer(strategy='mean', missing_values = np.nan)\n",
        "df_tratado_na['Number of vacation days'] = imputer.fit_transform(df_tratado_na[['Number of vacation days']])\n",
        "df_tratado_na['Number of vacation days'].describe().round(1)"
      ],
      "metadata": {
        "colab": {
          "base_uri": "https://localhost:8080/"
        },
        "id": "kV_mh8UhMicz",
        "outputId": "187aff11-cc38-4723-b954-bda4f953b210"
      },
      "execution_count": null,
      "outputs": [
        {
          "output_type": "stream",
          "name": "stderr",
          "text": [
            "/usr/local/lib/python3.7/dist-packages/ipykernel_launcher.py:2: SettingWithCopyWarning: \n",
            "A value is trying to be set on a copy of a slice from a DataFrame.\n",
            "Try using .loc[row_indexer,col_indexer] = value instead\n",
            "\n",
            "See the caveats in the documentation: https://pandas.pydata.org/pandas-docs/stable/user_guide/indexing.html#returning-a-view-versus-a-copy\n",
            "  \n"
          ]
        },
        {
          "output_type": "execute_result",
          "data": {
            "text/plain": [
              "count    1560.0\n",
              "mean       28.0\n",
              "std         2.2\n",
              "min        21.0\n",
              "25%        27.0\n",
              "50%        28.0\n",
              "75%        30.0\n",
              "max        35.0\n",
              "Name: Number of vacation days, dtype: float64"
            ]
          },
          "metadata": {},
          "execution_count": 366
        }
      ]
    },
    {
      "cell_type": "code",
      "source": [
        "sns.histplot(df_tratado_na['Number of vacation days'] ,kde = True , binwidth=2);"
      ],
      "metadata": {
        "colab": {
          "base_uri": "https://localhost:8080/"
        },
        "id": "cEIbAA2DM8my",
        "outputId": "ee36fa7a-f669-470b-9a58-3c2ebb7dfbd0"
      },
      "execution_count": null,
      "outputs": [
        {
          "output_type": "display_data",
          "data": {
            "text/plain": [
              "<Figure size 432x288 with 1 Axes>"
            ],
            "image/png": "[encoded data removed]"
          },
          "metadata": {
            "needs_background": "light"
          }
        }
      ]
    },
    {
      "cell_type": "markdown",
      "source": [
        "### Salário Bruto Anual"
      ],
      "metadata": {
        "id": "dSk8tP8vTChd"
      }
    },
    {
      "cell_type": "code",
      "source": [
        "full_data_2.isna().sum()"
      ],
      "metadata": {
        "colab": {
          "base_uri": "https://localhost:8080/"
        },
        "id": "VWcA7MeVSu0S",
        "outputId": "93673491-db3c-4ca1-9034-4db65df9b47d"
      },
      "execution_count": null,
      "outputs": [
        {
          "output_type": "execute_result",
          "data": {
            "text/plain": [
              "Timestamp                                                                                                      0\n",
              "Age                                                                                                            0\n",
              "Gender                                                                                                         4\n",
              "City                                                                                                           0\n",
              "Seniority level                                                                                                0\n",
              "Position                                                                                                       0\n",
              "Total years of experience                                                                                      0\n",
              "Your main technology / programming language                                                                   50\n",
              "Annual brutto salary (without bonus and stocks) one year ago. Only answer if staying in the same country     532\n",
              "Number of vacation days                                                                                        0\n",
              "Main language at work                                                                                          0\n",
              "Company size                                                                                                  21\n",
              "Company type                                                                                                  36\n",
              "Сontract duration                                                                                             35\n",
              "Year                                                                                                           0\n",
              "Annual bonus+stocks one year ago. Only answer if staying in same country                                    1080\n",
              "stamp_year                                                                                                     0\n",
              "dtype: int64"
            ]
          },
          "metadata": {},
          "execution_count": 368
        }
      ]
    },
    {
      "cell_type": "code",
      "source": [
        "full_data_2['Annual brutto salary (without bonus and stocks) one year ago. Only answer if staying in the same country'].describe()"
      ],
      "metadata": {
        "colab": {
          "base_uri": "https://localhost:8080/"
        },
        "id": "Kcze0FFwTOPD",
        "outputId": "07e08cdd-35e5-4927-b337-fd59cc5f5283"
      },
      "execution_count": null,
      "outputs": [
        {
          "output_type": "execute_result",
          "data": {
            "text/plain": [
              "count      1028.000000\n",
              "mean      65470.131323\n",
              "std       17699.646078\n",
              "min           0.000000\n",
              "25%       55000.000000\n",
              "50%       65000.000000\n",
              "75%       75000.000000\n",
              "max      200000.000000\n",
              "Name: Annual brutto salary (without bonus and stocks) one year ago. Only answer if staying in the same country, dtype: float64"
            ]
          },
          "metadata": {},
          "execution_count": 369
        }
      ]
    },
    {
      "cell_type": "code",
      "source": [
        "#Retirando os outliers superiores da análise \n",
        "df_tratado_na.drop(df_tratado_na.loc[df_tratado_na['Annual brutto salary (without bonus and stocks) one year ago. Only answer if staying in the same country']>=1.05e+5].index, inplace=True)\n",
        "df_tratado_na['Annual brutto salary (without bonus and stocks) one year ago. Only answer if staying in the same country'].describe().round(1)"
      ],
      "metadata": {
        "colab": {
          "base_uri": "https://localhost:8080/"
        },
        "id": "tcRcSQv6UHfF",
        "outputId": "f3e4fc32-3b51-4c90-93a5-086ae64c8d46"
      },
      "execution_count": null,
      "outputs": [
        {
          "output_type": "stream",
          "name": "stderr",
          "text": [
            "/usr/local/lib/python3.7/dist-packages/pandas/core/frame.py:4913: SettingWithCopyWarning: \n",
            "A value is trying to be set on a copy of a slice from a DataFrame\n",
            "\n",
            "See the caveats in the documentation: https://pandas.pydata.org/pandas-docs/stable/user_guide/indexing.html#returning-a-view-versus-a-copy\n",
            "  errors=errors,\n"
          ]
        },
        {
          "output_type": "execute_result",
          "data": {
            "text/plain": [
              "count       994.0\n",
              "mean      64022.4\n",
              "std       14950.5\n",
              "min           0.0\n",
              "25%       55000.0\n",
              "50%       65000.0\n",
              "75%       75000.0\n",
              "max      104000.0\n",
              "Name: Annual brutto salary (without bonus and stocks) one year ago. Only answer if staying in the same country, dtype: float64"
            ]
          },
          "metadata": {},
          "execution_count": 370
        }
      ]
    },
    {
      "cell_type": "code",
      "source": [
        "#Retirando os outliers inferiores da análise \n",
        "df_tratado_na.drop(df_tratado_na.loc[df_tratado_na['Annual brutto salary (without bonus and stocks) one year ago. Only answer if staying in the same country']<=35470].index, inplace=True)\n",
        "df_tratado_na['Annual brutto salary (without bonus and stocks) one year ago. Only answer if staying in the same country'].describe().round(1)"
      ],
      "metadata": {
        "colab": {
          "base_uri": "https://localhost:8080/"
        },
        "id": "-n4ot1ZxFPLz",
        "outputId": "a815472d-e126-46b9-92a6-0e20f451b2bb"
      },
      "execution_count": null,
      "outputs": [
        {
          "output_type": "stream",
          "name": "stderr",
          "text": [
            "/usr/local/lib/python3.7/dist-packages/pandas/core/frame.py:4913: SettingWithCopyWarning: \n",
            "A value is trying to be set on a copy of a slice from a DataFrame\n",
            "\n",
            "See the caveats in the documentation: https://pandas.pydata.org/pandas-docs/stable/user_guide/indexing.html#returning-a-view-versus-a-copy\n",
            "  errors=errors,\n"
          ]
        },
        {
          "output_type": "execute_result",
          "data": {
            "text/plain": [
              "count       947.0\n",
              "mean      65599.7\n",
              "std       12786.3\n",
              "min       36000.0\n",
              "25%       56000.0\n",
              "50%       65000.0\n",
              "75%       75000.0\n",
              "max      104000.0\n",
              "Name: Annual brutto salary (without bonus and stocks) one year ago. Only answer if staying in the same country, dtype: float64"
            ]
          },
          "metadata": {},
          "execution_count": 371
        }
      ]
    },
    {
      "cell_type": "code",
      "source": [
        "#Reduzindo o nome da coluna \n",
        "df_tratado_na.rename(columns={'Annual brutto salary (without bonus and stocks) one year ago. Only answer if staying in the same country':'Annual bruto salary one year ago (same country)'\n",
        "                          }, inplace=True)"
      ],
      "metadata": {
        "colab": {
          "base_uri": "https://localhost:8080/"
        },
        "id": "_EThR7_7dcoo",
        "outputId": "182446f7-b040-4d54-9926-a3f5b01c0b2f"
      },
      "execution_count": null,
      "outputs": [
        {
          "output_type": "stream",
          "name": "stderr",
          "text": [
            "/usr/local/lib/python3.7/dist-packages/pandas/core/frame.py:5047: SettingWithCopyWarning: \n",
            "A value is trying to be set on a copy of a slice from a DataFrame\n",
            "\n",
            "See the caveats in the documentation: https://pandas.pydata.org/pandas-docs/stable/user_guide/indexing.html#returning-a-view-versus-a-copy\n",
            "  errors=errors,\n"
          ]
        }
      ]
    },
    {
      "cell_type": "code",
      "source": [
        "sns.barplot(x ='Seniority level', y ='Annual bruto salary one year ago (same country)', data = df_tratado_na,\n",
        "            palette ='plasma', estimator = np.std);"
      ],
      "metadata": {
        "colab": {
          "base_uri": "https://localhost:8080/"
        },
        "id": "mxFqG0UYJa85",
        "outputId": "9f31a5b0-cd2a-4c7c-ee51-7713be541fc6"
      },
      "execution_count": null,
      "outputs": [
        {
          "output_type": "display_data",
          "data": {
            "text/plain": [
              "<Figure size 432x288 with 1 Axes>"
            ],
            "image/png": "[encoded data removed]"
          },
          "metadata": {
            "needs_background": "light"
          }
        }
      ]
    },
    {
      "cell_type": "code",
      "source": [
        "df_tratado_na[['Seniority level','Annual bruto salary one year ago (same country)']].groupby('Seniority level').median()"
      ],
      "metadata": {
        "colab": {
          "base_uri": "https://localhost:8080/"
        },
        "id": "evtyfj8UeLwx",
        "outputId": "cfbd83b0-7fae-4bdc-e586-e01336168d70"
      },
      "execution_count": null,
      "outputs": [
        {
          "output_type": "execute_result",
          "data": {
            "text/plain": [
              "                 Annual bruto salary one year ago (same country)\n",
              "Seniority level                                                 \n",
              "C-level                                                  81000.0\n",
              "Intern                                                       NaN\n",
              "Junior                                                   45500.0\n",
              "Lead                                                     75000.0\n",
              "Middle                                                   56250.0\n",
              "Outros                                                   75000.0\n",
              "Senior                                                   67000.0"
            ],
            "text/html": [
              "\n",
              "  <div id=\"df-f77be141-218d-4c11-9724-ce17c2361198\">\n",
              "    <div class=\"colab-df-container\">\n",
              "      <div>\n",
              "<style scoped>\n",
              "    .dataframe tbody tr th:only-of-type {\n",
              "        vertical-align: middle;\n",
              "    }\n",
              "\n",
              "    .dataframe tbody tr th {\n",
              "        vertical-align: top;\n",
              "    }\n",
              "\n",
              "    .dataframe thead th {\n",
              "        text-align: right;\n",
              "    }\n",
              "</style>\n",
              "<table border=\"1\" class=\"dataframe\">\n",
              "  <thead>\n",
              "    <tr style=\"text-align: right;\">\n",
              "      <th></th>\n",
              "      <th>Annual bruto salary one year ago (same country)</th>\n",
              "    </tr>\n",
              "    <tr>\n",
              "      <th>Seniority level</th>\n",
              "      <th></th>\n",
              "    </tr>\n",
              "  </thead>\n",
              "  <tbody>\n",
              "    <tr>\n",
              "      <th>C-level</th>\n",
              "      <td>81000.0</td>\n",
              "    </tr>\n",
              "    <tr>\n",
              "      <th>Intern</th>\n",
              "      <td>NaN</td>\n",
              "    </tr>\n",
              "    <tr>\n",
              "      <th>Junior</th>\n",
              "      <td>45500.0</td>\n",
              "    </tr>\n",
              "    <tr>\n",
              "      <th>Lead</th>\n",
              "      <td>75000.0</td>\n",
              "    </tr>\n",
              "    <tr>\n",
              "      <th>Middle</th>\n",
              "      <td>56250.0</td>\n",
              "    </tr>\n",
              "    <tr>\n",
              "      <th>Outros</th>\n",
              "      <td>75000.0</td>\n",
              "    </tr>\n",
              "    <tr>\n",
              "      <th>Senior</th>\n",
              "      <td>67000.0</td>\n",
              "    </tr>\n",
              "  </tbody>\n",
              "</table>\n",
              "</div>\n",
              "      <button class=\"colab-df-convert\" onclick=\"convertToInteractive('df-f77be141-218d-4c11-9724-ce17c2361198')\"\n",
              "              title=\"Convert this dataframe to an interactive table.\"\n",
              "              style=\"display:none;\">\n",
              "        \n",
              "  <svg xmlns=\"http://www.w3.org/2000/svg\" height=\"24px\"viewBox=\"0 0 24 24\"\n",
              "       width=\"24px\">\n",
              "    <path d=\"M0 0h24v24H0V0z\" fill=\"none\"/>\n",
              "    <path d=\"M18.56 5.44l.94 2.06.94-2.06 2.06-.94-2.06-.94-.94-2.06-.94 2.06-2.06.94zm-11 1L8.5 8.5l.94-2.06 2.06-.94-2.06-.94L8.5 2.5l-.94 2.06-2.06.94zm10 10l.94 2.06.94-2.06 2.06-.94-2.06-.94-.94-2.06-.94 2.06-2.06.94z\"/><path d=\"M17.41 7.96l-1.37-1.37c-.4-.4-.92-.59-1.43-.59-.52 0-1.04.2-1.43.59L10.3 9.45l-7.72 7.72c-.78.78-.78 2.05 0 2.83L4 21.41c.39.39.9.59 1.41.59.51 0 1.02-.2 1.41-.59l7.78-7.78 2.81-2.81c.8-.78.8-2.07 0-2.86zM5.41 20L4 18.59l7.72-7.72 1.47 1.35L5.41 20z\"/>\n",
              "  </svg>\n",
              "      </button>\n",
              "      \n",
              "  <style>\n",
              "    .colab-df-container {\n",
              "      display:flex;\n",
              "      flex-wrap:wrap;\n",
              "      gap: 12px;\n",
              "    }\n",
              "\n",
              "    .colab-df-convert {\n",
              "      background-color: #E8F0FE;\n",
              "      border: none;\n",
              "      border-radius: 50%;\n",
              "      cursor: pointer;\n",
              "      display: none;\n",
              "      fill: #1967D2;\n",
              "      height: 32px;\n",
              "      padding: 0 0 0 0;\n",
              "      width: 32px;\n",
              "    }\n",
              "\n",
              "    .colab-df-convert:hover {\n",
              "      background-color: #E2EBFA;\n",
              "      box-shadow: 0px 1px 2px rgba(60, 64, 67, 0.3), 0px 1px 3px 1px rgba(60, 64, 67, 0.15);\n",
              "      fill: #174EA6;\n",
              "    }\n",
              "\n",
              "    [theme=dark] .colab-df-convert {\n",
              "      background-color: #3B4455;\n",
              "      fill: #D2E3FC;\n",
              "    }\n",
              "\n",
              "    [theme=dark] .colab-df-convert:hover {\n",
              "      background-color: #434B5C;\n",
              "      box-shadow: 0px 1px 3px 1px rgba(0, 0, 0, 0.15);\n",
              "      filter: drop-shadow(0px 1px 2px rgba(0, 0, 0, 0.3));\n",
              "      fill: #FFFFFF;\n",
              "    }\n",
              "  </style>\n",
              "\n",
              "      <script>\n",
              "        const buttonEl =\n",
              "          document.querySelector('#df-f77be141-218d-4c11-9724-ce17c2361198 button.colab-df-convert');\n",
              "        buttonEl.style.display =\n",
              "          google.colab.kernel.accessAllowed ? 'block' : 'none';\n",
              "\n",
              "        async function convertToInteractive(key) {\n",
              "          const element = document.querySelector('#df-f77be141-218d-4c11-9724-ce17c2361198');\n",
              "          const dataTable =\n",
              "            await google.colab.kernel.invokeFunction('convertToInteractive',\n",
              "                                                     [key], {});\n",
              "          if (!dataTable) return;\n",
              "\n",
              "          const docLinkHtml = 'Like what you see? Visit the ' +\n",
              "            '<a target=\"_blank\" href=https://colab.research.google.com/notebooks/data_table.ipynb>data table notebook</a>'\n",
              "            + ' to learn more about interactive tables.';\n",
              "          element.innerHTML = '';\n",
              "          dataTable['output_type'] = 'display_data';\n",
              "          await google.colab.output.renderOutput(dataTable, element);\n",
              "          const docLink = document.createElement('div');\n",
              "          docLink.innerHTML = docLinkHtml;\n",
              "          element.appendChild(docLink);\n",
              "        }\n",
              "      </script>\n",
              "    </div>\n",
              "  </div>\n",
              "  "
            ]
          },
          "metadata": {},
          "execution_count": 374
        }
      ]
    },
    {
      "cell_type": "code",
      "source": [
        "d1 = df_tratado_na[['Seniority level','Annual bruto salary one year ago (same country)']].groupby('Seniority level').median().to_dict()\n",
        "d1"
      ],
      "metadata": {
        "id": "nS38Z4XqG7hG",
        "colab": {
          "base_uri": "https://localhost:8080/"
        },
        "outputId": "231b9e09-f3ab-4469-de9d-795ec1fc93da"
      },
      "execution_count": null,
      "outputs": [
        {
          "output_type": "execute_result",
          "data": {
            "text/plain": [
              "{'Annual bruto salary one year ago (same country)': {'C-level': 81000.0,\n",
              "  'Intern': nan,\n",
              "  'Junior': 45500.0,\n",
              "  'Lead': 75000.0,\n",
              "  'Middle': 56250.0,\n",
              "  'Outros': 75000.0,\n",
              "  'Senior': 67000.0}}"
            ]
          },
          "metadata": {},
          "execution_count": 375
        }
      ]
    },
    {
      "cell_type": "code",
      "source": [
        "d1 = {'C-level': 85000.0,\n",
        "  'Intern': 30000.0,\n",
        "  'Junior': 42000.0,\n",
        "  'Lead': 75000.0,\n",
        "  'Middle': 55000.0,\n",
        "  'Outros': 75000.0,\n",
        "  'Senior': 66000.0}"
      ],
      "metadata": {
        "id": "bOqpFOAj8Vyg"
      },
      "execution_count": null,
      "outputs": []
    },
    {
      "cell_type": "code",
      "source": [
        "df_tratado_na['Annual bruto salary one year ago (same country)'] = df_tratado_na['Annual bruto salary one year ago (same country)'].fillna(df_tratado_na['Seniority level'].map(d1))"
      ],
      "metadata": {
        "id": "g8r28SntfFYE",
        "colab": {
          "base_uri": "https://localhost:8080/"
        },
        "outputId": "646c6a41-31f2-4731-d550-e0af4f9fad01"
      },
      "execution_count": null,
      "outputs": [
        {
          "output_type": "stream",
          "name": "stderr",
          "text": [
            "/usr/local/lib/python3.7/dist-packages/ipykernel_launcher.py:1: SettingWithCopyWarning: \n",
            "A value is trying to be set on a copy of a slice from a DataFrame.\n",
            "Try using .loc[row_indexer,col_indexer] = value instead\n",
            "\n",
            "See the caveats in the documentation: https://pandas.pydata.org/pandas-docs/stable/user_guide/indexing.html#returning-a-view-versus-a-copy\n",
            "  \"\"\"Entry point for launching an IPython kernel.\n"
          ]
        }
      ]
    },
    {
      "cell_type": "code",
      "source": [
        "df_tratado_na['Annual bruto salary one year ago (same country)'].isna().sum()"
      ],
      "metadata": {
        "colab": {
          "base_uri": "https://localhost:8080/"
        },
        "id": "aJ6tsrrdNbNY",
        "outputId": "c7d5f856-24fb-48de-af67-fc9f8f21f94f"
      },
      "execution_count": null,
      "outputs": [
        {
          "output_type": "execute_result",
          "data": {
            "text/plain": [
              "0"
            ]
          },
          "metadata": {},
          "execution_count": 378
        }
      ]
    },
    {
      "cell_type": "code",
      "source": [
        "df_tratado_na['Annual bruto salary one year ago (same country)'].describe().round(1)"
      ],
      "metadata": {
        "colab": {
          "base_uri": "https://localhost:8080/"
        },
        "id": "jCpdmhzF9t6z",
        "outputId": "c7a9b80b-43c2-4227-bc56-6be27cbbe7dd"
      },
      "execution_count": null,
      "outputs": [
        {
          "output_type": "execute_result",
          "data": {
            "text/plain": [
              "count      1461.0\n",
              "mean      63796.0\n",
              "std       11911.8\n",
              "min       30000.0\n",
              "25%       55000.0\n",
              "50%       65000.0\n",
              "75%       70000.0\n",
              "max      104000.0\n",
              "Name: Annual bruto salary one year ago (same country), dtype: float64"
            ]
          },
          "metadata": {},
          "execution_count": 379
        }
      ]
    },
    {
      "cell_type": "code",
      "source": [
        "sns.barplot(x ='Seniority level', y ='Annual bruto salary one year ago (same country)', data = df_tratado_na,\n",
        "            palette ='plasma', estimator = np.std);"
      ],
      "metadata": {
        "colab": {
          "base_uri": "https://localhost:8080/"
        },
        "id": "9-lyxS22_B0i",
        "outputId": "bb9f0e38-16b2-427e-9482-063d614b7f31"
      },
      "execution_count": null,
      "outputs": [
        {
          "output_type": "display_data",
          "data": {
            "text/plain": [
              "<Figure size 432x288 with 1 Axes>"
            ],
            "image/png": "[encoded data removed]"
          },
          "metadata": {
            "needs_background": "light"
          }
        }
      ]
    },
    {
      "cell_type": "markdown",
      "source": [
        "# Convertendo Variáveis Categóricas"
      ],
      "metadata": {
        "id": "s5n1pj9aNnk_"
      }
    },
    {
      "cell_type": "markdown",
      "source": [
        "## Ordinal encoding"
      ],
      "metadata": {
        "id": "lDlNPFHHCsjJ"
      }
    },
    {
      "cell_type": "code",
      "source": [
        "from sklearn.preprocessing import OrdinalEncoder"
      ],
      "metadata": {
        "id": "7AJ_RYS5Nwhu"
      },
      "execution_count": null,
      "outputs": []
    },
    {
      "cell_type": "code",
      "source": [
        "#Criando a cópia do dataframe para a realização das conversõies das variáveis categóricas \n",
        "df_test_ordinal = df_tratado_na.copy(deep = True)"
      ],
      "metadata": {
        "id": "rq_2QdIi-Wvb"
      },
      "execution_count": null,
      "outputs": []
    },
    {
      "cell_type": "code",
      "source": [
        "#Lendo quais são as categorias presentes \n",
        "df_test_ordinal['Seniority level'].unique()"
      ],
      "metadata": {
        "colab": {
          "base_uri": "https://localhost:8080/"
        },
        "id": "yUjli9rhCP6o",
        "outputId": "c05a2a3f-0f5c-4724-cae7-67ca72d46ac1"
      },
      "execution_count": null,
      "outputs": [
        {
          "output_type": "execute_result",
          "data": {
            "text/plain": [
              "array(['Senior', 'Middle', 'Outros', 'Lead', 'Junior', 'C-level',\n",
              "       'Intern'], dtype=object)"
            ]
          },
          "metadata": {},
          "execution_count": 383
        }
      ]
    },
    {
      "cell_type": "code",
      "source": [
        "#Criando o Array de ordenação \n",
        "nivel = [ 'C-level', 'Senior', 'Middle', 'Lead', 'Junior',\n",
        "       'Intern', 'Outros']"
      ],
      "metadata": {
        "id": "h78p00Y1CpF0"
      },
      "execution_count": null,
      "outputs": []
    },
    {
      "cell_type": "code",
      "source": [
        "#Criando a variável de ordenação pelo ordinalEncoder\n",
        "ord = OrdinalEncoder(categories=[nivel])"
      ],
      "metadata": {
        "id": "sebhGmGZC_J8"
      },
      "execution_count": null,
      "outputs": []
    },
    {
      "cell_type": "code",
      "source": [
        "ord.fit(df_test_ordinal[['Seniority level']])"
      ],
      "metadata": {
        "colab": {
          "base_uri": "https://localhost:8080/"
        },
        "id": "MwZguwDrDLbc",
        "outputId": "6bca7d56-e682-4249-c747-c2293505f742"
      },
      "execution_count": null,
      "outputs": [
        {
          "output_type": "execute_result",
          "data": {
            "text/plain": [
              "OrdinalEncoder(categories=[['C-level', 'Senior', 'Middle', 'Lead', 'Junior',\n",
              "                            'Intern', 'Outros']])"
            ]
          },
          "metadata": {},
          "execution_count": 386
        }
      ]
    },
    {
      "cell_type": "code",
      "source": [
        "#Realizando a transformação dos dados de senioridade \n",
        "ord.transform(df_test_ordinal[['Seniority level']])"
      ],
      "metadata": {
        "colab": {
          "base_uri": "https://localhost:8080/"
        },
        "id": "bZJCzWnQEJnt",
        "outputId": "d158c2db-a39c-4e6f-990e-2d8b6a811faf"
      },
      "execution_count": null,
      "outputs": [
        {
          "output_type": "execute_result",
          "data": {
            "text/plain": [
              "array([[1.],\n",
              "       [2.],\n",
              "       [2.],\n",
              "       ...,\n",
              "       [1.],\n",
              "       [1.],\n",
              "       [3.]])"
            ]
          },
          "metadata": {},
          "execution_count": 387
        }
      ]
    },
    {
      "cell_type": "code",
      "source": [
        "df_test_ordinal['Seniority level']"
      ],
      "metadata": {
        "colab": {
          "base_uri": "https://localhost:8080/"
        },
        "id": "46klh0auEhHR",
        "outputId": "3ea42000-3172-4f31-e8e9-21d1e8f450ac"
      },
      "execution_count": null,
      "outputs": [
        {
          "output_type": "execute_result",
          "data": {
            "text/plain": [
              "0       Senior\n",
              "1       Middle\n",
              "2       Middle\n",
              "3       Senior\n",
              "6       Senior\n",
              "         ...  \n",
              "1211    Middle\n",
              "1212      Lead\n",
              "1213    Senior\n",
              "1214    Senior\n",
              "1215      Lead\n",
              "Name: Seniority level, Length: 1461, dtype: object"
            ]
          },
          "metadata": {},
          "execution_count": 388
        }
      ]
    },
    {
      "cell_type": "code",
      "source": [
        "#Apresentando o resultado final\n",
        "pd.DataFrame(ord.transform(df_test_ordinal[['Seniority level']]))"
      ],
      "metadata": {
        "colab": {
          "base_uri": "https://localhost:8080/"
        },
        "id": "umB_GXKtDiqG",
        "outputId": "c006e78d-1852-47c9-a0c1-7dd6d75eaaa4"
      },
      "execution_count": null,
      "outputs": [
        {
          "output_type": "execute_result",
          "data": {
            "text/plain": [
              "        0\n",
              "0     1.0\n",
              "1     2.0\n",
              "2     2.0\n",
              "3     1.0\n",
              "4     1.0\n",
              "...   ...\n",
              "1456  2.0\n",
              "1457  3.0\n",
              "1458  1.0\n",
              "1459  1.0\n",
              "1460  3.0\n",
              "\n",
              "[1461 rows x 1 columns]"
            ],
            "text/html": [
              "\n",
              "  <div id=\"df-51019fb3-99ab-4de9-93b6-625a4e886d12\">\n",
              "    <div class=\"colab-df-container\">\n",
              "      <div>\n",
              "<style scoped>\n",
              "    .dataframe tbody tr th:only-of-type {\n",
              "        vertical-align: middle;\n",
              "    }\n",
              "\n",
              "    .dataframe tbody tr th {\n",
              "        vertical-align: top;\n",
              "    }\n",
              "\n",
              "    .dataframe thead th {\n",
              "        text-align: right;\n",
              "    }\n",
              "</style>\n",
              "<table border=\"1\" class=\"dataframe\">\n",
              "  <thead>\n",
              "    <tr style=\"text-align: right;\">\n",
              "      <th></th>\n",
              "      <th>0</th>\n",
              "    </tr>\n",
              "  </thead>\n",
              "  <tbody>\n",
              "    <tr>\n",
              "      <th>0</th>\n",
              "      <td>1.0</td>\n",
              "    </tr>\n",
              "    <tr>\n",
              "      <th>1</th>\n",
              "      <td>2.0</td>\n",
              "    </tr>\n",
              "    <tr>\n",
              "      <th>2</th>\n",
              "      <td>2.0</td>\n",
              "    </tr>\n",
              "    <tr>\n",
              "      <th>3</th>\n",
              "      <td>1.0</td>\n",
              "    </tr>\n",
              "    <tr>\n",
              "      <th>4</th>\n",
              "      <td>1.0</td>\n",
              "    </tr>\n",
              "    <tr>\n",
              "      <th>...</th>\n",
              "      <td>...</td>\n",
              "    </tr>\n",
              "    <tr>\n",
              "      <th>1456</th>\n",
              "      <td>2.0</td>\n",
              "    </tr>\n",
              "    <tr>\n",
              "      <th>1457</th>\n",
              "      <td>3.0</td>\n",
              "    </tr>\n",
              "    <tr>\n",
              "      <th>1458</th>\n",
              "      <td>1.0</td>\n",
              "    </tr>\n",
              "    <tr>\n",
              "      <th>1459</th>\n",
              "      <td>1.0</td>\n",
              "    </tr>\n",
              "    <tr>\n",
              "      <th>1460</th>\n",
              "      <td>3.0</td>\n",
              "    </tr>\n",
              "  </tbody>\n",
              "</table>\n",
              "<p>1461 rows × 1 columns</p>\n",
              "</div>\n",
              "      <button class=\"colab-df-convert\" onclick=\"convertToInteractive('df-51019fb3-99ab-4de9-93b6-625a4e886d12')\"\n",
              "              title=\"Convert this dataframe to an interactive table.\"\n",
              "              style=\"display:none;\">\n",
              "        \n",
              "  <svg xmlns=\"http://www.w3.org/2000/svg\" height=\"24px\"viewBox=\"0 0 24 24\"\n",
              "       width=\"24px\">\n",
              "    <path d=\"M0 0h24v24H0V0z\" fill=\"none\"/>\n",
              "    <path d=\"M18.56 5.44l.94 2.06.94-2.06 2.06-.94-2.06-.94-.94-2.06-.94 2.06-2.06.94zm-11 1L8.5 8.5l.94-2.06 2.06-.94-2.06-.94L8.5 2.5l-.94 2.06-2.06.94zm10 10l.94 2.06.94-2.06 2.06-.94-2.06-.94-.94-2.06-.94 2.06-2.06.94z\"/><path d=\"M17.41 7.96l-1.37-1.37c-.4-.4-.92-.59-1.43-.59-.52 0-1.04.2-1.43.59L10.3 9.45l-7.72 7.72c-.78.78-.78 2.05 0 2.83L4 21.41c.39.39.9.59 1.41.59.51 0 1.02-.2 1.41-.59l7.78-7.78 2.81-2.81c.8-.78.8-2.07 0-2.86zM5.41 20L4 18.59l7.72-7.72 1.47 1.35L5.41 20z\"/>\n",
              "  </svg>\n",
              "      </button>\n",
              "      \n",
              "  <style>\n",
              "    .colab-df-container {\n",
              "      display:flex;\n",
              "      flex-wrap:wrap;\n",
              "      gap: 12px;\n",
              "    }\n",
              "\n",
              "    .colab-df-convert {\n",
              "      background-color: #E8F0FE;\n",
              "      border: none;\n",
              "      border-radius: 50%;\n",
              "      cursor: pointer;\n",
              "      display: none;\n",
              "      fill: #1967D2;\n",
              "      height: 32px;\n",
              "      padding: 0 0 0 0;\n",
              "      width: 32px;\n",
              "    }\n",
              "\n",
              "    .colab-df-convert:hover {\n",
              "      background-color: #E2EBFA;\n",
              "      box-shadow: 0px 1px 2px rgba(60, 64, 67, 0.3), 0px 1px 3px 1px rgba(60, 64, 67, 0.15);\n",
              "      fill: #174EA6;\n",
              "    }\n",
              "\n",
              "    [theme=dark] .colab-df-convert {\n",
              "      background-color: #3B4455;\n",
              "      fill: #D2E3FC;\n",
              "    }\n",
              "\n",
              "    [theme=dark] .colab-df-convert:hover {\n",
              "      background-color: #434B5C;\n",
              "      box-shadow: 0px 1px 3px 1px rgba(0, 0, 0, 0.15);\n",
              "      filter: drop-shadow(0px 1px 2px rgba(0, 0, 0, 0.3));\n",
              "      fill: #FFFFFF;\n",
              "    }\n",
              "  </style>\n",
              "\n",
              "      <script>\n",
              "        const buttonEl =\n",
              "          document.querySelector('#df-51019fb3-99ab-4de9-93b6-625a4e886d12 button.colab-df-convert');\n",
              "        buttonEl.style.display =\n",
              "          google.colab.kernel.accessAllowed ? 'block' : 'none';\n",
              "\n",
              "        async function convertToInteractive(key) {\n",
              "          const element = document.querySelector('#df-51019fb3-99ab-4de9-93b6-625a4e886d12');\n",
              "          const dataTable =\n",
              "            await google.colab.kernel.invokeFunction('convertToInteractive',\n",
              "                                                     [key], {});\n",
              "          if (!dataTable) return;\n",
              "\n",
              "          const docLinkHtml = 'Like what you see? Visit the ' +\n",
              "            '<a target=\"_blank\" href=https://colab.research.google.com/notebooks/data_table.ipynb>data table notebook</a>'\n",
              "            + ' to learn more about interactive tables.';\n",
              "          element.innerHTML = '';\n",
              "          dataTable['output_type'] = 'display_data';\n",
              "          await google.colab.output.renderOutput(dataTable, element);\n",
              "          const docLink = document.createElement('div');\n",
              "          docLink.innerHTML = docLinkHtml;\n",
              "          element.appendChild(docLink);\n",
              "        }\n",
              "      </script>\n",
              "    </div>\n",
              "  </div>\n",
              "  "
            ]
          },
          "metadata": {},
          "execution_count": 389
        }
      ]
    },
    {
      "cell_type": "markdown",
      "source": [
        "## One Hot Encoding"
      ],
      "metadata": {
        "id": "9EllwxRZEygU"
      }
    },
    {
      "cell_type": "markdown",
      "source": [
        "### - Position"
      ],
      "metadata": {
        "id": "6llwkPgZH-y7"
      }
    },
    {
      "cell_type": "code",
      "source": [
        "from sklearn.preprocessing import OneHotEncoder"
      ],
      "metadata": {
        "id": "hjtvzzQ-E2gD"
      },
      "execution_count": null,
      "outputs": []
    },
    {
      "cell_type": "code",
      "source": [
        "#Criando a variável de transformação pelo OneHotEncoder\n",
        "onehotencoder = OneHotEncoder()"
      ],
      "metadata": {
        "id": "An4n4ZvJG7K1"
      },
      "execution_count": null,
      "outputs": []
    },
    {
      "cell_type": "code",
      "source": [
        "#Criando um array com os dados transformados do cargo(Position)\n",
        "feature_arry = onehotencoder.fit_transform(df_test_ordinal[['Position ']]).toarray()"
      ],
      "metadata": {
        "id": "kbgVl5RTK3Lw"
      },
      "execution_count": null,
      "outputs": []
    },
    {
      "cell_type": "code",
      "source": [
        "onehotencoder.categories_"
      ],
      "metadata": {
        "colab": {
          "base_uri": "https://localhost:8080/"
        },
        "id": "c8p3CvpUK8Il",
        "outputId": "c3433475-1c01-43cd-d9c6-70542ef0e753"
      },
      "execution_count": null,
      "outputs": [
        {
          "output_type": "execute_result",
          "data": {
            "text/plain": [
              "[array(['Backend Developer', 'Data Engineer', 'Data Scientist', 'DevOps',\n",
              "        'Frontend Developer', 'Fullstack Developer', 'Manager',\n",
              "        'Mobile Developer', 'QA Engineer', 'Software Engineer'],\n",
              "       dtype=object)]"
            ]
          },
          "metadata": {},
          "execution_count": 393
        }
      ]
    },
    {
      "cell_type": "code",
      "source": [
        "#Criando um array com as categorias existentes \n",
        "feature_labels = onehotencoder.categories_"
      ],
      "metadata": {
        "id": "OpriFZy6LEdy"
      },
      "execution_count": null,
      "outputs": []
    },
    {
      "cell_type": "code",
      "source": [
        "np.array(feature_labels, dtype=object)"
      ],
      "metadata": {
        "colab": {
          "base_uri": "https://localhost:8080/"
        },
        "id": "dLQCaa_SFPQk",
        "outputId": "055d3754-2ba0-497f-f03e-380a87ae669f"
      },
      "execution_count": null,
      "outputs": [
        {
          "output_type": "execute_result",
          "data": {
            "text/plain": [
              "array([['Backend Developer', 'Data Engineer', 'Data Scientist', 'DevOps',\n",
              "        'Frontend Developer', 'Fullstack Developer', 'Manager',\n",
              "        'Mobile Developer', 'QA Engineer', 'Software Engineer']],\n",
              "      dtype=object)"
            ]
          },
          "metadata": {},
          "execution_count": 395
        }
      ]
    },
    {
      "cell_type": "code",
      "source": [
        "feature_labels = np.array(feature_labels).ravel()\n",
        "print (feature_labels)"
      ],
      "metadata": {
        "colab": {
          "base_uri": "https://localhost:8080/"
        },
        "id": "E4mIyCH9IDml",
        "outputId": "1da9b2a5-123a-44ac-eddf-8377afe7da3d"
      },
      "execution_count": null,
      "outputs": [
        {
          "output_type": "stream",
          "name": "stdout",
          "text": [
            "['Backend Developer' 'Data Engineer' 'Data Scientist' 'DevOps'\n",
            " 'Frontend Developer' 'Fullstack Developer' 'Manager' 'Mobile Developer'\n",
            " 'QA Engineer' 'Software Engineer']\n"
          ]
        }
      ]
    },
    {
      "cell_type": "code",
      "source": [
        "#Criando um dataframe a partir dos dados transormados e das categorias existentes\n",
        "pd.DataFrame(feature_arry, columns=feature_labels)"
      ],
      "metadata": {
        "colab": {
          "base_uri": "https://localhost:8080/",
          "height": 424
        },
        "id": "D7LJ2LYmOFUn",
        "outputId": "308a5f08-ee7d-46b6-a9ea-8e1e7332864f"
      },
      "execution_count": null,
      "outputs": [
        {
          "output_type": "execute_result",
          "data": {
            "text/plain": [
              "      Backend Developer  Data Engineer  Data Scientist  DevOps  \\\n",
              "0                   0.0            0.0             0.0     0.0   \n",
              "1                   1.0            0.0             0.0     0.0   \n",
              "2                   0.0            0.0             0.0     0.0   \n",
              "3                   1.0            0.0             0.0     0.0   \n",
              "4                   1.0            0.0             0.0     0.0   \n",
              "...                 ...            ...             ...     ...   \n",
              "1456                0.0            0.0             1.0     0.0   \n",
              "1457                0.0            0.0             0.0     0.0   \n",
              "1458                0.0            0.0             0.0     0.0   \n",
              "1459                1.0            0.0             0.0     0.0   \n",
              "1460                0.0            0.0             0.0     0.0   \n",
              "\n",
              "      Frontend Developer  Fullstack Developer  Manager  Mobile Developer  \\\n",
              "0                    0.0                  1.0      0.0               0.0   \n",
              "1                    0.0                  0.0      0.0               0.0   \n",
              "2                    0.0                  0.0      0.0               1.0   \n",
              "3                    0.0                  0.0      0.0               0.0   \n",
              "4                    0.0                  0.0      0.0               0.0   \n",
              "...                  ...                  ...      ...               ...   \n",
              "1456                 0.0                  0.0      0.0               0.0   \n",
              "1457                 1.0                  0.0      0.0               0.0   \n",
              "1458                 0.0                  0.0      0.0               0.0   \n",
              "1459                 0.0                  0.0      0.0               0.0   \n",
              "1460                 0.0                  0.0      0.0               0.0   \n",
              "\n",
              "      QA Engineer  Software Engineer  \n",
              "0             0.0                0.0  \n",
              "1             0.0                0.0  \n",
              "2             0.0                0.0  \n",
              "3             0.0                0.0  \n",
              "4             0.0                0.0  \n",
              "...           ...                ...  \n",
              "1456          0.0                0.0  \n",
              "1457          0.0                0.0  \n",
              "1458          0.0                1.0  \n",
              "1459          0.0                0.0  \n",
              "1460          0.0                1.0  \n",
              "\n",
              "[1461 rows x 10 columns]"
            ],
            "text/html": [
              "\n",
              "  <div id=\"df-74b5bd03-504b-400e-8289-71fb4bc128e0\">\n",
              "    <div class=\"colab-df-container\">\n",
              "      <div>\n",
              "<style scoped>\n",
              "    .dataframe tbody tr th:only-of-type {\n",
              "        vertical-align: middle;\n",
              "    }\n",
              "\n",
              "    .dataframe tbody tr th {\n",
              "        vertical-align: top;\n",
              "    }\n",
              "\n",
              "    .dataframe thead th {\n",
              "        text-align: right;\n",
              "    }\n",
              "</style>\n",
              "<table border=\"1\" class=\"dataframe\">\n",
              "  <thead>\n",
              "    <tr style=\"text-align: right;\">\n",
              "      <th></th>\n",
              "      <th>Backend Developer</th>\n",
              "      <th>Data Engineer</th>\n",
              "      <th>Data Scientist</th>\n",
              "      <th>DevOps</th>\n",
              "      <th>Frontend Developer</th>\n",
              "      <th>Fullstack Developer</th>\n",
              "      <th>Manager</th>\n",
              "      <th>Mobile Developer</th>\n",
              "      <th>QA Engineer</th>\n",
              "      <th>Software Engineer</th>\n",
              "    </tr>\n",
              "  </thead>\n",
              "  <tbody>\n",
              "    <tr>\n",
              "      <th>0</th>\n",
              "      <td>0.0</td>\n",
              "      <td>0.0</td>\n",
              "      <td>0.0</td>\n",
              "      <td>0.0</td>\n",
              "      <td>0.0</td>\n",
              "      <td>1.0</td>\n",
              "      <td>0.0</td>\n",
              "      <td>0.0</td>\n",
              "      <td>0.0</td>\n",
              "      <td>0.0</td>\n",
              "    </tr>\n",
              "    <tr>\n",
              "      <th>1</th>\n",
              "      <td>1.0</td>\n",
              "      <td>0.0</td>\n",
              "      <td>0.0</td>\n",
              "      <td>0.0</td>\n",
              "      <td>0.0</td>\n",
              "      <td>0.0</td>\n",
              "      <td>0.0</td>\n",
              "      <td>0.0</td>\n",
              "      <td>0.0</td>\n",
              "      <td>0.0</td>\n",
              "    </tr>\n",
              "    <tr>\n",
              "      <th>2</th>\n",
              "      <td>0.0</td>\n",
              "      <td>0.0</td>\n",
              "      <td>0.0</td>\n",
              "      <td>0.0</td>\n",
              "      <td>0.0</td>\n",
              "      <td>0.0</td>\n",
              "      <td>0.0</td>\n",
              "      <td>1.0</td>\n",
              "      <td>0.0</td>\n",
              "      <td>0.0</td>\n",
              "    </tr>\n",
              "    <tr>\n",
              "      <th>3</th>\n",
              "      <td>1.0</td>\n",
              "      <td>0.0</td>\n",
              "      <td>0.0</td>\n",
              "      <td>0.0</td>\n",
              "      <td>0.0</td>\n",
              "      <td>0.0</td>\n",
              "      <td>0.0</td>\n",
              "      <td>0.0</td>\n",
              "      <td>0.0</td>\n",
              "      <td>0.0</td>\n",
              "    </tr>\n",
              "    <tr>\n",
              "      <th>4</th>\n",
              "      <td>1.0</td>\n",
              "      <td>0.0</td>\n",
              "      <td>0.0</td>\n",
              "      <td>0.0</td>\n",
              "      <td>0.0</td>\n",
              "      <td>0.0</td>\n",
              "      <td>0.0</td>\n",
              "      <td>0.0</td>\n",
              "      <td>0.0</td>\n",
              "      <td>0.0</td>\n",
              "    </tr>\n",
              "    <tr>\n",
              "      <th>...</th>\n",
              "      <td>...</td>\n",
              "      <td>...</td>\n",
              "      <td>...</td>\n",
              "      <td>...</td>\n",
              "      <td>...</td>\n",
              "      <td>...</td>\n",
              "      <td>...</td>\n",
              "      <td>...</td>\n",
              "      <td>...</td>\n",
              "      <td>...</td>\n",
              "    </tr>\n",
              "    <tr>\n",
              "      <th>1456</th>\n",
              "      <td>0.0</td>\n",
              "      <td>0.0</td>\n",
              "      <td>1.0</td>\n",
              "      <td>0.0</td>\n",
              "      <td>0.0</td>\n",
              "      <td>0.0</td>\n",
              "      <td>0.0</td>\n",
              "      <td>0.0</td>\n",
              "      <td>0.0</td>\n",
              "      <td>0.0</td>\n",
              "    </tr>\n",
              "    <tr>\n",
              "      <th>1457</th>\n",
              "      <td>0.0</td>\n",
              "      <td>0.0</td>\n",
              "      <td>0.0</td>\n",
              "      <td>0.0</td>\n",
              "      <td>1.0</td>\n",
              "      <td>0.0</td>\n",
              "      <td>0.0</td>\n",
              "      <td>0.0</td>\n",
              "      <td>0.0</td>\n",
              "      <td>0.0</td>\n",
              "    </tr>\n",
              "    <tr>\n",
              "      <th>1458</th>\n",
              "      <td>0.0</td>\n",
              "      <td>0.0</td>\n",
              "      <td>0.0</td>\n",
              "      <td>0.0</td>\n",
              "      <td>0.0</td>\n",
              "      <td>0.0</td>\n",
              "      <td>0.0</td>\n",
              "      <td>0.0</td>\n",
              "      <td>0.0</td>\n",
              "      <td>1.0</td>\n",
              "    </tr>\n",
              "    <tr>\n",
              "      <th>1459</th>\n",
              "      <td>1.0</td>\n",
              "      <td>0.0</td>\n",
              "      <td>0.0</td>\n",
              "      <td>0.0</td>\n",
              "      <td>0.0</td>\n",
              "      <td>0.0</td>\n",
              "      <td>0.0</td>\n",
              "      <td>0.0</td>\n",
              "      <td>0.0</td>\n",
              "      <td>0.0</td>\n",
              "    </tr>\n",
              "    <tr>\n",
              "      <th>1460</th>\n",
              "      <td>0.0</td>\n",
              "      <td>0.0</td>\n",
              "      <td>0.0</td>\n",
              "      <td>0.0</td>\n",
              "      <td>0.0</td>\n",
              "      <td>0.0</td>\n",
              "      <td>0.0</td>\n",
              "      <td>0.0</td>\n",
              "      <td>0.0</td>\n",
              "      <td>1.0</td>\n",
              "    </tr>\n",
              "  </tbody>\n",
              "</table>\n",
              "<p>1461 rows × 10 columns</p>\n",
              "</div>\n",
              "      <button class=\"colab-df-convert\" onclick=\"convertToInteractive('df-74b5bd03-504b-400e-8289-71fb4bc128e0')\"\n",
              "              title=\"Convert this dataframe to an interactive table.\"\n",
              "              style=\"display:none;\">\n",
              "        \n",
              "  <svg xmlns=\"http://www.w3.org/2000/svg\" height=\"24px\"viewBox=\"0 0 24 24\"\n",
              "       width=\"24px\">\n",
              "    <path d=\"M0 0h24v24H0V0z\" fill=\"none\"/>\n",
              "    <path d=\"M18.56 5.44l.94 2.06.94-2.06 2.06-.94-2.06-.94-.94-2.06-.94 2.06-2.06.94zm-11 1L8.5 8.5l.94-2.06 2.06-.94-2.06-.94L8.5 2.5l-.94 2.06-2.06.94zm10 10l.94 2.06.94-2.06 2.06-.94-2.06-.94-.94-2.06-.94 2.06-2.06.94z\"/><path d=\"M17.41 7.96l-1.37-1.37c-.4-.4-.92-.59-1.43-.59-.52 0-1.04.2-1.43.59L10.3 9.45l-7.72 7.72c-.78.78-.78 2.05 0 2.83L4 21.41c.39.39.9.59 1.41.59.51 0 1.02-.2 1.41-.59l7.78-7.78 2.81-2.81c.8-.78.8-2.07 0-2.86zM5.41 20L4 18.59l7.72-7.72 1.47 1.35L5.41 20z\"/>\n",
              "  </svg>\n",
              "      </button>\n",
              "      \n",
              "  <style>\n",
              "    .colab-df-container {\n",
              "      display:flex;\n",
              "      flex-wrap:wrap;\n",
              "      gap: 12px;\n",
              "    }\n",
              "\n",
              "    .colab-df-convert {\n",
              "      background-color: #E8F0FE;\n",
              "      border: none;\n",
              "      border-radius: 50%;\n",
              "      cursor: pointer;\n",
              "      display: none;\n",
              "      fill: #1967D2;\n",
              "      height: 32px;\n",
              "      padding: 0 0 0 0;\n",
              "      width: 32px;\n",
              "    }\n",
              "\n",
              "    .colab-df-convert:hover {\n",
              "      background-color: #E2EBFA;\n",
              "      box-shadow: 0px 1px 2px rgba(60, 64, 67, 0.3), 0px 1px 3px 1px rgba(60, 64, 67, 0.15);\n",
              "      fill: #174EA6;\n",
              "    }\n",
              "\n",
              "    [theme=dark] .colab-df-convert {\n",
              "      background-color: #3B4455;\n",
              "      fill: #D2E3FC;\n",
              "    }\n",
              "\n",
              "    [theme=dark] .colab-df-convert:hover {\n",
              "      background-color: #434B5C;\n",
              "      box-shadow: 0px 1px 3px 1px rgba(0, 0, 0, 0.15);\n",
              "      filter: drop-shadow(0px 1px 2px rgba(0, 0, 0, 0.3));\n",
              "      fill: #FFFFFF;\n",
              "    }\n",
              "  </style>\n",
              "\n",
              "      <script>\n",
              "        const buttonEl =\n",
              "          document.querySelector('#df-74b5bd03-504b-400e-8289-71fb4bc128e0 button.colab-df-convert');\n",
              "        buttonEl.style.display =\n",
              "          google.colab.kernel.accessAllowed ? 'block' : 'none';\n",
              "\n",
              "        async function convertToInteractive(key) {\n",
              "          const element = document.querySelector('#df-74b5bd03-504b-400e-8289-71fb4bc128e0');\n",
              "          const dataTable =\n",
              "            await google.colab.kernel.invokeFunction('convertToInteractive',\n",
              "                                                     [key], {});\n",
              "          if (!dataTable) return;\n",
              "\n",
              "          const docLinkHtml = 'Like what you see? Visit the ' +\n",
              "            '<a target=\"_blank\" href=https://colab.research.google.com/notebooks/data_table.ipynb>data table notebook</a>'\n",
              "            + ' to learn more about interactive tables.';\n",
              "          element.innerHTML = '';\n",
              "          dataTable['output_type'] = 'display_data';\n",
              "          await google.colab.output.renderOutput(dataTable, element);\n",
              "          const docLink = document.createElement('div');\n",
              "          docLink.innerHTML = docLinkHtml;\n",
              "          element.appendChild(docLink);\n",
              "        }\n",
              "      </script>\n",
              "    </div>\n",
              "  </div>\n",
              "  "
            ]
          },
          "metadata": {},
          "execution_count": 397
        }
      ]
    },
    {
      "cell_type": "markdown",
      "source": [
        "### - Gender"
      ],
      "metadata": {
        "id": "Julbd2tbPAG9"
      }
    },
    {
      "cell_type": "markdown",
      "source": [
        "Os mesmos passos realizados para o OneHot Encoding do cargo (Position) foram realizados para o gênero"
      ],
      "metadata": {
        "id": "LLX8NPNvMzqv"
      }
    },
    {
      "cell_type": "code",
      "source": [
        "from sklearn.preprocessing import OneHotEncoder"
      ],
      "metadata": {
        "id": "PkwwakubPAG9"
      },
      "execution_count": null,
      "outputs": []
    },
    {
      "cell_type": "code",
      "source": [
        "onehotencoder = OneHotEncoder()"
      ],
      "metadata": {
        "id": "vsRF_sPGPAG9"
      },
      "execution_count": null,
      "outputs": []
    },
    {
      "cell_type": "code",
      "source": [
        "feature_arry = onehotencoder.fit_transform(df_test_ordinal[['Gender']]).toarray()"
      ],
      "metadata": {
        "id": "bkno175YPAG9"
      },
      "execution_count": null,
      "outputs": []
    },
    {
      "cell_type": "code",
      "source": [
        "onehotencoder.categories_"
      ],
      "metadata": {
        "colab": {
          "base_uri": "https://localhost:8080/"
        },
        "outputId": "da0f6abb-c5b6-4f95-f739-3dc9a98cdc34",
        "id": "DCLtRikQPAG-"
      },
      "execution_count": null,
      "outputs": [
        {
          "output_type": "execute_result",
          "data": {
            "text/plain": [
              "[array(['Diverse', 'Female', 'Male', nan], dtype=object)]"
            ]
          },
          "metadata": {},
          "execution_count": 401
        }
      ]
    },
    {
      "cell_type": "code",
      "source": [
        "feature_labels = onehotencoder.categories_"
      ],
      "metadata": {
        "id": "Z9D6DnNgPAG-"
      },
      "execution_count": null,
      "outputs": []
    },
    {
      "cell_type": "code",
      "source": [
        "np.array(feature_labels, dtype=object)"
      ],
      "metadata": {
        "colab": {
          "base_uri": "https://localhost:8080/"
        },
        "outputId": "e859d39b-107f-47ff-8c66-49943189a9ac",
        "id": "HJaP9SWcPAG-"
      },
      "execution_count": null,
      "outputs": [
        {
          "output_type": "execute_result",
          "data": {
            "text/plain": [
              "array([['Diverse', 'Female', 'Male', nan]], dtype=object)"
            ]
          },
          "metadata": {},
          "execution_count": 403
        }
      ]
    },
    {
      "cell_type": "code",
      "source": [
        "feature_labels = np.array(feature_labels).ravel()\n",
        "print (feature_labels)"
      ],
      "metadata": {
        "colab": {
          "base_uri": "https://localhost:8080/"
        },
        "outputId": "15ff08cc-d870-4bce-ae98-da6727edd4c9",
        "id": "U84DdPIwPAG-"
      },
      "execution_count": null,
      "outputs": [
        {
          "output_type": "stream",
          "name": "stdout",
          "text": [
            "['Diverse' 'Female' 'Male' nan]\n"
          ]
        }
      ]
    },
    {
      "cell_type": "code",
      "source": [
        "pd.DataFrame(feature_arry, columns=feature_labels)"
      ],
      "metadata": {
        "colab": {
          "base_uri": "https://localhost:8080/",
          "height": 424
        },
        "outputId": "744b0da7-3d4c-4812-cc51-ad6f16c82997",
        "id": "zHxuDpcMPAG-"
      },
      "execution_count": null,
      "outputs": [
        {
          "output_type": "execute_result",
          "data": {
            "text/plain": [
              "      Diverse  Female  Male  NaN\n",
              "0         0.0     0.0   1.0  0.0\n",
              "1         0.0     0.0   1.0  0.0\n",
              "2         0.0     0.0   1.0  0.0\n",
              "3         0.0     0.0   1.0  0.0\n",
              "4         0.0     0.0   1.0  0.0\n",
              "...       ...     ...   ...  ...\n",
              "1456      0.0     0.0   1.0  0.0\n",
              "1457      0.0     1.0   0.0  0.0\n",
              "1458      0.0     0.0   1.0  0.0\n",
              "1459      0.0     0.0   1.0  0.0\n",
              "1460      0.0     0.0   1.0  0.0\n",
              "\n",
              "[1461 rows x 4 columns]"
            ],
            "text/html": [
              "\n",
              "  <div id=\"df-dc58f79f-7606-4425-9934-2b07bf22eaff\">\n",
              "    <div class=\"colab-df-container\">\n",
              "      <div>\n",
              "<style scoped>\n",
              "    .dataframe tbody tr th:only-of-type {\n",
              "        vertical-align: middle;\n",
              "    }\n",
              "\n",
              "    .dataframe tbody tr th {\n",
              "        vertical-align: top;\n",
              "    }\n",
              "\n",
              "    .dataframe thead th {\n",
              "        text-align: right;\n",
              "    }\n",
              "</style>\n",
              "<table border=\"1\" class=\"dataframe\">\n",
              "  <thead>\n",
              "    <tr style=\"text-align: right;\">\n",
              "      <th></th>\n",
              "      <th>Diverse</th>\n",
              "      <th>Female</th>\n",
              "      <th>Male</th>\n",
              "      <th>NaN</th>\n",
              "    </tr>\n",
              "  </thead>\n",
              "  <tbody>\n",
              "    <tr>\n",
              "      <th>0</th>\n",
              "      <td>0.0</td>\n",
              "      <td>0.0</td>\n",
              "      <td>1.0</td>\n",
              "      <td>0.0</td>\n",
              "    </tr>\n",
              "    <tr>\n",
              "      <th>1</th>\n",
              "      <td>0.0</td>\n",
              "      <td>0.0</td>\n",
              "      <td>1.0</td>\n",
              "      <td>0.0</td>\n",
              "    </tr>\n",
              "    <tr>\n",
              "      <th>2</th>\n",
              "      <td>0.0</td>\n",
              "      <td>0.0</td>\n",
              "      <td>1.0</td>\n",
              "      <td>0.0</td>\n",
              "    </tr>\n",
              "    <tr>\n",
              "      <th>3</th>\n",
              "      <td>0.0</td>\n",
              "      <td>0.0</td>\n",
              "      <td>1.0</td>\n",
              "      <td>0.0</td>\n",
              "    </tr>\n",
              "    <tr>\n",
              "      <th>4</th>\n",
              "      <td>0.0</td>\n",
              "      <td>0.0</td>\n",
              "      <td>1.0</td>\n",
              "      <td>0.0</td>\n",
              "    </tr>\n",
              "    <tr>\n",
              "      <th>...</th>\n",
              "      <td>...</td>\n",
              "      <td>...</td>\n",
              "      <td>...</td>\n",
              "      <td>...</td>\n",
              "    </tr>\n",
              "    <tr>\n",
              "      <th>1456</th>\n",
              "      <td>0.0</td>\n",
              "      <td>0.0</td>\n",
              "      <td>1.0</td>\n",
              "      <td>0.0</td>\n",
              "    </tr>\n",
              "    <tr>\n",
              "      <th>1457</th>\n",
              "      <td>0.0</td>\n",
              "      <td>1.0</td>\n",
              "      <td>0.0</td>\n",
              "      <td>0.0</td>\n",
              "    </tr>\n",
              "    <tr>\n",
              "      <th>1458</th>\n",
              "      <td>0.0</td>\n",
              "      <td>0.0</td>\n",
              "      <td>1.0</td>\n",
              "      <td>0.0</td>\n",
              "    </tr>\n",
              "    <tr>\n",
              "      <th>1459</th>\n",
              "      <td>0.0</td>\n",
              "      <td>0.0</td>\n",
              "      <td>1.0</td>\n",
              "      <td>0.0</td>\n",
              "    </tr>\n",
              "    <tr>\n",
              "      <th>1460</th>\n",
              "      <td>0.0</td>\n",
              "      <td>0.0</td>\n",
              "      <td>1.0</td>\n",
              "      <td>0.0</td>\n",
              "    </tr>\n",
              "  </tbody>\n",
              "</table>\n",
              "<p>1461 rows × 4 columns</p>\n",
              "</div>\n",
              "      <button class=\"colab-df-convert\" onclick=\"convertToInteractive('df-dc58f79f-7606-4425-9934-2b07bf22eaff')\"\n",
              "              title=\"Convert this dataframe to an interactive table.\"\n",
              "              style=\"display:none;\">\n",
              "        \n",
              "  <svg xmlns=\"http://www.w3.org/2000/svg\" height=\"24px\"viewBox=\"0 0 24 24\"\n",
              "       width=\"24px\">\n",
              "    <path d=\"M0 0h24v24H0V0z\" fill=\"none\"/>\n",
              "    <path d=\"M18.56 5.44l.94 2.06.94-2.06 2.06-.94-2.06-.94-.94-2.06-.94 2.06-2.06.94zm-11 1L8.5 8.5l.94-2.06 2.06-.94-2.06-.94L8.5 2.5l-.94 2.06-2.06.94zm10 10l.94 2.06.94-2.06 2.06-.94-2.06-.94-.94-2.06-.94 2.06-2.06.94z\"/><path d=\"M17.41 7.96l-1.37-1.37c-.4-.4-.92-.59-1.43-.59-.52 0-1.04.2-1.43.59L10.3 9.45l-7.72 7.72c-.78.78-.78 2.05 0 2.83L4 21.41c.39.39.9.59 1.41.59.51 0 1.02-.2 1.41-.59l7.78-7.78 2.81-2.81c.8-.78.8-2.07 0-2.86zM5.41 20L4 18.59l7.72-7.72 1.47 1.35L5.41 20z\"/>\n",
              "  </svg>\n",
              "      </button>\n",
              "      \n",
              "  <style>\n",
              "    .colab-df-container {\n",
              "      display:flex;\n",
              "      flex-wrap:wrap;\n",
              "      gap: 12px;\n",
              "    }\n",
              "\n",
              "    .colab-df-convert {\n",
              "      background-color: #E8F0FE;\n",
              "      border: none;\n",
              "      border-radius: 50%;\n",
              "      cursor: pointer;\n",
              "      display: none;\n",
              "      fill: #1967D2;\n",
              "      height: 32px;\n",
              "      padding: 0 0 0 0;\n",
              "      width: 32px;\n",
              "    }\n",
              "\n",
              "    .colab-df-convert:hover {\n",
              "      background-color: #E2EBFA;\n",
              "      box-shadow: 0px 1px 2px rgba(60, 64, 67, 0.3), 0px 1px 3px 1px rgba(60, 64, 67, 0.15);\n",
              "      fill: #174EA6;\n",
              "    }\n",
              "\n",
              "    [theme=dark] .colab-df-convert {\n",
              "      background-color: #3B4455;\n",
              "      fill: #D2E3FC;\n",
              "    }\n",
              "\n",
              "    [theme=dark] .colab-df-convert:hover {\n",
              "      background-color: #434B5C;\n",
              "      box-shadow: 0px 1px 3px 1px rgba(0, 0, 0, 0.15);\n",
              "      filter: drop-shadow(0px 1px 2px rgba(0, 0, 0, 0.3));\n",
              "      fill: #FFFFFF;\n",
              "    }\n",
              "  </style>\n",
              "\n",
              "      <script>\n",
              "        const buttonEl =\n",
              "          document.querySelector('#df-dc58f79f-7606-4425-9934-2b07bf22eaff button.colab-df-convert');\n",
              "        buttonEl.style.display =\n",
              "          google.colab.kernel.accessAllowed ? 'block' : 'none';\n",
              "\n",
              "        async function convertToInteractive(key) {\n",
              "          const element = document.querySelector('#df-dc58f79f-7606-4425-9934-2b07bf22eaff');\n",
              "          const dataTable =\n",
              "            await google.colab.kernel.invokeFunction('convertToInteractive',\n",
              "                                                     [key], {});\n",
              "          if (!dataTable) return;\n",
              "\n",
              "          const docLinkHtml = 'Like what you see? Visit the ' +\n",
              "            '<a target=\"_blank\" href=https://colab.research.google.com/notebooks/data_table.ipynb>data table notebook</a>'\n",
              "            + ' to learn more about interactive tables.';\n",
              "          element.innerHTML = '';\n",
              "          dataTable['output_type'] = 'display_data';\n",
              "          await google.colab.output.renderOutput(dataTable, element);\n",
              "          const docLink = document.createElement('div');\n",
              "          docLink.innerHTML = docLinkHtml;\n",
              "          element.appendChild(docLink);\n",
              "        }\n",
              "      </script>\n",
              "    </div>\n",
              "  </div>\n",
              "  "
            ]
          },
          "metadata": {},
          "execution_count": 405
        }
      ]
    },
    {
      "cell_type": "markdown",
      "source": [
        "# -Convertendo variáveis numéricas "
      ],
      "metadata": {
        "id": "fgfSOUqNPdFh"
      }
    },
    {
      "cell_type": "markdown",
      "source": [
        "### MinMax Scaler ('Annual bruto salary one year ago (same country)')"
      ],
      "metadata": {
        "id": "r8vzY9-JP6rc"
      }
    },
    {
      "cell_type": "code",
      "source": [
        "#Criando uma cópia do dataframe de dados nulos tratados para as análises\n",
        "df_test_num = df_tratado_na.copy(deep = True)"
      ],
      "metadata": {
        "id": "zvGra1vdDYaK"
      },
      "execution_count": null,
      "outputs": []
    },
    {
      "cell_type": "code",
      "source": [
        "df_tratado_na['Annual bruto salary one year ago (same country)'].describe().round(1)"
      ],
      "metadata": {
        "colab": {
          "base_uri": "https://localhost:8080/"
        },
        "id": "U1y4ThwCQuPC",
        "outputId": "7e9ab990-cbb6-4f99-f7d2-4e2dc3880cf4"
      },
      "execution_count": null,
      "outputs": [
        {
          "output_type": "execute_result",
          "data": {
            "text/plain": [
              "count      1461.0\n",
              "mean      63796.0\n",
              "std       11911.8\n",
              "min       30000.0\n",
              "25%       55000.0\n",
              "50%       65000.0\n",
              "75%       70000.0\n",
              "max      104000.0\n",
              "Name: Annual bruto salary one year ago (same country), dtype: float64"
            ]
          },
          "metadata": {},
          "execution_count": 407
        }
      ]
    },
    {
      "cell_type": "code",
      "source": [
        "from sklearn.preprocessing import MinMaxScaler"
      ],
      "metadata": {
        "id": "T1pUh4VaR6Gt"
      },
      "execution_count": null,
      "outputs": []
    },
    {
      "cell_type": "code",
      "source": [
        "scaler = MinMaxScaler()\n",
        "df_test_num[['Annual bruto salary one year ago (same country)']] = scaler.fit_transform(df_test_num[['Annual bruto salary one year ago (same country)']])"
      ],
      "metadata": {
        "id": "LRv671SZSFJJ"
      },
      "execution_count": null,
      "outputs": []
    },
    {
      "cell_type": "code",
      "source": [
        "#Informações após o rescaling aplicado\n",
        "df_test_num['Annual bruto salary one year ago (same country)'].describe().round(1)"
      ],
      "metadata": {
        "colab": {
          "base_uri": "https://localhost:8080/"
        },
        "id": "Z3k0Q7R_SunW",
        "outputId": "2367c06a-9d4d-424c-9fe3-6e64497b2531"
      },
      "execution_count": null,
      "outputs": [
        {
          "output_type": "execute_result",
          "data": {
            "text/plain": [
              "count    1461.0\n",
              "mean        0.5\n",
              "std         0.2\n",
              "min         0.0\n",
              "25%         0.3\n",
              "50%         0.5\n",
              "75%         0.5\n",
              "max         1.0\n",
              "Name: Annual bruto salary one year ago (same country), dtype: float64"
            ]
          },
          "metadata": {},
          "execution_count": 410
        }
      ]
    },
    {
      "cell_type": "code",
      "source": [
        "#Análise gráfica do comportamento dos dados antes e após o rescaling\n",
        "import matplotlib.pyplot as plt\n",
        "figure, axis = plt.subplots(2, 2 , figsize= ( 20 , 15)) \n",
        "sns.barplot(ax=axis[0,0], x ='Seniority level', y ='Annual bruto salary one year ago (same country)', data = df_tratado_na,\n",
        "            palette ='plasma', estimator = np.std);\n",
        "axis[0, 0].set_title(\"Salário por senioridade sem rescaling\") ;\n",
        "sns.histplot(ax=axis[0,1], data = df_tratado_na['Annual bruto salary one year ago (same country)'] ,kde = True , binwidth=5000);\n",
        "axis[0, 1].set_title(\"Histograma dos salários sem rescaling\");\n",
        "sns.barplot(ax=axis[1,0], x ='Seniority level', y ='Annual bruto salary one year ago (same country)', data = df_test_num,\n",
        "            palette ='plasma', estimator = np.std);\n",
        "axis[1, 0].set_title(\"Salário por senioridade: MinMaxScaler\");\n",
        "sns.histplot(ax=axis[1,1], data = df_test_num['Annual bruto salary one year ago (same country)'] ,kde = True , binwidth=0.1);\n",
        "axis[1, 1].set_title(\"Histograma dos salários com rescaling\");"
      ],
      "metadata": {
        "colab": {
          "base_uri": "https://localhost:8080/"
        },
        "id": "OWa-C4-pEIrc",
        "outputId": "c47c757a-c197-4879-8bdc-4472e3dc8d7d"
      },
      "execution_count": null,
      "outputs": [
        {
          "output_type": "display_data",
          "data": {
            "text/plain": [
              "<Figure size 1440x1080 with 4 Axes>"
            ],
            "image/png": "[encoded data removed]"
          },
          "metadata": {
            "needs_background": "light"
          }
        }
      ]
    },
    {
      "cell_type": "markdown",
      "source": [
        "É possível notar que o uso do MinMax Scaler não altera o comportamento dos dados, apenas os adequando à nova escala de estudo."
      ],
      "metadata": {
        "id": "jmZ_9aLiHI_j"
      }
    },
    {
      "cell_type": "markdown",
      "source": [
        "### Standart Scaler ('Total years of experience')"
      ],
      "metadata": {
        "id": "K112QO5WsJ5Y"
      }
    },
    {
      "cell_type": "code",
      "source": [
        "df_tratado_na['Total years of experience'].describe().round(1)"
      ],
      "metadata": {
        "colab": {
          "base_uri": "https://localhost:8080/"
        },
        "id": "G-HinL2-xq0r",
        "outputId": "46b6104a-338e-40d5-d3c0-c9cb6654e781"
      },
      "execution_count": null,
      "outputs": [
        {
          "output_type": "execute_result",
          "data": {
            "text/plain": [
              "count    1461.0\n",
              "mean        8.6\n",
              "std         5.1\n",
              "min         0.0\n",
              "25%         5.0\n",
              "50%         8.0\n",
              "75%        11.0\n",
              "max        40.0\n",
              "Name: Total years of experience, dtype: float64"
            ]
          },
          "metadata": {},
          "execution_count": 412
        }
      ]
    },
    {
      "cell_type": "code",
      "source": [
        "from sklearn.preprocessing import StandardScaler"
      ],
      "metadata": {
        "id": "zBUp2dNe920O"
      },
      "execution_count": null,
      "outputs": []
    },
    {
      "cell_type": "code",
      "source": [
        "#Criando a variável de transformação \n",
        "std_scaler = StandardScaler()"
      ],
      "metadata": {
        "id": "Vt5bPd9K9-AA"
      },
      "execution_count": null,
      "outputs": []
    },
    {
      "cell_type": "code",
      "source": [
        "#Aplicando o rescaling na coluna de anos de experiência\n",
        "df_test_num[['Total years of experience']] = std_scaler.fit_transform(df_test_num[['Total years of experience']])"
      ],
      "metadata": {
        "id": "8T6JcfXP-CsP"
      },
      "execution_count": null,
      "outputs": []
    },
    {
      "cell_type": "code",
      "source": [
        "df_test_num['Total years of experience'].describe().round(1)"
      ],
      "metadata": {
        "colab": {
          "base_uri": "https://localhost:8080/"
        },
        "id": "fo37LjnC-NC_",
        "outputId": "811c8f9d-a989-4b61-e5b5-a201f6d99f4e"
      },
      "execution_count": null,
      "outputs": [
        {
          "output_type": "execute_result",
          "data": {
            "text/plain": [
              "count    1461.0\n",
              "mean        0.0\n",
              "std         1.0\n",
              "min        -1.7\n",
              "25%        -0.7\n",
              "50%        -0.1\n",
              "75%         0.5\n",
              "max         6.2\n",
              "Name: Total years of experience, dtype: float64"
            ]
          },
          "metadata": {},
          "execution_count": 416
        }
      ]
    },
    {
      "cell_type": "markdown",
      "source": [
        "Percebe-se que após a aplicação do Standart Scaler, a média da amostra se transforma em 0"
      ],
      "metadata": {
        "id": "XXmxEPv8K0Ho"
      }
    },
    {
      "cell_type": "code",
      "source": [
        "figure, axis = plt.subplots(1, 2 , figsize= ( 20 , 10)) \n",
        "sns.histplot(ax=axis[0], data = df_tratado_na['Total years of experience'] ,kde = True , binwidth=1);\n",
        "axis[0].set_title(\"Histograma dos anos de experiência sem rescaling\") ;\n",
        "sns.histplot(ax=axis[1], data = df_test_num['Total years of experience'] ,kde = True , binwidth=0.2);\n",
        "axis[1].set_title(\"Histograma dos anos de experiência com rescaling\");"
      ],
      "metadata": {
        "colab": {
          "base_uri": "https://localhost:8080/",
          "height": 621
        },
        "id": "WP8Y7a_XHsob",
        "outputId": "e2ae620e-37b2-457e-c9d8-08aa52be43de"
      },
      "execution_count": null,
      "outputs": [
        {
          "output_type": "display_data",
          "data": {
            "text/plain": [
              "<Figure size 1440x720 with 2 Axes>"
            ],
            "image/png": "[encoded data removed]"
          },
          "metadata": {
            "needs_background": "light"
          }
        }
      ]
    },
    {
      "cell_type": "markdown",
      "source": [
        "Apesar da aplicação do rescaling nos dados, o comportamento se apresenta semelhante ao original, de modo que os dados foram rearranjados para se encontrarem com a média 0"
      ],
      "metadata": {
        "id": "09bZbWh6LBna"
      }
    },
    {
      "cell_type": "markdown",
      "source": [
        "#-Discretização das variáveis idade e salário"
      ],
      "metadata": {
        "id": "UTMfgGMaQ8yO"
      }
    },
    {
      "cell_type": "code",
      "source": [
        "#Importando a biblioteca e criando as variáveis de parâmetro\n",
        "from sklearn.preprocessing import KBinsDiscretizer\n",
        "kbins_uniforme = KBinsDiscretizer(n_bins=20, encode='ordinal', strategy='uniform')\n",
        "kbins_quantile = KBinsDiscretizer(n_bins=4, encode='ordinal', strategy='quantile')"
      ],
      "metadata": {
        "id": "F7isXcSoRDcc"
      },
      "execution_count": null,
      "outputs": []
    },
    {
      "cell_type": "code",
      "source": [
        "#Criando uma cópia do dataframe com os dados nulos tratados\n",
        "data_trans = df_tratado_na.copy(deep = True)"
      ],
      "metadata": {
        "id": "tdAxPcucRl8_"
      },
      "execution_count": null,
      "outputs": []
    },
    {
      "cell_type": "code",
      "source": [
        "#Aplicando as discretizações ao salário bruto anual\n",
        "data_trans_uniform_salario= kbins_uniforme.fit_transform(data_trans[['Annual bruto salary one year ago (same country)']])\n",
        "data_trans_quantile_salario= kbins_quantile.fit_transform(data_trans[['Annual bruto salary one year ago (same country)']])"
      ],
      "metadata": {
        "id": "NXQLVJqkRPsx",
        "colab": {
          "base_uri": "https://localhost:8080/"
        },
        "outputId": "e031fd75-8217-49cf-e4b4-e2b7758d86f5"
      },
      "execution_count": null,
      "outputs": [
        {
          "output_type": "execute_result",
          "data": {
            "text/plain": [
              "(1461, 1)"
            ]
          },
          "metadata": {},
          "execution_count": 452
        }
      ]
    },
    {
      "cell_type": "code",
      "source": [
        "#Aplicando as discretizações à idade \n",
        "data_trans_uniform_age= kbins_uniforme.fit_transform(data_trans[['Age']])\n",
        "data_trans_quantile_age= kbins_quantile.fit_transform(data_trans[['Age']])"
      ],
      "metadata": {
        "colab": {
          "base_uri": "https://localhost:8080/"
        },
        "id": "WJ2Eua0fulL0",
        "outputId": "b645297b-af18-4fe5-e88f-8f100d3e55ea"
      },
      "execution_count": null,
      "outputs": [
        {
          "output_type": "execute_result",
          "data": {
            "text/plain": [
              "(1461, 1)"
            ]
          },
          "metadata": {},
          "execution_count": 450
        }
      ]
    },
    {
      "cell_type": "code",
      "source": [
        "dados = np.array([data_trans_uniform_salario , data_trans_quantile_salario , data_trans_uniform_age , data_trans_quantile_age])\n",
        "dados.reshape(4, 1461)\n",
        "labels = np.array(['Salário Uniform' , 'Salário Quantile' , 'Idade Uniform' , 'Idade Qantile']).ravel()\n",
        "dados.shape\n",
        "#df_discretizado = pd.DataFrame(dados , columns = labels)"
      ],
      "metadata": {
        "colab": {
          "base_uri": "https://localhost:8080/"
        },
        "id": "ZhKYUsieQ9kL",
        "outputId": "e4e2467d-3f74-43e0-da5d-272a7c65ef23"
      },
      "execution_count": null,
      "outputs": [
        {
          "output_type": "execute_result",
          "data": {
            "text/plain": [
              "(4, 1461, 1)"
            ]
          },
          "metadata": {},
          "execution_count": 456
        }
      ]
    },
    {
      "cell_type": "code",
      "source": [
        "#Criando as vizualizações gráficas\n",
        "import matplotlib.pyplot as plt\n",
        "figure, axis = plt.subplots(2, 3 , figsize= ( 30 , 10)) \n",
        "sns.histplot(ax=axis[0,0], data = df_tratado_na['Annual bruto salary one year ago (same country)'],kde = True , binwidth=5000);\n",
        "axis[0, 0].set_title(\"Salário sem discretização\") ;\n",
        "sns.histplot(ax=axis[0,1], data = data_trans_uniform_salario,kde = True , binwidth=1);\n",
        "axis[0, 1].set_title(\"Salário com discretização Uniform\");\n",
        "sns.histplot(ax=axis[0,2], data = data_trans_quantile_salario,kde = True , binwidth=0.5);\n",
        "axis[0, 2].set_title(\"Salário com discretização Quantile\");\n",
        "sns.histplot(ax=axis[1,0], data = df_tratado_na['Age'],kde = True , binwidth=1);\n",
        "axis[1, 0].set_title(\"Idade sem discretização\");\n",
        "sns.histplot(ax=axis[1,1], data = data_trans_uniform_age,kde = True , binwidth=1);\n",
        "axis[1, 1].set_title(\"Idade com discretização Uniform\");\n",
        "sns.histplot(ax=axis[1,2], data = data_trans_quantile_age,kde = True , binwidth=0.5);\n",
        "axis[1, 2].set_title(\"Idade com discretização Quantile\");"
      ],
      "metadata": {
        "colab": {
          "base_uri": "https://localhost:8080/",
          "height": 621
        },
        "id": "kilQNZpVxmGS",
        "outputId": "5073d742-d001-412d-b25d-76aba3e9b075"
      },
      "execution_count": null,
      "outputs": [
        {
          "output_type": "display_data",
          "data": {
            "text/plain": [
              "<Figure size 2160x720 with 6 Axes>"
            ],
            "image/png": "[encoded data removed]"
          },
          "metadata": {
            "needs_background": "light"
          }
        }
      ]
    },
    {
      "cell_type": "markdown",
      "source": [
        "É possível perceber para ambos os casos que a discretização uniforme preserva o comportamento da distribuição dos dados, apenas os agrupando uniformemente dentre as divisões criadas, já a distribuição quantile agrupa os dados pertencentes aos quantis solicitados, para esse caso foram solicitados 4 quantis. "
      ],
      "metadata": {
        "id": "lRF8PwLhQfFt"
      }
    }
  ]
}